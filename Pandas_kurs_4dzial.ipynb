{
 "cells": [
  {
   "cell_type": "markdown",
   "id": "92426781",
   "metadata": {},
   "source": [
    "## Ręczne tworzenie Data Series"
   ]
  },
  {
   "cell_type": "code",
   "execution_count": 1,
   "id": "27ebc9d3",
   "metadata": {},
   "outputs": [],
   "source": [
    "import numpy as np\n",
    "import pandas as pd\n",
    "import matplotlib.pyplot as plt\n",
    "import math as math"
   ]
  },
  {
   "cell_type": "code",
   "execution_count": 2,
   "id": "8f1cb2b7",
   "metadata": {},
   "outputs": [],
   "source": [
    "cities = ['London', 'Berlin', 'Warsaw', 'Paris']"
   ]
  },
  {
   "cell_type": "code",
   "execution_count": 3,
   "id": "c456436e",
   "metadata": {},
   "outputs": [
    {
     "data": {
      "text/plain": [
       "0    London\n",
       "1    Berlin\n",
       "2    Warsaw\n",
       "3     Paris\n",
       "dtype: object"
      ]
     },
     "execution_count": 3,
     "metadata": {},
     "output_type": "execute_result"
    }
   ],
   "source": [
    "citiesSeries = pd.Series(cities)\n",
    "citiesSeries"
   ]
  },
  {
   "cell_type": "code",
   "execution_count": 4,
   "id": "59fd07a4",
   "metadata": {},
   "outputs": [
    {
     "data": {
      "text/plain": [
       "0    London\n",
       "1    Berlin\n",
       "2    Warsaw\n",
       "3     Paris\n",
       "dtype: object"
      ]
     },
     "execution_count": 4,
     "metadata": {},
     "output_type": "execute_result"
    }
   ],
   "source": [
    "pd.Series(cities)"
   ]
  },
  {
   "cell_type": "code",
   "execution_count": 5,
   "id": "9e858611",
   "metadata": {},
   "outputs": [
    {
     "data": {
      "text/plain": [
       "0     2\n",
       "1     3\n",
       "2     5\n",
       "3     7\n",
       "4    11\n",
       "5    13\n",
       "6    17\n",
       "7    19\n",
       "dtype: int64"
      ]
     },
     "execution_count": 5,
     "metadata": {},
     "output_type": "execute_result"
    }
   ],
   "source": [
    "primeNumbers = (2, 3, 5, 7, 11, 13, 17, 19)\n",
    "pd.Series(primeNumbers)"
   ]
  },
  {
   "cell_type": "code",
   "execution_count": 6,
   "id": "e4669efc",
   "metadata": {},
   "outputs": [],
   "source": [
    "logicalValues = [True, True, True]"
   ]
  },
  {
   "cell_type": "code",
   "execution_count": 7,
   "id": "6bba938a",
   "metadata": {},
   "outputs": [
    {
     "data": {
      "text/plain": [
       "0    True\n",
       "1    True\n",
       "2    True\n",
       "dtype: bool"
      ]
     },
     "execution_count": 7,
     "metadata": {},
     "output_type": "execute_result"
    }
   ],
   "source": [
    "pd.Series(logicalValues)"
   ]
  },
  {
   "cell_type": "code",
   "execution_count": 8,
   "id": "be4813ae",
   "metadata": {},
   "outputs": [],
   "source": [
    "SpielbergFilmography = {'Jaws' : 1975,\n",
    "                        '1941' : 1979,\n",
    "                        'Indiana Jones and the Raiders of the Lost Ark' : 1981,\n",
    "                        'E.T. - the Extra-Terrestrial' : 1982} #słownik: film : data premiery"
   ]
  },
  {
   "cell_type": "code",
   "execution_count": 9,
   "id": "b78a41bb",
   "metadata": {},
   "outputs": [
    {
     "data": {
      "text/plain": [
       "{'Jaws': 1975,\n",
       " '1941': 1979,\n",
       " 'Indiana Jones and the Raiders of the Lost Ark': 1981,\n",
       " 'E.T. - the Extra-Terrestrial': 1982}"
      ]
     },
     "execution_count": 9,
     "metadata": {},
     "output_type": "execute_result"
    }
   ],
   "source": [
    "SpielbergFilmography #tabela haszowana"
   ]
  },
  {
   "cell_type": "code",
   "execution_count": 10,
   "id": "4a7e93ba",
   "metadata": {},
   "outputs": [
    {
     "data": {
      "text/plain": [
       "Jaws                                             1975\n",
       "1941                                             1979\n",
       "Indiana Jones and the Raiders of the Lost Ark    1981\n",
       "E.T. - the Extra-Terrestrial                     1982\n",
       "dtype: int64"
      ]
     },
     "execution_count": 10,
     "metadata": {},
     "output_type": "execute_result"
    }
   ],
   "source": [
    "pd.Series(SpielbergFilmography) #indeksem stały się etykiety podane w tabeli haszowanej, jeżeli chcemy zrobić obiekt serii, \n",
    "#który posiada własne etykiety na dane i nie opiera sięo automatyczne numery wierszy, to dajemy tabele haszowane"
   ]
  },
  {
   "cell_type": "code",
   "execution_count": 11,
   "id": "8e072b93",
   "metadata": {},
   "outputs": [],
   "source": [
    "#pd.Series(list) lub pd.Series(hashTable)"
   ]
  },
  {
   "cell_type": "markdown",
   "id": "067b07ff",
   "metadata": {},
   "source": [
    "## Artybuty Data Series\n",
    "Jak każdy element Data Series posiada atrybuty i metody\n",
    "Artybut - z zał. wartość którą dany przykład posiada\n",
    "Zmiana obiektu samego w sobie odbywa się poprzez wywołanie metody\n",
    "Metode wywoluje sie stawiajac kropke, wpisujac metode i dodajac nawiasy okragle"
   ]
  },
  {
   "cell_type": "code",
   "execution_count": 12,
   "id": "00bc8f7c",
   "metadata": {},
   "outputs": [
    {
     "data": {
      "text/plain": [
       "4"
      ]
     },
     "execution_count": 12,
     "metadata": {},
     "output_type": "execute_result"
    }
   ],
   "source": [
    "citiesSeries.size #ile elementów znajduje się w środku, długość/wielkość obiektu - atrybut"
   ]
  },
  {
   "cell_type": "code",
   "execution_count": 13,
   "id": "fbe6fbd8",
   "metadata": {},
   "outputs": [
    {
     "data": {
      "text/plain": [
       "32"
      ]
     },
     "execution_count": 13,
     "metadata": {},
     "output_type": "execute_result"
    }
   ],
   "source": [
    "citiesSeries.nbytes#ile bajtów ten obiekt zajmuje w pamięci"
   ]
  },
  {
   "cell_type": "code",
   "execution_count": 14,
   "id": "86585514",
   "metadata": {},
   "outputs": [
    {
     "data": {
      "text/plain": [
       "True"
      ]
     },
     "execution_count": 14,
     "metadata": {},
     "output_type": "execute_result"
    }
   ],
   "source": [
    "citiesSeries.is_unique#czy wartości obiektu są unikalne"
   ]
  },
  {
   "cell_type": "code",
   "execution_count": 15,
   "id": "ee6be680",
   "metadata": {},
   "outputs": [
    {
     "data": {
      "text/plain": [
       "False"
      ]
     },
     "execution_count": 15,
     "metadata": {},
     "output_type": "execute_result"
    }
   ],
   "source": [
    "citiesSeries.is_monotonic#dane nie są alfabetyczne, dlatego mamy False"
   ]
  },
  {
   "cell_type": "code",
   "execution_count": 16,
   "id": "1e31dccf",
   "metadata": {},
   "outputs": [
    {
     "data": {
      "text/plain": [
       "RangeIndex(start=0, stop=4, step=1)"
      ]
     },
     "execution_count": 16,
     "metadata": {},
     "output_type": "execute_result"
    }
   ],
   "source": [
    "citiesSeries.index#skąd wziął się indeks "
   ]
  },
  {
   "cell_type": "code",
   "execution_count": 17,
   "id": "c86f3cf3",
   "metadata": {},
   "outputs": [
    {
     "data": {
      "text/plain": [
       "array(['London', 'Berlin', 'Warsaw', 'Paris'], dtype=object)"
      ]
     },
     "execution_count": 17,
     "metadata": {},
     "output_type": "execute_result"
    }
   ],
   "source": [
    "citiesSeries.values"
   ]
  },
  {
   "cell_type": "code",
   "execution_count": 18,
   "id": "598ae4b6",
   "metadata": {},
   "outputs": [
    {
     "data": {
      "text/plain": [
       "dtype('O')"
      ]
     },
     "execution_count": 18,
     "metadata": {},
     "output_type": "execute_result"
    }
   ],
   "source": [
    "citiesSeries.dtype"
   ]
  },
  {
   "cell_type": "code",
   "execution_count": 19,
   "id": "e1ba1991",
   "metadata": {},
   "outputs": [
    {
     "data": {
      "text/plain": [
       "(4,)"
      ]
     },
     "execution_count": 19,
     "metadata": {},
     "output_type": "execute_result"
    }
   ],
   "source": [
    "citiesSeries.shape#4 elementy na 1 wymiarze i żadnych elementów na żadnym innym wymiarze"
   ]
  },
  {
   "cell_type": "code",
   "execution_count": 20,
   "id": "a552f777",
   "metadata": {},
   "outputs": [
    {
     "data": {
      "text/plain": [
       "[RangeIndex(start=0, stop=4, step=1)]"
      ]
     },
     "execution_count": 20,
     "metadata": {},
     "output_type": "execute_result"
    }
   ],
   "source": [
    "citiesSeries.axes#współrzędne, którymi możemy odwoływać się do poszczególnych argumentów"
   ]
  },
  {
   "cell_type": "code",
   "execution_count": 21,
   "id": "64ac59c0",
   "metadata": {},
   "outputs": [
    {
     "data": {
      "text/plain": [
       "0     1\n",
       "1     2\n",
       "2     4\n",
       "3    67\n",
       "4    99\n",
       "dtype: int64"
      ]
     },
     "execution_count": 21,
     "metadata": {},
     "output_type": "execute_result"
    }
   ],
   "source": [
    "monotonicList = [1, 2, 4, 67, 99]\n",
    "monotonicSeries = pd.Series(monotonicList)\n",
    "monotonicSeries"
   ]
  },
  {
   "cell_type": "code",
   "execution_count": 22,
   "id": "9f78e75c",
   "metadata": {},
   "outputs": [
    {
     "data": {
      "text/plain": [
       "True"
      ]
     },
     "execution_count": 22,
     "metadata": {},
     "output_type": "execute_result"
    }
   ],
   "source": [
    "monotonicSeries.is_monotonic#liczby ustawione rosnąco"
   ]
  },
  {
   "cell_type": "code",
   "execution_count": 23,
   "id": "2aed201f",
   "metadata": {},
   "outputs": [
    {
     "data": {
      "text/plain": [
       "True"
      ]
     },
     "execution_count": 23,
     "metadata": {},
     "output_type": "execute_result"
    }
   ],
   "source": [
    "monotonicSeries.is_monotonic_increasing#pandas wie żę wartości są rosnące"
   ]
  },
  {
   "cell_type": "code",
   "execution_count": 24,
   "id": "74c0efda",
   "metadata": {},
   "outputs": [
    {
     "data": {
      "text/plain": [
       "False"
      ]
     },
     "execution_count": 24,
     "metadata": {},
     "output_type": "execute_result"
    }
   ],
   "source": [
    "monotonicSeries.is_monotonic_decreasing"
   ]
  },
  {
   "cell_type": "code",
   "execution_count": 25,
   "id": "f090a5a1",
   "metadata": {},
   "outputs": [
    {
     "data": {
      "text/plain": [
       "0       Cola\n",
       "1    Redbull\n",
       "2     Sprite\n",
       "dtype: object"
      ]
     },
     "execution_count": 25,
     "metadata": {},
     "output_type": "execute_result"
    }
   ],
   "source": [
    "stringList = ['Cola', 'Redbull', 'Sprite']\n",
    "stringSeries = pd.Series(stringList)\n",
    "stringSeries"
   ]
  },
  {
   "cell_type": "code",
   "execution_count": 26,
   "id": "4e4d0a99",
   "metadata": {},
   "outputs": [
    {
     "data": {
      "text/plain": [
       "True"
      ]
     },
     "execution_count": 26,
     "metadata": {},
     "output_type": "execute_result"
    }
   ],
   "source": [
    "stringSeries.is_monotonic"
   ]
  },
  {
   "cell_type": "code",
   "execution_count": 27,
   "id": "117b9296",
   "metadata": {},
   "outputs": [
    {
     "data": {
      "text/plain": [
       "True"
      ]
     },
     "execution_count": 27,
     "metadata": {},
     "output_type": "execute_result"
    }
   ],
   "source": [
    "stringSeries.is_monotonic_increasing#dane ustawione alfabetycznie"
   ]
  },
  {
   "cell_type": "markdown",
   "id": "ffbef4a6",
   "metadata": {},
   "source": [
    "## Metody Data Series\n",
    "Metody są to funkcje, które wywoływane są na rzecz danego obiektu. Czyli mają dostęp do obiektu, zktórym pracują i mają możliwość zmiany tego obiektu."
   ]
  },
  {
   "cell_type": "code",
   "execution_count": 28,
   "id": "32cba4ce",
   "metadata": {},
   "outputs": [
    {
     "data": {
      "text/plain": [
       "173"
      ]
     },
     "execution_count": 28,
     "metadata": {},
     "output_type": "execute_result"
    }
   ],
   "source": [
    "monotonicSeries.sum()"
   ]
  },
  {
   "cell_type": "code",
   "execution_count": 29,
   "id": "259a73b0",
   "metadata": {},
   "outputs": [
    {
     "data": {
      "text/plain": [
       "1"
      ]
     },
     "execution_count": 29,
     "metadata": {},
     "output_type": "execute_result"
    }
   ],
   "source": [
    "monotonicSeries.min()"
   ]
  },
  {
   "cell_type": "code",
   "execution_count": 30,
   "id": "0c74edd3",
   "metadata": {},
   "outputs": [
    {
     "data": {
      "text/plain": [
       "99"
      ]
     },
     "execution_count": 30,
     "metadata": {},
     "output_type": "execute_result"
    }
   ],
   "source": [
    "monotonicSeries.max()"
   ]
  },
  {
   "cell_type": "code",
   "execution_count": 31,
   "id": "ff331907",
   "metadata": {},
   "outputs": [
    {
     "data": {
      "text/plain": [
       "34.6"
      ]
     },
     "execution_count": 31,
     "metadata": {},
     "output_type": "execute_result"
    }
   ],
   "source": [
    "monotonicSeries.mean()"
   ]
  },
  {
   "cell_type": "code",
   "execution_count": 32,
   "id": "f940f3ce",
   "metadata": {},
   "outputs": [
    {
     "data": {
      "text/plain": [
       "5"
      ]
     },
     "execution_count": 32,
     "metadata": {},
     "output_type": "execute_result"
    }
   ],
   "source": [
    "monotonicSeries.count() # ilość elementów znajdujących się w data series, metoda count i atrybut size zwracają to samo"
   ]
  },
  {
   "cell_type": "code",
   "execution_count": 33,
   "id": "27148c26",
   "metadata": {},
   "outputs": [
    {
     "data": {
      "text/plain": [
       "53064"
      ]
     },
     "execution_count": 33,
     "metadata": {},
     "output_type": "execute_result"
    }
   ],
   "source": [
    "monotonicSeries.product()"
   ]
  },
  {
   "cell_type": "code",
   "execution_count": 34,
   "id": "fed625c5",
   "metadata": {},
   "outputs": [
    {
     "data": {
      "text/plain": [
       "RangeIndex(start=0, stop=5, step=1)"
      ]
     },
     "execution_count": 34,
     "metadata": {},
     "output_type": "execute_result"
    }
   ],
   "source": [
    "monotonicSeries.index"
   ]
  },
  {
   "cell_type": "code",
   "execution_count": 35,
   "id": "6a7b0e63",
   "metadata": {},
   "outputs": [
    {
     "data": {
      "text/plain": [
       "RangeIndex(start=0, stop=5, step=1)"
      ]
     },
     "execution_count": 35,
     "metadata": {},
     "output_type": "execute_result"
    }
   ],
   "source": [
    "monotonicSeries.keys()#metoda keys i atrybut index działają zamiennie"
   ]
  },
  {
   "cell_type": "code",
   "execution_count": 36,
   "id": "c458bb97",
   "metadata": {},
   "outputs": [
    {
     "data": {
      "text/plain": [
       "array([ 1,  2,  4, 67, 99], dtype=int64)"
      ]
     },
     "execution_count": 36,
     "metadata": {},
     "output_type": "execute_result"
    }
   ],
   "source": [
    "monotonicSeries.values"
   ]
  },
  {
   "cell_type": "code",
   "execution_count": 37,
   "id": "ce3bf080",
   "metadata": {},
   "outputs": [
    {
     "data": {
      "text/plain": [
       "array([ 1,  2,  4, 67, 99], dtype=int64)"
      ]
     },
     "execution_count": 37,
     "metadata": {},
     "output_type": "execute_result"
    }
   ],
   "source": [
    "monotonicSeries.to_numpy()#to_numpy() kiedyś było to get_values, ale tego już nie ma"
   ]
  },
  {
   "cell_type": "code",
   "execution_count": 38,
   "id": "a996c435",
   "metadata": {},
   "outputs": [
    {
     "data": {
      "text/plain": [
       "[1, 2, 4, 67, 99]"
      ]
     },
     "execution_count": 38,
     "metadata": {},
     "output_type": "execute_result"
    }
   ],
   "source": [
    "monotonicSeries.to_list()"
   ]
  },
  {
   "cell_type": "code",
   "execution_count": 39,
   "id": "d11e818b",
   "metadata": {},
   "outputs": [
    {
     "data": {
      "text/plain": [
       "0     11\n",
       "1     12\n",
       "2     14\n",
       "3     77\n",
       "4    109\n",
       "dtype: int64"
      ]
     },
     "execution_count": 39,
     "metadata": {},
     "output_type": "execute_result"
    }
   ],
   "source": [
    "monotonicSeries.add(10)"
   ]
  },
  {
   "cell_type": "code",
   "execution_count": 40,
   "id": "f1f98db2",
   "metadata": {},
   "outputs": [
    {
     "data": {
      "text/plain": [
       "0     1\n",
       "1     2\n",
       "2     4\n",
       "3    67\n",
       "4    99\n",
       "dtype: int64"
      ]
     },
     "execution_count": 40,
     "metadata": {},
     "output_type": "execute_result"
    }
   ],
   "source": [
    "monotonicSeries#są stare wartości, niezmienione, czyli nei ma dodanej 10, ponieważ data series tworza jej kopie,\n",
    "#a nie działają na oryginale"
   ]
  },
  {
   "cell_type": "code",
   "execution_count": 41,
   "id": "d0878a1c",
   "metadata": {},
   "outputs": [
    {
     "data": {
      "text/plain": [
       "0     11\n",
       "1     12\n",
       "2     14\n",
       "3     77\n",
       "4    109\n",
       "dtype: int64"
      ]
     },
     "execution_count": 41,
     "metadata": {},
     "output_type": "execute_result"
    }
   ],
   "source": [
    "#aby zapisać wynik operacji w data series można to zrobić np przez tworzenie nowego data series\n",
    "newSeries = monotonicSeries.add(10)\n",
    "newSeries"
   ]
  },
  {
   "cell_type": "markdown",
   "id": "87eb080f",
   "metadata": {},
   "source": [
    "##### Przekazywanie parametrów do metod"
   ]
  },
  {
   "cell_type": "code",
   "execution_count": 42,
   "id": "b9cf8ee3",
   "metadata": {},
   "outputs": [],
   "source": [
    "currencies = ['USD', 'EUR', 'PLN', 'EUR', 'EUR']\n",
    "countries = ['USA', 'Spain', 'Poland', 'Portugal', 'Italy']\n",
    "#tworzymy serię, której indeksem ma być symbol waluty, a wartością nazwa kraju"
   ]
  },
  {
   "cell_type": "code",
   "execution_count": 43,
   "id": "21d93ac9",
   "metadata": {},
   "outputs": [],
   "source": [
    "curSeries = pd.Series(countries, currencies)"
   ]
  },
  {
   "cell_type": "code",
   "execution_count": 44,
   "id": "1d277798",
   "metadata": {},
   "outputs": [
    {
     "data": {
      "text/plain": [
       "USD         USA\n",
       "EUR       Spain\n",
       "PLN      Poland\n",
       "EUR    Portugal\n",
       "EUR       Italy\n",
       "dtype: object"
      ]
     },
     "execution_count": 44,
     "metadata": {},
     "output_type": "execute_result"
    }
   ],
   "source": [
    "curSeries"
   ]
  },
  {
   "cell_type": "code",
   "execution_count": 45,
   "id": "ac9d6474",
   "metadata": {},
   "outputs": [
    {
     "data": {
      "text/plain": [
       "USA         USD\n",
       "Spain       EUR\n",
       "Poland      PLN\n",
       "Portugal    EUR\n",
       "Italy       EUR\n",
       "dtype: object"
      ]
     },
     "execution_count": 45,
     "metadata": {},
     "output_type": "execute_result"
    }
   ],
   "source": [
    "countrySeries = pd.Series(currencies, countries)\n",
    "countrySeries"
   ]
  },
  {
   "cell_type": "code",
   "execution_count": 46,
   "id": "7f2dee03",
   "metadata": {},
   "outputs": [
    {
     "data": {
      "text/plain": [
       "USD         USA\n",
       "EUR       Spain\n",
       "PLN      Poland\n",
       "EUR    Portugal\n",
       "EUR       Italy\n",
       "dtype: object"
      ]
     },
     "execution_count": 46,
     "metadata": {},
     "output_type": "execute_result"
    }
   ],
   "source": [
    "#Aby nie pomylić kolejności, które dane mają być indeksami, a które wartościami wystarczy zapisać \"data = \" oraz \"index =\"\n",
    "curSeries = pd.Series(data = countries, index = currencies)\n",
    "curSeries"
   ]
  },
  {
   "cell_type": "code",
   "execution_count": 47,
   "id": "4dc46399",
   "metadata": {},
   "outputs": [
    {
     "data": {
      "text/plain": [
       "USD         USA\n",
       "EUR       Spain\n",
       "PLN      Poland\n",
       "EUR    Portugal\n",
       "EUR       Italy\n",
       "dtype: object"
      ]
     },
     "execution_count": 47,
     "metadata": {},
     "output_type": "execute_result"
    }
   ],
   "source": [
    "curSeries = pd.Series(index = currencies, data = countries)\n",
    "curSeries\n",
    "#argumenty zapisane w nawiasie można dowolnie zmieniać, nie wpływa to na wynik operacji"
   ]
  },
  {
   "cell_type": "code",
   "execution_count": 50,
   "id": "02f488ec",
   "metadata": {},
   "outputs": [
    {
     "ename": "SyntaxError",
     "evalue": "positional argument follows keyword argument (Temp/ipykernel_7280/2959947433.py, line 1)",
     "output_type": "error",
     "traceback": [
      "\u001b[1;36m  File \u001b[1;32m\"C:\\Users\\juleq\\AppData\\Local\\Temp/ipykernel_7280/2959947433.py\"\u001b[1;36m, line \u001b[1;32m1\u001b[0m\n\u001b[1;33m    curSeries = pd.Series(index = currencies, countries)#jedkażne albo podajemy atgumenty przez pozycje,\u001b[0m\n\u001b[1;37m                                              ^\u001b[0m\n\u001b[1;31mSyntaxError\u001b[0m\u001b[1;31m:\u001b[0m positional argument follows keyword argument\n"
     ]
    }
   ],
   "source": [
    "curSeries = pd.Series(index = currencies, countries)#jedkażne albo podajemy atgumenty przez pozycje,\n",
    "#czyli bez nazywania parametrów, albo nazywamy wszystkie parametry"
   ]
  },
  {
   "cell_type": "code",
   "execution_count": 51,
   "id": "8cf44703",
   "metadata": {},
   "outputs": [],
   "source": [
    "#shift + tab - help podpowiada jakie argumenty są w tej funkcji, \n",
    "#2 razy to wiekszy help, a 3 wciśnięcia to już mega dokłądny opis"
   ]
  },
  {
   "cell_type": "code",
   "execution_count": 52,
   "id": "0d22af69",
   "metadata": {},
   "outputs": [],
   "source": [
    "#Różnica między obiektem series a słownikiem: kilka argumentów może mieć jednakowy indeks, np kilka krajów ta sama waluta"
   ]
  },
  {
   "cell_type": "code",
   "execution_count": 53,
   "id": "a13b8711",
   "metadata": {},
   "outputs": [
    {
     "data": {
      "text/plain": [
       "{'USD': 'USA'}"
      ]
     },
     "execution_count": 53,
     "metadata": {},
     "output_type": "execute_result"
    }
   ],
   "source": [
    "dictCountry = {'USD' : 'USA', 'USD' : 'USA'}#masło maślane\n",
    "dictCountry"
   ]
  },
  {
   "cell_type": "code",
   "execution_count": 54,
   "id": "0a709972",
   "metadata": {},
   "outputs": [
    {
     "data": {
      "text/plain": [
       "{'USD': 'Canada'}"
      ]
     },
     "execution_count": 54,
     "metadata": {},
     "output_type": "execute_result"
    }
   ],
   "source": [
    "dictCountry = {'USD' : 'USA', 'USD' : 'Canada'}#zawartością słownika jest tylko ostatnia zapisana wartość\n",
    "dictCountry"
   ]
  },
  {
   "cell_type": "markdown",
   "id": "cb9c07d5",
   "metadata": {},
   "source": [
    "## Filtrowanie danych w serii\n",
    "Teraz skupimy się na metodach, które pozwalają wybrać nam z obiektu Series tylko te elementy, które spełniają jakieś określone przez nas warunki"
   ]
  },
  {
   "cell_type": "code",
   "execution_count": 55,
   "id": "efaafa5d",
   "metadata": {},
   "outputs": [
    {
     "data": {
      "text/plain": [
       "[1, 2, 3, 11, 12, 13]"
      ]
     },
     "execution_count": 55,
     "metadata": {},
     "output_type": "execute_result"
    }
   ],
   "source": [
    "numbers = [1, 2, 3, 11, 12, 13]\n",
    "numbers"
   ]
  },
  {
   "cell_type": "code",
   "execution_count": 56,
   "id": "e4f8a6d2",
   "metadata": {},
   "outputs": [
    {
     "ename": "TypeError",
     "evalue": "'>' not supported between instances of 'list' and 'int'",
     "output_type": "error",
     "traceback": [
      "\u001b[1;31m---------------------------------------------------------------------------\u001b[0m",
      "\u001b[1;31mTypeError\u001b[0m                                 Traceback (most recent call last)",
      "\u001b[1;32m~\\AppData\\Local\\Temp/ipykernel_7280/2699226503.py\u001b[0m in \u001b[0;36m<module>\u001b[1;34m\u001b[0m\n\u001b[1;32m----> 1\u001b[1;33m \u001b[0mnumbers\u001b[0m \u001b[1;33m>\u001b[0m \u001b[1;36m10\u001b[0m\u001b[1;31m#ten operator nie działa na liście, nie jest w stanie porównać listy z liczbą\u001b[0m\u001b[1;33m\u001b[0m\u001b[1;33m\u001b[0m\u001b[0m\n\u001b[0m",
      "\u001b[1;31mTypeError\u001b[0m: '>' not supported between instances of 'list' and 'int'"
     ]
    }
   ],
   "source": [
    "numbers > 10#ten operator nie działa na liście, nie jest w stanie porównać listy z liczbą"
   ]
  },
  {
   "cell_type": "code",
   "execution_count": 61,
   "id": "89bac4cb",
   "metadata": {},
   "outputs": [
    {
     "data": {
      "text/plain": [
       "0     1\n",
       "1     2\n",
       "2     3\n",
       "3    11\n",
       "4    12\n",
       "5    13\n",
       "dtype: int64"
      ]
     },
     "execution_count": 61,
     "metadata": {},
     "output_type": "execute_result"
    }
   ],
   "source": [
    "numSeries = pd.Series(numbers)\n",
    "numSeries"
   ]
  },
  {
   "cell_type": "code",
   "execution_count": 62,
   "id": "e34362b4",
   "metadata": {},
   "outputs": [
    {
     "data": {
      "text/plain": [
       "0    False\n",
       "1    False\n",
       "2    False\n",
       "3     True\n",
       "4     True\n",
       "5     True\n",
       "dtype: bool"
      ]
     },
     "execution_count": 62,
     "metadata": {},
     "output_type": "execute_result"
    }
   ],
   "source": [
    "numSeries > 10"
   ]
  },
  {
   "cell_type": "code",
   "execution_count": 63,
   "id": "da801497",
   "metadata": {},
   "outputs": [
    {
     "data": {
      "text/plain": [
       "0     NaN\n",
       "1     NaN\n",
       "2     NaN\n",
       "3    11.0\n",
       "4    12.0\n",
       "5    13.0\n",
       "dtype: float64"
      ]
     },
     "execution_count": 63,
     "metadata": {},
     "output_type": "execute_result"
    }
   ],
   "source": [
    "numSeries.where(numSeries > 10)"
   ]
  },
  {
   "cell_type": "code",
   "execution_count": 64,
   "id": "b7179f80",
   "metadata": {},
   "outputs": [
    {
     "data": {
      "text/plain": [
       "0    -1\n",
       "1    -1\n",
       "2    -1\n",
       "3    11\n",
       "4    12\n",
       "5    13\n",
       "dtype: int64"
      ]
     },
     "execution_count": 64,
     "metadata": {},
     "output_type": "execute_result"
    }
   ],
   "source": [
    "#usuwanie NaN\n",
    "numSeries.where(numSeries > 10, other = -1)#other opisuje co ma sie wyswietlic gdy nie jest spelniony warunek"
   ]
  },
  {
   "cell_type": "code",
   "execution_count": 65,
   "id": "23a482a3",
   "metadata": {},
   "outputs": [
    {
     "data": {
      "text/plain": [
       "3    11.0\n",
       "4    12.0\n",
       "5    13.0\n",
       "dtype: float64"
      ]
     },
     "execution_count": 65,
     "metadata": {},
     "output_type": "execute_result"
    }
   ],
   "source": [
    "#całkowite wykluczanie elementów niespełniających warunków\n",
    "numSeries.where(numSeries > 10).dropna()#dropna() wykreśla wszystkie wartości niespełniające warunku"
   ]
  },
  {
   "cell_type": "code",
   "execution_count": 66,
   "id": "d1e0cb56",
   "metadata": {},
   "outputs": [
    {
     "data": {
      "text/plain": [
       "0     1\n",
       "1     2\n",
       "2     3\n",
       "3    11\n",
       "4    12\n",
       "5    13\n",
       "dtype: int64"
      ]
     },
     "execution_count": 66,
     "metadata": {},
     "output_type": "execute_result"
    }
   ],
   "source": [
    "numSeries#lista nie jest wyfiltrowana, metoda tworzy jego kopię, nie modyfikuje jego pierwotnej wersji"
   ]
  },
  {
   "cell_type": "code",
   "execution_count": 67,
   "id": "b4912b7b",
   "metadata": {},
   "outputs": [
    {
     "data": {
      "text/plain": [
       "0     NaN\n",
       "1     NaN\n",
       "2     NaN\n",
       "3    11.0\n",
       "4    12.0\n",
       "5    13.0\n",
       "dtype: float64"
      ]
     },
     "execution_count": 67,
     "metadata": {},
     "output_type": "execute_result"
    }
   ],
   "source": [
    "numSeries.where(numSeries > 10, inplace = True)\n",
    "numSeries"
   ]
  },
  {
   "cell_type": "code",
   "execution_count": 68,
   "id": "fc6e0333",
   "metadata": {},
   "outputs": [
    {
     "data": {
      "text/plain": [
       "3    11.0\n",
       "4    12.0\n",
       "5    13.0\n",
       "dtype: float64"
      ]
     },
     "execution_count": 68,
     "metadata": {},
     "output_type": "execute_result"
    }
   ],
   "source": [
    "numSeries.dropna(inplace = True)\n",
    "numSeries"
   ]
  },
  {
   "cell_type": "code",
   "execution_count": 69,
   "id": "94871c85",
   "metadata": {},
   "outputs": [
    {
     "data": {
      "text/plain": [
       "0     1\n",
       "1     2\n",
       "2     3\n",
       "3    11\n",
       "4    12\n",
       "5    13\n",
       "dtype: int64"
      ]
     },
     "execution_count": 69,
     "metadata": {},
     "output_type": "execute_result"
    }
   ],
   "source": [
    "numSeries = pd.Series(numbers)\n",
    "numSeries#definiowanie na nowo"
   ]
  },
  {
   "cell_type": "code",
   "execution_count": 70,
   "id": "84e9c52e",
   "metadata": {},
   "outputs": [
    {
     "ename": "AttributeError",
     "evalue": "'NoneType' object has no attribute 'dropna'",
     "output_type": "error",
     "traceback": [
      "\u001b[1;31m---------------------------------------------------------------------------\u001b[0m",
      "\u001b[1;31mAttributeError\u001b[0m                            Traceback (most recent call last)",
      "\u001b[1;32m~\\AppData\\Local\\Temp/ipykernel_7280/1313148719.py\u001b[0m in \u001b[0;36m<module>\u001b[1;34m\u001b[0m\n\u001b[1;32m----> 1\u001b[1;33m \u001b[0mnumSeries\u001b[0m\u001b[1;33m.\u001b[0m\u001b[0mwhere\u001b[0m\u001b[1;33m(\u001b[0m\u001b[0mnumSeries\u001b[0m \u001b[1;33m>\u001b[0m \u001b[1;36m10\u001b[0m\u001b[1;33m,\u001b[0m \u001b[0minplace\u001b[0m \u001b[1;33m=\u001b[0m \u001b[1;32mTrue\u001b[0m\u001b[1;33m)\u001b[0m\u001b[1;33m.\u001b[0m\u001b[0mdropna\u001b[0m\u001b[1;33m(\u001b[0m\u001b[0minplace\u001b[0m \u001b[1;33m=\u001b[0m \u001b[1;32mTrue\u001b[0m\u001b[1;33m)\u001b[0m\u001b[1;33m\u001b[0m\u001b[1;33m\u001b[0m\u001b[0m\n\u001b[0m\u001b[0;32m      2\u001b[0m \u001b[1;31m#w przypadku inplace zmiana jest wykonywana w środku\u001b[0m\u001b[1;33m\u001b[0m\u001b[1;33m\u001b[0m\u001b[1;33m\u001b[0m\u001b[0m\n",
      "\u001b[1;31mAttributeError\u001b[0m: 'NoneType' object has no attribute 'dropna'"
     ]
    }
   ],
   "source": [
    "numSeries.where(numSeries > 10, inplace = True).dropna(inplace = True)\n",
    "#w przypadku inplace zmiana jest wykonywana w środku"
   ]
  },
  {
   "cell_type": "code",
   "execution_count": 71,
   "id": "a0c5eda3",
   "metadata": {},
   "outputs": [
    {
     "data": {
      "text/plain": [
       "3    11.0\n",
       "4    12.0\n",
       "5    13.0\n",
       "dtype: float64"
      ]
     },
     "execution_count": 71,
     "metadata": {},
     "output_type": "execute_result"
    }
   ],
   "source": [
    "numSeries.where(numSeries > 10, inplace = True)\n",
    "numSeries.dropna(inplace = True)#po rozłączeniu operacje działają prawidłowo\n",
    "numSeries"
   ]
  },
  {
   "cell_type": "code",
   "execution_count": 72,
   "id": "859fdc59",
   "metadata": {},
   "outputs": [
    {
     "data": {
      "text/plain": [
       "0     1\n",
       "1     2\n",
       "2     3\n",
       "3    11\n",
       "4    12\n",
       "5    13\n",
       "dtype: int64"
      ]
     },
     "execution_count": 72,
     "metadata": {},
     "output_type": "execute_result"
    }
   ],
   "source": [
    "#wyciągnięcie elementów bazując na indeksie - metoda filter\n",
    "numSeries = pd.Series(numbers)\n",
    "numSeries"
   ]
  },
  {
   "cell_type": "code",
   "execution_count": 73,
   "id": "7a256a36",
   "metadata": {},
   "outputs": [
    {
     "data": {
      "text/plain": [
       "0     1\n",
       "2     3\n",
       "4    12\n",
       "dtype: int64"
      ]
     },
     "execution_count": 73,
     "metadata": {},
     "output_type": "execute_result"
    }
   ],
   "source": [
    "numSeries.filter(items=[0, 2, 4])#możliwość filtrowania po indeksie, a nie po wartościach"
   ]
  },
  {
   "cell_type": "markdown",
   "id": "56add0dd",
   "metadata": {},
   "source": [
    "## Bardziej zaawansowane filtrowanie"
   ]
  },
  {
   "cell_type": "code",
   "execution_count": 74,
   "id": "0db942a2",
   "metadata": {},
   "outputs": [
    {
     "data": {
      "text/plain": [
       "0     True\n",
       "1    False\n",
       "2     True\n",
       "3     True\n",
       "4    False\n",
       "5     True\n",
       "dtype: bool"
      ]
     },
     "execution_count": 74,
     "metadata": {},
     "output_type": "execute_result"
    }
   ],
   "source": [
    "#filtrowanie liczb nieparzystych\n",
    "numSeries % 2 == 1"
   ]
  },
  {
   "cell_type": "code",
   "execution_count": 75,
   "id": "145f8566",
   "metadata": {},
   "outputs": [
    {
     "data": {
      "text/plain": [
       "3    11.0\n",
       "4    12.0\n",
       "5    13.0\n",
       "dtype: float64"
      ]
     },
     "execution_count": 75,
     "metadata": {},
     "output_type": "execute_result"
    }
   ],
   "source": [
    "numSeries.where(numSeries > 10).dropna()"
   ]
  },
  {
   "cell_type": "code",
   "execution_count": 76,
   "id": "9bd73017",
   "metadata": {},
   "outputs": [
    {
     "data": {
      "text/plain": [
       "0     1.0\n",
       "2     3.0\n",
       "3    11.0\n",
       "5    13.0\n",
       "dtype: float64"
      ]
     },
     "execution_count": 76,
     "metadata": {},
     "output_type": "execute_result"
    }
   ],
   "source": [
    "numSeries.where(numSeries % 2 == 1).dropna()"
   ]
  },
  {
   "cell_type": "code",
   "execution_count": 77,
   "id": "05d81933",
   "metadata": {},
   "outputs": [
    {
     "data": {
      "text/plain": [
       "0    False\n",
       "1    False\n",
       "2    False\n",
       "3     True\n",
       "4     True\n",
       "5     True\n",
       "dtype: bool"
      ]
     },
     "execution_count": 77,
     "metadata": {},
     "output_type": "execute_result"
    }
   ],
   "source": [
    "#łączymy te dwa warunki\n",
    "#tworzyymy 2 zmienne dla każdego warunku i łączymy je w jednym poleceniu\n",
    "numbersGreater10 = numSeries > 10\n",
    "numbersGreater10"
   ]
  },
  {
   "cell_type": "code",
   "execution_count": 78,
   "id": "97ec9185",
   "metadata": {},
   "outputs": [
    {
     "data": {
      "text/plain": [
       "0     True\n",
       "1    False\n",
       "2     True\n",
       "3     True\n",
       "4    False\n",
       "5     True\n",
       "dtype: bool"
      ]
     },
     "execution_count": 78,
     "metadata": {},
     "output_type": "execute_result"
    }
   ],
   "source": [
    "numbersOdd = numSeries % 2 == 1\n",
    "numbersOdd"
   ]
  },
  {
   "cell_type": "code",
   "execution_count": 79,
   "id": "812cc7f2",
   "metadata": {},
   "outputs": [
    {
     "data": {
      "text/plain": [
       "0     NaN\n",
       "1     NaN\n",
       "2     NaN\n",
       "3    11.0\n",
       "4     NaN\n",
       "5    13.0\n",
       "dtype: float64"
      ]
     },
     "execution_count": 79,
     "metadata": {},
     "output_type": "execute_result"
    }
   ],
   "source": [
    "numSeries.where(numbersGreater10 & numbersOdd)#operator and - & działa na bitach (nie jest to typowy operator logiczny)"
   ]
  },
  {
   "cell_type": "code",
   "execution_count": 80,
   "id": "def898dd",
   "metadata": {},
   "outputs": [
    {
     "data": {
      "text/plain": [
       "3    11.0\n",
       "5    13.0\n",
       "dtype: float64"
      ]
     },
     "execution_count": 80,
     "metadata": {},
     "output_type": "execute_result"
    }
   ],
   "source": [
    "numSeries.where(numbersGreater10 & numbersOdd).dropna()"
   ]
  },
  {
   "cell_type": "code",
   "execution_count": 81,
   "id": "71cd397e",
   "metadata": {},
   "outputs": [],
   "source": [
    "#Ta metoda ma zalete: rodzielenie warunków na 2 operacje polepsza styl programowania\n",
    "#metody uproszczające działanie:"
   ]
  },
  {
   "cell_type": "code",
   "execution_count": 82,
   "id": "15455b7c",
   "metadata": {},
   "outputs": [
    {
     "data": {
      "text/plain": [
       "0    False\n",
       "1    False\n",
       "2     True\n",
       "3     True\n",
       "4     True\n",
       "5    False\n",
       "dtype: bool"
      ]
     },
     "execution_count": 82,
     "metadata": {},
     "output_type": "execute_result"
    }
   ],
   "source": [
    "numSeries.between(3, 12)#czy mamy wartości między 3 a 12"
   ]
  },
  {
   "cell_type": "code",
   "execution_count": 83,
   "id": "c1e58a6b",
   "metadata": {},
   "outputs": [
    {
     "data": {
      "text/plain": [
       "0     NaN\n",
       "1     NaN\n",
       "2     3.0\n",
       "3    11.0\n",
       "4    12.0\n",
       "5     NaN\n",
       "dtype: float64"
      ]
     },
     "execution_count": 83,
     "metadata": {},
     "output_type": "execute_result"
    }
   ],
   "source": [
    "numSeries.where(numSeries.between(3, 12))"
   ]
  },
  {
   "cell_type": "code",
   "execution_count": 84,
   "id": "a882ee0f",
   "metadata": {},
   "outputs": [
    {
     "data": {
      "text/plain": [
       "2     3.0\n",
       "3    11.0\n",
       "4    12.0\n",
       "dtype: float64"
      ]
     },
     "execution_count": 84,
     "metadata": {},
     "output_type": "execute_result"
    }
   ],
   "source": [
    "numSeries.where(numSeries.between(3, 12)).dropna()"
   ]
  },
  {
   "cell_type": "markdown",
   "id": "244afd35",
   "metadata": {},
   "source": [
    "## Import danych do obiektu Series"
   ]
  },
  {
   "cell_type": "code",
   "execution_count": 104,
   "id": "664cf2c9",
   "metadata": {},
   "outputs": [
    {
     "data": {
      "text/html": [
       "<div>\n",
       "<style scoped>\n",
       "    .dataframe tbody tr th:only-of-type {\n",
       "        vertical-align: middle;\n",
       "    }\n",
       "\n",
       "    .dataframe tbody tr th {\n",
       "        vertical-align: top;\n",
       "    }\n",
       "\n",
       "    .dataframe thead th {\n",
       "        text-align: right;\n",
       "    }\n",
       "</style>\n",
       "<table border=\"1\" class=\"dataframe\">\n",
       "  <thead>\n",
       "    <tr style=\"text-align: right;\">\n",
       "      <th></th>\n",
       "      <th>#</th>\n",
       "      <th>Name</th>\n",
       "      <th>Type 1</th>\n",
       "      <th>Type 2</th>\n",
       "      <th>Total</th>\n",
       "      <th>HP</th>\n",
       "      <th>Attack</th>\n",
       "      <th>Defense</th>\n",
       "      <th>Sp. Atk</th>\n",
       "      <th>Sp. Def</th>\n",
       "      <th>Speed</th>\n",
       "      <th>Generation</th>\n",
       "      <th>Legendary</th>\n",
       "    </tr>\n",
       "  </thead>\n",
       "  <tbody>\n",
       "    <tr>\n",
       "      <th>0</th>\n",
       "      <td>1</td>\n",
       "      <td>Bulbasaur</td>\n",
       "      <td>Grass</td>\n",
       "      <td>Poison</td>\n",
       "      <td>318</td>\n",
       "      <td>45</td>\n",
       "      <td>49</td>\n",
       "      <td>49</td>\n",
       "      <td>65</td>\n",
       "      <td>65</td>\n",
       "      <td>45</td>\n",
       "      <td>1</td>\n",
       "      <td>False</td>\n",
       "    </tr>\n",
       "    <tr>\n",
       "      <th>1</th>\n",
       "      <td>2</td>\n",
       "      <td>Ivysaur</td>\n",
       "      <td>Grass</td>\n",
       "      <td>Poison</td>\n",
       "      <td>405</td>\n",
       "      <td>60</td>\n",
       "      <td>62</td>\n",
       "      <td>63</td>\n",
       "      <td>80</td>\n",
       "      <td>80</td>\n",
       "      <td>60</td>\n",
       "      <td>1</td>\n",
       "      <td>False</td>\n",
       "    </tr>\n",
       "    <tr>\n",
       "      <th>2</th>\n",
       "      <td>3</td>\n",
       "      <td>Venusaur</td>\n",
       "      <td>Grass</td>\n",
       "      <td>Poison</td>\n",
       "      <td>525</td>\n",
       "      <td>80</td>\n",
       "      <td>82</td>\n",
       "      <td>83</td>\n",
       "      <td>100</td>\n",
       "      <td>100</td>\n",
       "      <td>80</td>\n",
       "      <td>1</td>\n",
       "      <td>False</td>\n",
       "    </tr>\n",
       "    <tr>\n",
       "      <th>3</th>\n",
       "      <td>3</td>\n",
       "      <td>VenusaurMega Venusaur</td>\n",
       "      <td>Grass</td>\n",
       "      <td>Poison</td>\n",
       "      <td>625</td>\n",
       "      <td>80</td>\n",
       "      <td>100</td>\n",
       "      <td>123</td>\n",
       "      <td>122</td>\n",
       "      <td>120</td>\n",
       "      <td>80</td>\n",
       "      <td>1</td>\n",
       "      <td>False</td>\n",
       "    </tr>\n",
       "    <tr>\n",
       "      <th>4</th>\n",
       "      <td>4</td>\n",
       "      <td>Charmander</td>\n",
       "      <td>Fire</td>\n",
       "      <td>NaN</td>\n",
       "      <td>309</td>\n",
       "      <td>39</td>\n",
       "      <td>52</td>\n",
       "      <td>43</td>\n",
       "      <td>60</td>\n",
       "      <td>50</td>\n",
       "      <td>65</td>\n",
       "      <td>1</td>\n",
       "      <td>False</td>\n",
       "    </tr>\n",
       "    <tr>\n",
       "      <th>...</th>\n",
       "      <td>...</td>\n",
       "      <td>...</td>\n",
       "      <td>...</td>\n",
       "      <td>...</td>\n",
       "      <td>...</td>\n",
       "      <td>...</td>\n",
       "      <td>...</td>\n",
       "      <td>...</td>\n",
       "      <td>...</td>\n",
       "      <td>...</td>\n",
       "      <td>...</td>\n",
       "      <td>...</td>\n",
       "      <td>...</td>\n",
       "    </tr>\n",
       "    <tr>\n",
       "      <th>795</th>\n",
       "      <td>719</td>\n",
       "      <td>Diancie</td>\n",
       "      <td>Rock</td>\n",
       "      <td>Fairy</td>\n",
       "      <td>600</td>\n",
       "      <td>50</td>\n",
       "      <td>100</td>\n",
       "      <td>150</td>\n",
       "      <td>100</td>\n",
       "      <td>150</td>\n",
       "      <td>50</td>\n",
       "      <td>6</td>\n",
       "      <td>True</td>\n",
       "    </tr>\n",
       "    <tr>\n",
       "      <th>796</th>\n",
       "      <td>719</td>\n",
       "      <td>DiancieMega Diancie</td>\n",
       "      <td>Rock</td>\n",
       "      <td>Fairy</td>\n",
       "      <td>700</td>\n",
       "      <td>50</td>\n",
       "      <td>160</td>\n",
       "      <td>110</td>\n",
       "      <td>160</td>\n",
       "      <td>110</td>\n",
       "      <td>110</td>\n",
       "      <td>6</td>\n",
       "      <td>True</td>\n",
       "    </tr>\n",
       "    <tr>\n",
       "      <th>797</th>\n",
       "      <td>720</td>\n",
       "      <td>HoopaHoopa Confined</td>\n",
       "      <td>Psychic</td>\n",
       "      <td>Ghost</td>\n",
       "      <td>600</td>\n",
       "      <td>80</td>\n",
       "      <td>110</td>\n",
       "      <td>60</td>\n",
       "      <td>150</td>\n",
       "      <td>130</td>\n",
       "      <td>70</td>\n",
       "      <td>6</td>\n",
       "      <td>True</td>\n",
       "    </tr>\n",
       "    <tr>\n",
       "      <th>798</th>\n",
       "      <td>720</td>\n",
       "      <td>HoopaHoopa Unbound</td>\n",
       "      <td>Psychic</td>\n",
       "      <td>Dark</td>\n",
       "      <td>680</td>\n",
       "      <td>80</td>\n",
       "      <td>160</td>\n",
       "      <td>60</td>\n",
       "      <td>170</td>\n",
       "      <td>130</td>\n",
       "      <td>80</td>\n",
       "      <td>6</td>\n",
       "      <td>True</td>\n",
       "    </tr>\n",
       "    <tr>\n",
       "      <th>799</th>\n",
       "      <td>721</td>\n",
       "      <td>Volcanion</td>\n",
       "      <td>Fire</td>\n",
       "      <td>Water</td>\n",
       "      <td>600</td>\n",
       "      <td>80</td>\n",
       "      <td>110</td>\n",
       "      <td>120</td>\n",
       "      <td>130</td>\n",
       "      <td>90</td>\n",
       "      <td>70</td>\n",
       "      <td>6</td>\n",
       "      <td>True</td>\n",
       "    </tr>\n",
       "  </tbody>\n",
       "</table>\n",
       "<p>800 rows × 13 columns</p>\n",
       "</div>"
      ],
      "text/plain": [
       "       #                   Name   Type 1  Type 2  Total  HP  Attack  Defense  \\\n",
       "0      1              Bulbasaur    Grass  Poison    318  45      49       49   \n",
       "1      2                Ivysaur    Grass  Poison    405  60      62       63   \n",
       "2      3               Venusaur    Grass  Poison    525  80      82       83   \n",
       "3      3  VenusaurMega Venusaur    Grass  Poison    625  80     100      123   \n",
       "4      4             Charmander     Fire     NaN    309  39      52       43   \n",
       "..   ...                    ...      ...     ...    ...  ..     ...      ...   \n",
       "795  719                Diancie     Rock   Fairy    600  50     100      150   \n",
       "796  719    DiancieMega Diancie     Rock   Fairy    700  50     160      110   \n",
       "797  720    HoopaHoopa Confined  Psychic   Ghost    600  80     110       60   \n",
       "798  720     HoopaHoopa Unbound  Psychic    Dark    680  80     160       60   \n",
       "799  721              Volcanion     Fire   Water    600  80     110      120   \n",
       "\n",
       "     Sp. Atk  Sp. Def  Speed  Generation  Legendary  \n",
       "0         65       65     45           1      False  \n",
       "1         80       80     60           1      False  \n",
       "2        100      100     80           1      False  \n",
       "3        122      120     80           1      False  \n",
       "4         60       50     65           1      False  \n",
       "..       ...      ...    ...         ...        ...  \n",
       "795      100      150     50           6       True  \n",
       "796      160      110    110           6       True  \n",
       "797      150      130     70           6       True  \n",
       "798      170      130     80           6       True  \n",
       "799      130       90     70           6       True  \n",
       "\n",
       "[800 rows x 13 columns]"
      ]
     },
     "execution_count": 104,
     "metadata": {},
     "output_type": "execute_result"
    }
   ],
   "source": [
    "pd.read_csv('C:/Users/juleq/OneDrive/Desktop/pandas_kurs/course-files/pokemon.csv')"
   ]
  },
  {
   "cell_type": "code",
   "execution_count": 105,
   "id": "66876c12",
   "metadata": {},
   "outputs": [
    {
     "data": {
      "text/plain": [
       "pandas.core.frame.DataFrame"
      ]
     },
     "execution_count": 105,
     "metadata": {},
     "output_type": "execute_result"
    }
   ],
   "source": [
    "obj = pd.read_csv('C:/Users/juleq/OneDrive/Desktop/pandas_kurs/course-files/pokemon.csv')\n",
    "type(obj)"
   ]
  },
  {
   "cell_type": "code",
   "execution_count": 106,
   "id": "586ae1e3",
   "metadata": {},
   "outputs": [
    {
     "data": {
      "text/html": [
       "<div>\n",
       "<style scoped>\n",
       "    .dataframe tbody tr th:only-of-type {\n",
       "        vertical-align: middle;\n",
       "    }\n",
       "\n",
       "    .dataframe tbody tr th {\n",
       "        vertical-align: top;\n",
       "    }\n",
       "\n",
       "    .dataframe thead th {\n",
       "        text-align: right;\n",
       "    }\n",
       "</style>\n",
       "<table border=\"1\" class=\"dataframe\">\n",
       "  <thead>\n",
       "    <tr style=\"text-align: right;\">\n",
       "      <th></th>\n",
       "      <th>Name</th>\n",
       "    </tr>\n",
       "  </thead>\n",
       "  <tbody>\n",
       "    <tr>\n",
       "      <th>0</th>\n",
       "      <td>Bulbasaur</td>\n",
       "    </tr>\n",
       "    <tr>\n",
       "      <th>1</th>\n",
       "      <td>Ivysaur</td>\n",
       "    </tr>\n",
       "    <tr>\n",
       "      <th>2</th>\n",
       "      <td>Venusaur</td>\n",
       "    </tr>\n",
       "    <tr>\n",
       "      <th>3</th>\n",
       "      <td>VenusaurMega Venusaur</td>\n",
       "    </tr>\n",
       "    <tr>\n",
       "      <th>4</th>\n",
       "      <td>Charmander</td>\n",
       "    </tr>\n",
       "    <tr>\n",
       "      <th>...</th>\n",
       "      <td>...</td>\n",
       "    </tr>\n",
       "    <tr>\n",
       "      <th>795</th>\n",
       "      <td>Diancie</td>\n",
       "    </tr>\n",
       "    <tr>\n",
       "      <th>796</th>\n",
       "      <td>DiancieMega Diancie</td>\n",
       "    </tr>\n",
       "    <tr>\n",
       "      <th>797</th>\n",
       "      <td>HoopaHoopa Confined</td>\n",
       "    </tr>\n",
       "    <tr>\n",
       "      <th>798</th>\n",
       "      <td>HoopaHoopa Unbound</td>\n",
       "    </tr>\n",
       "    <tr>\n",
       "      <th>799</th>\n",
       "      <td>Volcanion</td>\n",
       "    </tr>\n",
       "  </tbody>\n",
       "</table>\n",
       "<p>800 rows × 1 columns</p>\n",
       "</div>"
      ],
      "text/plain": [
       "                      Name\n",
       "0                Bulbasaur\n",
       "1                  Ivysaur\n",
       "2                 Venusaur\n",
       "3    VenusaurMega Venusaur\n",
       "4               Charmander\n",
       "..                     ...\n",
       "795                Diancie\n",
       "796    DiancieMega Diancie\n",
       "797    HoopaHoopa Confined\n",
       "798     HoopaHoopa Unbound\n",
       "799              Volcanion\n",
       "\n",
       "[800 rows x 1 columns]"
      ]
     },
     "execution_count": 106,
     "metadata": {},
     "output_type": "execute_result"
    }
   ],
   "source": [
    "pd.read_csv('C:/Users/juleq/OneDrive/Desktop/pandas_kurs/course-files/pokemon.csv', usecols = ['Name'])"
   ]
  },
  {
   "cell_type": "code",
   "execution_count": 107,
   "id": "875109b6",
   "metadata": {},
   "outputs": [
    {
     "data": {
      "text/plain": [
       "pandas.core.frame.DataFrame"
      ]
     },
     "execution_count": 107,
     "metadata": {},
     "output_type": "execute_result"
    }
   ],
   "source": [
    "obj = pd.read_csv('C:/Users/juleq/OneDrive/Desktop/pandas_kurs/course-files/pokemon.csv', usecols = ['Name'])\n",
    "type(obj)#dane wyglądają jak dane jednokolumnowe, ale to nadal DataFrame - graficznie przyjemna postać"
   ]
  },
  {
   "cell_type": "code",
   "execution_count": 108,
   "id": "da0e611d",
   "metadata": {},
   "outputs": [
    {
     "name": "stderr",
     "output_type": "stream",
     "text": [
      "C:\\Users\\juleq\\AppData\\Local\\Temp/ipykernel_7280/1398495509.py:1: FutureWarning: The squeeze argument has been deprecated and will be removed in a future version. Append .squeeze(\"columns\") to the call to squeeze.\n",
      "\n",
      "\n",
      "  pd.read_csv('C:/Users/juleq/OneDrive/Desktop/pandas_kurs/course-files/pokemon.csv', usecols = ['Name'], squeeze = True)\n"
     ]
    },
    {
     "data": {
      "text/plain": [
       "0                  Bulbasaur\n",
       "1                    Ivysaur\n",
       "2                   Venusaur\n",
       "3      VenusaurMega Venusaur\n",
       "4                 Charmander\n",
       "               ...          \n",
       "795                  Diancie\n",
       "796      DiancieMega Diancie\n",
       "797      HoopaHoopa Confined\n",
       "798       HoopaHoopa Unbound\n",
       "799                Volcanion\n",
       "Name: Name, Length: 800, dtype: object"
      ]
     },
     "execution_count": 108,
     "metadata": {},
     "output_type": "execute_result"
    }
   ],
   "source": [
    "pd.read_csv('C:/Users/juleq/OneDrive/Desktop/pandas_kurs/course-files/pokemon.csv', usecols = ['Name'], squeeze = True)"
   ]
  },
  {
   "cell_type": "code",
   "execution_count": 109,
   "id": "cf8f3ab3",
   "metadata": {},
   "outputs": [
    {
     "name": "stderr",
     "output_type": "stream",
     "text": [
      "C:\\Users\\juleq\\AppData\\Local\\Temp/ipykernel_7280/2828683539.py:1: FutureWarning: The squeeze argument has been deprecated and will be removed in a future version. Append .squeeze(\"columns\") to the call to squeeze.\n",
      "\n",
      "\n",
      "  obj = pd.read_csv('C:/Users/juleq/OneDrive/Desktop/pandas_kurs/course-files/pokemon.csv', usecols = ['Name'], squeeze = True)\n"
     ]
    },
    {
     "data": {
      "text/plain": [
       "pandas.core.series.Series"
      ]
     },
     "execution_count": 109,
     "metadata": {},
     "output_type": "execute_result"
    }
   ],
   "source": [
    "obj = pd.read_csv('C:/Users/juleq/OneDrive/Desktop/pandas_kurs/course-files/pokemon.csv', usecols = ['Name'], squeeze = True)\n",
    "type(obj)"
   ]
  },
  {
   "cell_type": "code",
   "execution_count": 110,
   "id": "62d767fe",
   "metadata": {},
   "outputs": [
    {
     "name": "stderr",
     "output_type": "stream",
     "text": [
      "C:\\Users\\juleq\\AppData\\Local\\Temp/ipykernel_7280/1350439316.py:1: FutureWarning: The squeeze argument has been deprecated and will be removed in a future version. Append .squeeze(\"columns\") to the call to squeeze.\n",
      "\n",
      "\n",
      "  speed = pd.read_csv('C:/Users/juleq/OneDrive/Desktop/pandas_kurs/course-files/pokemon.csv', usecols = ['Speed'], squeeze = True)\n"
     ]
    },
    {
     "data": {
      "text/plain": [
       "0       45\n",
       "1       60\n",
       "2       80\n",
       "3       80\n",
       "4       65\n",
       "      ... \n",
       "795     50\n",
       "796    110\n",
       "797     70\n",
       "798     80\n",
       "799     70\n",
       "Name: Speed, Length: 800, dtype: int64"
      ]
     },
     "execution_count": 110,
     "metadata": {},
     "output_type": "execute_result"
    }
   ],
   "source": [
    "speed = pd.read_csv('C:/Users/juleq/OneDrive/Desktop/pandas_kurs/course-files/pokemon.csv', usecols = ['Speed'], squeeze = True)\n",
    "speed"
   ]
  },
  {
   "cell_type": "code",
   "execution_count": 111,
   "id": "aabb193a",
   "metadata": {},
   "outputs": [
    {
     "ename": "EmptyDataError",
     "evalue": "No columns to parse from file",
     "output_type": "error",
     "traceback": [
      "\u001b[1;31m---------------------------------------------------------------------------\u001b[0m",
      "\u001b[1;31mEmptyDataError\u001b[0m                            Traceback (most recent call last)",
      "\u001b[1;32m~\\AppData\\Local\\Temp/ipykernel_7280/1119065914.py\u001b[0m in \u001b[0;36m<module>\u001b[1;34m\u001b[0m\n\u001b[0;32m      1\u001b[0m \u001b[1;31m#pobieranie danych ze schowka systemu windows\u001b[0m\u001b[1;33m\u001b[0m\u001b[1;33m\u001b[0m\u001b[1;33m\u001b[0m\u001b[0m\n\u001b[1;32m----> 2\u001b[1;33m \u001b[0mdataFromClipboard\u001b[0m \u001b[1;33m=\u001b[0m \u001b[0mpd\u001b[0m\u001b[1;33m.\u001b[0m\u001b[0mread_clipboard\u001b[0m\u001b[1;33m(\u001b[0m\u001b[0msep\u001b[0m \u001b[1;33m=\u001b[0m \u001b[1;34m','\u001b[0m\u001b[1;33m)\u001b[0m\u001b[1;33m\u001b[0m\u001b[1;33m\u001b[0m\u001b[0m\n\u001b[0m\u001b[0;32m      3\u001b[0m \u001b[0mdataFromClipboard\u001b[0m\u001b[1;33m\u001b[0m\u001b[1;33m\u001b[0m\u001b[0m\n\u001b[0;32m      4\u001b[0m \u001b[1;31m#wow\u001b[0m\u001b[1;33m\u001b[0m\u001b[1;33m\u001b[0m\u001b[1;33m\u001b[0m\u001b[0m\n\u001b[0;32m      5\u001b[0m \u001b[0mtype\u001b[0m\u001b[1;33m(\u001b[0m\u001b[0mdataFromClipboard\u001b[0m\u001b[1;33m)\u001b[0m\u001b[1;33m\u001b[0m\u001b[1;33m\u001b[0m\u001b[0m\n",
      "\u001b[1;32m~\\anaconda3\\envs\\mcim\\lib\\site-packages\\pandas\\io\\clipboards.py\u001b[0m in \u001b[0;36mread_clipboard\u001b[1;34m(sep, **kwargs)\u001b[0m\n\u001b[0;32m     83\u001b[0m         )\n\u001b[0;32m     84\u001b[0m \u001b[1;33m\u001b[0m\u001b[0m\n\u001b[1;32m---> 85\u001b[1;33m     \u001b[1;32mreturn\u001b[0m \u001b[0mread_csv\u001b[0m\u001b[1;33m(\u001b[0m\u001b[0mStringIO\u001b[0m\u001b[1;33m(\u001b[0m\u001b[0mtext\u001b[0m\u001b[1;33m)\u001b[0m\u001b[1;33m,\u001b[0m \u001b[0msep\u001b[0m\u001b[1;33m=\u001b[0m\u001b[0msep\u001b[0m\u001b[1;33m,\u001b[0m \u001b[1;33m**\u001b[0m\u001b[0mkwargs\u001b[0m\u001b[1;33m)\u001b[0m\u001b[1;33m\u001b[0m\u001b[1;33m\u001b[0m\u001b[0m\n\u001b[0m\u001b[0;32m     86\u001b[0m \u001b[1;33m\u001b[0m\u001b[0m\n\u001b[0;32m     87\u001b[0m \u001b[1;33m\u001b[0m\u001b[0m\n",
      "\u001b[1;32m~\\anaconda3\\envs\\mcim\\lib\\site-packages\\pandas\\util\\_decorators.py\u001b[0m in \u001b[0;36mwrapper\u001b[1;34m(*args, **kwargs)\u001b[0m\n\u001b[0;32m    309\u001b[0m                     \u001b[0mstacklevel\u001b[0m\u001b[1;33m=\u001b[0m\u001b[0mstacklevel\u001b[0m\u001b[1;33m,\u001b[0m\u001b[1;33m\u001b[0m\u001b[1;33m\u001b[0m\u001b[0m\n\u001b[0;32m    310\u001b[0m                 )\n\u001b[1;32m--> 311\u001b[1;33m             \u001b[1;32mreturn\u001b[0m \u001b[0mfunc\u001b[0m\u001b[1;33m(\u001b[0m\u001b[1;33m*\u001b[0m\u001b[0margs\u001b[0m\u001b[1;33m,\u001b[0m \u001b[1;33m**\u001b[0m\u001b[0mkwargs\u001b[0m\u001b[1;33m)\u001b[0m\u001b[1;33m\u001b[0m\u001b[1;33m\u001b[0m\u001b[0m\n\u001b[0m\u001b[0;32m    312\u001b[0m \u001b[1;33m\u001b[0m\u001b[0m\n\u001b[0;32m    313\u001b[0m         \u001b[1;32mreturn\u001b[0m \u001b[0mwrapper\u001b[0m\u001b[1;33m\u001b[0m\u001b[1;33m\u001b[0m\u001b[0m\n",
      "\u001b[1;32m~\\anaconda3\\envs\\mcim\\lib\\site-packages\\pandas\\io\\parsers\\readers.py\u001b[0m in \u001b[0;36mread_csv\u001b[1;34m(filepath_or_buffer, sep, delimiter, header, names, index_col, usecols, squeeze, prefix, mangle_dupe_cols, dtype, engine, converters, true_values, false_values, skipinitialspace, skiprows, skipfooter, nrows, na_values, keep_default_na, na_filter, verbose, skip_blank_lines, parse_dates, infer_datetime_format, keep_date_col, date_parser, dayfirst, cache_dates, iterator, chunksize, compression, thousands, decimal, lineterminator, quotechar, quoting, doublequote, escapechar, comment, encoding, encoding_errors, dialect, error_bad_lines, warn_bad_lines, on_bad_lines, delim_whitespace, low_memory, memory_map, float_precision, storage_options)\u001b[0m\n\u001b[0;32m    678\u001b[0m     \u001b[0mkwds\u001b[0m\u001b[1;33m.\u001b[0m\u001b[0mupdate\u001b[0m\u001b[1;33m(\u001b[0m\u001b[0mkwds_defaults\u001b[0m\u001b[1;33m)\u001b[0m\u001b[1;33m\u001b[0m\u001b[1;33m\u001b[0m\u001b[0m\n\u001b[0;32m    679\u001b[0m \u001b[1;33m\u001b[0m\u001b[0m\n\u001b[1;32m--> 680\u001b[1;33m     \u001b[1;32mreturn\u001b[0m \u001b[0m_read\u001b[0m\u001b[1;33m(\u001b[0m\u001b[0mfilepath_or_buffer\u001b[0m\u001b[1;33m,\u001b[0m \u001b[0mkwds\u001b[0m\u001b[1;33m)\u001b[0m\u001b[1;33m\u001b[0m\u001b[1;33m\u001b[0m\u001b[0m\n\u001b[0m\u001b[0;32m    681\u001b[0m \u001b[1;33m\u001b[0m\u001b[0m\n\u001b[0;32m    682\u001b[0m \u001b[1;33m\u001b[0m\u001b[0m\n",
      "\u001b[1;32m~\\anaconda3\\envs\\mcim\\lib\\site-packages\\pandas\\io\\parsers\\readers.py\u001b[0m in \u001b[0;36m_read\u001b[1;34m(filepath_or_buffer, kwds)\u001b[0m\n\u001b[0;32m    573\u001b[0m \u001b[1;33m\u001b[0m\u001b[0m\n\u001b[0;32m    574\u001b[0m     \u001b[1;31m# Create the parser.\u001b[0m\u001b[1;33m\u001b[0m\u001b[1;33m\u001b[0m\u001b[1;33m\u001b[0m\u001b[0m\n\u001b[1;32m--> 575\u001b[1;33m     \u001b[0mparser\u001b[0m \u001b[1;33m=\u001b[0m \u001b[0mTextFileReader\u001b[0m\u001b[1;33m(\u001b[0m\u001b[0mfilepath_or_buffer\u001b[0m\u001b[1;33m,\u001b[0m \u001b[1;33m**\u001b[0m\u001b[0mkwds\u001b[0m\u001b[1;33m)\u001b[0m\u001b[1;33m\u001b[0m\u001b[1;33m\u001b[0m\u001b[0m\n\u001b[0m\u001b[0;32m    576\u001b[0m \u001b[1;33m\u001b[0m\u001b[0m\n\u001b[0;32m    577\u001b[0m     \u001b[1;32mif\u001b[0m \u001b[0mchunksize\u001b[0m \u001b[1;32mor\u001b[0m \u001b[0miterator\u001b[0m\u001b[1;33m:\u001b[0m\u001b[1;33m\u001b[0m\u001b[1;33m\u001b[0m\u001b[0m\n",
      "\u001b[1;32m~\\anaconda3\\envs\\mcim\\lib\\site-packages\\pandas\\io\\parsers\\readers.py\u001b[0m in \u001b[0;36m__init__\u001b[1;34m(self, f, engine, **kwds)\u001b[0m\n\u001b[0;32m    931\u001b[0m \u001b[1;33m\u001b[0m\u001b[0m\n\u001b[0;32m    932\u001b[0m         \u001b[0mself\u001b[0m\u001b[1;33m.\u001b[0m\u001b[0mhandles\u001b[0m\u001b[1;33m:\u001b[0m \u001b[0mIOHandles\u001b[0m \u001b[1;33m|\u001b[0m \u001b[1;32mNone\u001b[0m \u001b[1;33m=\u001b[0m \u001b[1;32mNone\u001b[0m\u001b[1;33m\u001b[0m\u001b[1;33m\u001b[0m\u001b[0m\n\u001b[1;32m--> 933\u001b[1;33m         \u001b[0mself\u001b[0m\u001b[1;33m.\u001b[0m\u001b[0m_engine\u001b[0m \u001b[1;33m=\u001b[0m \u001b[0mself\u001b[0m\u001b[1;33m.\u001b[0m\u001b[0m_make_engine\u001b[0m\u001b[1;33m(\u001b[0m\u001b[0mf\u001b[0m\u001b[1;33m,\u001b[0m \u001b[0mself\u001b[0m\u001b[1;33m.\u001b[0m\u001b[0mengine\u001b[0m\u001b[1;33m)\u001b[0m\u001b[1;33m\u001b[0m\u001b[1;33m\u001b[0m\u001b[0m\n\u001b[0m\u001b[0;32m    934\u001b[0m \u001b[1;33m\u001b[0m\u001b[0m\n\u001b[0;32m    935\u001b[0m     \u001b[1;32mdef\u001b[0m \u001b[0mclose\u001b[0m\u001b[1;33m(\u001b[0m\u001b[0mself\u001b[0m\u001b[1;33m)\u001b[0m\u001b[1;33m:\u001b[0m\u001b[1;33m\u001b[0m\u001b[1;33m\u001b[0m\u001b[0m\n",
      "\u001b[1;32m~\\anaconda3\\envs\\mcim\\lib\\site-packages\\pandas\\io\\parsers\\readers.py\u001b[0m in \u001b[0;36m_make_engine\u001b[1;34m(self, f, engine)\u001b[0m\n\u001b[0;32m   1229\u001b[0m \u001b[1;33m\u001b[0m\u001b[0m\n\u001b[0;32m   1230\u001b[0m         \u001b[1;32mtry\u001b[0m\u001b[1;33m:\u001b[0m\u001b[1;33m\u001b[0m\u001b[1;33m\u001b[0m\u001b[0m\n\u001b[1;32m-> 1231\u001b[1;33m             \u001b[1;32mreturn\u001b[0m \u001b[0mmapping\u001b[0m\u001b[1;33m[\u001b[0m\u001b[0mengine\u001b[0m\u001b[1;33m]\u001b[0m\u001b[1;33m(\u001b[0m\u001b[0mf\u001b[0m\u001b[1;33m,\u001b[0m \u001b[1;33m**\u001b[0m\u001b[0mself\u001b[0m\u001b[1;33m.\u001b[0m\u001b[0moptions\u001b[0m\u001b[1;33m)\u001b[0m\u001b[1;33m\u001b[0m\u001b[1;33m\u001b[0m\u001b[0m\n\u001b[0m\u001b[0;32m   1232\u001b[0m         \u001b[1;32mexcept\u001b[0m \u001b[0mException\u001b[0m\u001b[1;33m:\u001b[0m\u001b[1;33m\u001b[0m\u001b[1;33m\u001b[0m\u001b[0m\n\u001b[0;32m   1233\u001b[0m             \u001b[1;32mif\u001b[0m \u001b[0mself\u001b[0m\u001b[1;33m.\u001b[0m\u001b[0mhandles\u001b[0m \u001b[1;32mis\u001b[0m \u001b[1;32mnot\u001b[0m \u001b[1;32mNone\u001b[0m\u001b[1;33m:\u001b[0m\u001b[1;33m\u001b[0m\u001b[1;33m\u001b[0m\u001b[0m\n",
      "\u001b[1;32m~\\anaconda3\\envs\\mcim\\lib\\site-packages\\pandas\\io\\parsers\\c_parser_wrapper.py\u001b[0m in \u001b[0;36m__init__\u001b[1;34m(self, src, **kwds)\u001b[0m\n\u001b[0;32m     73\u001b[0m \u001b[1;33m\u001b[0m\u001b[0m\n\u001b[0;32m     74\u001b[0m         \u001b[0mkwds\u001b[0m\u001b[1;33m[\u001b[0m\u001b[1;34m\"dtype\"\u001b[0m\u001b[1;33m]\u001b[0m \u001b[1;33m=\u001b[0m \u001b[0mensure_dtype_objs\u001b[0m\u001b[1;33m(\u001b[0m\u001b[0mkwds\u001b[0m\u001b[1;33m.\u001b[0m\u001b[0mget\u001b[0m\u001b[1;33m(\u001b[0m\u001b[1;34m\"dtype\"\u001b[0m\u001b[1;33m,\u001b[0m \u001b[1;32mNone\u001b[0m\u001b[1;33m)\u001b[0m\u001b[1;33m)\u001b[0m\u001b[1;33m\u001b[0m\u001b[1;33m\u001b[0m\u001b[0m\n\u001b[1;32m---> 75\u001b[1;33m         \u001b[0mself\u001b[0m\u001b[1;33m.\u001b[0m\u001b[0m_reader\u001b[0m \u001b[1;33m=\u001b[0m \u001b[0mparsers\u001b[0m\u001b[1;33m.\u001b[0m\u001b[0mTextReader\u001b[0m\u001b[1;33m(\u001b[0m\u001b[0msrc\u001b[0m\u001b[1;33m,\u001b[0m \u001b[1;33m**\u001b[0m\u001b[0mkwds\u001b[0m\u001b[1;33m)\u001b[0m\u001b[1;33m\u001b[0m\u001b[1;33m\u001b[0m\u001b[0m\n\u001b[0m\u001b[0;32m     76\u001b[0m \u001b[1;33m\u001b[0m\u001b[0m\n\u001b[0;32m     77\u001b[0m         \u001b[0mself\u001b[0m\u001b[1;33m.\u001b[0m\u001b[0munnamed_cols\u001b[0m \u001b[1;33m=\u001b[0m \u001b[0mself\u001b[0m\u001b[1;33m.\u001b[0m\u001b[0m_reader\u001b[0m\u001b[1;33m.\u001b[0m\u001b[0munnamed_cols\u001b[0m\u001b[1;33m\u001b[0m\u001b[1;33m\u001b[0m\u001b[0m\n",
      "\u001b[1;32m~\\anaconda3\\envs\\mcim\\lib\\site-packages\\pandas\\_libs\\parsers.pyx\u001b[0m in \u001b[0;36mpandas._libs.parsers.TextReader.__cinit__\u001b[1;34m()\u001b[0m\n",
      "\u001b[1;31mEmptyDataError\u001b[0m: No columns to parse from file"
     ]
    }
   ],
   "source": [
    "#pobieranie danych ze schowka systemu windows\n",
    "dataFromClipboard = pd.read_clipboard(sep = ',')\n",
    "dataFromClipboard\n",
    "#wow\n",
    "type(dataFromClipboard)"
   ]
  },
  {
   "cell_type": "code",
   "execution_count": 112,
   "id": "7669ee40",
   "metadata": {},
   "outputs": [
    {
     "ename": "NameError",
     "evalue": "name 'dataFromClipboard' is not defined",
     "output_type": "error",
     "traceback": [
      "\u001b[1;31m---------------------------------------------------------------------------\u001b[0m",
      "\u001b[1;31mNameError\u001b[0m                                 Traceback (most recent call last)",
      "\u001b[1;32m~\\AppData\\Local\\Temp/ipykernel_7280/3725768333.py\u001b[0m in \u001b[0;36m<module>\u001b[1;34m\u001b[0m\n\u001b[0;32m      1\u001b[0m \u001b[1;31m#wyciągnięcie 1 kolumny i analizowanie jej jako data Series\u001b[0m\u001b[1;33m\u001b[0m\u001b[1;33m\u001b[0m\u001b[1;33m\u001b[0m\u001b[0m\n\u001b[1;32m----> 2\u001b[1;33m \u001b[0moneSeries\u001b[0m \u001b[1;33m=\u001b[0m \u001b[0mdataFromClipboard\u001b[0m\u001b[1;33m[\u001b[0m\u001b[1;34m'Name'\u001b[0m\u001b[1;33m]\u001b[0m\u001b[1;33m\u001b[0m\u001b[1;33m\u001b[0m\u001b[0m\n\u001b[0m\u001b[0;32m      3\u001b[0m \u001b[0moneSeries\u001b[0m\u001b[1;33m\u001b[0m\u001b[1;33m\u001b[0m\u001b[0m\n\u001b[0;32m      4\u001b[0m \u001b[0mtype\u001b[0m\u001b[1;33m(\u001b[0m\u001b[0moneSeries\u001b[0m\u001b[1;33m)\u001b[0m\u001b[1;33m\u001b[0m\u001b[1;33m\u001b[0m\u001b[0m\n",
      "\u001b[1;31mNameError\u001b[0m: name 'dataFromClipboard' is not defined"
     ]
    }
   ],
   "source": [
    "#wyciągnięcie 1 kolumny i analizowanie jej jako data Series\n",
    "oneSeries = dataFromClipboard['Name']\n",
    "oneSeries\n",
    "type(oneSeries)"
   ]
  },
  {
   "cell_type": "code",
   "execution_count": 113,
   "id": "7d35984f",
   "metadata": {},
   "outputs": [
    {
     "ename": "NameError",
     "evalue": "name 'oneSeries' is not defined",
     "output_type": "error",
     "traceback": [
      "\u001b[1;31m---------------------------------------------------------------------------\u001b[0m",
      "\u001b[1;31mNameError\u001b[0m                                 Traceback (most recent call last)",
      "\u001b[1;32m~\\AppData\\Local\\Temp/ipykernel_7280/520115696.py\u001b[0m in \u001b[0;36m<module>\u001b[1;34m\u001b[0m\n\u001b[0;32m      1\u001b[0m \u001b[1;31m#metoda head - wyświetla 5 pierwszych wierszy\u001b[0m\u001b[1;33m\u001b[0m\u001b[1;33m\u001b[0m\u001b[1;33m\u001b[0m\u001b[0m\n\u001b[1;32m----> 2\u001b[1;33m \u001b[0moneSeries\u001b[0m\u001b[1;33m.\u001b[0m\u001b[0mhead\u001b[0m\u001b[1;33m(\u001b[0m\u001b[1;33m)\u001b[0m\u001b[1;33m\u001b[0m\u001b[1;33m\u001b[0m\u001b[0m\n\u001b[0m",
      "\u001b[1;31mNameError\u001b[0m: name 'oneSeries' is not defined"
     ]
    }
   ],
   "source": [
    "#metoda head - wyświetla 5 pierwszych wierszy\n",
    "oneSeries.head()"
   ]
  },
  {
   "cell_type": "code",
   "execution_count": 114,
   "id": "5ab56e68",
   "metadata": {},
   "outputs": [
    {
     "ename": "NameError",
     "evalue": "name 'oneSeries' is not defined",
     "output_type": "error",
     "traceback": [
      "\u001b[1;31m---------------------------------------------------------------------------\u001b[0m",
      "\u001b[1;31mNameError\u001b[0m                                 Traceback (most recent call last)",
      "\u001b[1;32m~\\AppData\\Local\\Temp/ipykernel_7280/2284601046.py\u001b[0m in \u001b[0;36m<module>\u001b[1;34m\u001b[0m\n\u001b[0;32m      1\u001b[0m \u001b[1;31m#metoda tail - wyświetla 5 dolnych wierszy\u001b[0m\u001b[1;33m\u001b[0m\u001b[1;33m\u001b[0m\u001b[1;33m\u001b[0m\u001b[0m\n\u001b[1;32m----> 2\u001b[1;33m \u001b[0moneSeries\u001b[0m\u001b[1;33m.\u001b[0m\u001b[0mtail\u001b[0m\u001b[1;33m(\u001b[0m\u001b[1;33m)\u001b[0m\u001b[1;33m\u001b[0m\u001b[1;33m\u001b[0m\u001b[0m\n\u001b[0m",
      "\u001b[1;31mNameError\u001b[0m: name 'oneSeries' is not defined"
     ]
    }
   ],
   "source": [
    "#metoda tail - wyświetla 5 dolnych wierszy\n",
    "oneSeries.tail()"
   ]
  },
  {
   "cell_type": "code",
   "execution_count": 115,
   "id": "6d46598d",
   "metadata": {},
   "outputs": [
    {
     "ename": "NameError",
     "evalue": "name 'oneSeries' is not defined",
     "output_type": "error",
     "traceback": [
      "\u001b[1;31m---------------------------------------------------------------------------\u001b[0m",
      "\u001b[1;31mNameError\u001b[0m                                 Traceback (most recent call last)",
      "\u001b[1;32m~\\AppData\\Local\\Temp/ipykernel_7280/1164479153.py\u001b[0m in \u001b[0;36m<module>\u001b[1;34m\u001b[0m\n\u001b[0;32m      1\u001b[0m \u001b[1;31m#polecenia te mogą przyjmować parametry, mianowicie ile danych ma pokazac\u001b[0m\u001b[1;33m\u001b[0m\u001b[1;33m\u001b[0m\u001b[1;33m\u001b[0m\u001b[0m\n\u001b[1;32m----> 2\u001b[1;33m \u001b[0moneSeries\u001b[0m\u001b[1;33m.\u001b[0m\u001b[0mhead\u001b[0m\u001b[1;33m(\u001b[0m\u001b[1;36m3\u001b[0m\u001b[1;33m)\u001b[0m\u001b[1;33m\u001b[0m\u001b[1;33m\u001b[0m\u001b[0m\n\u001b[0m",
      "\u001b[1;31mNameError\u001b[0m: name 'oneSeries' is not defined"
     ]
    }
   ],
   "source": [
    "#polecenia te mogą przyjmować parametry, mianowicie ile danych ma pokazac\n",
    "oneSeries.head(3)"
   ]
  },
  {
   "cell_type": "code",
   "execution_count": 116,
   "id": "14587145",
   "metadata": {},
   "outputs": [
    {
     "ename": "NameError",
     "evalue": "name 'oneSeries' is not defined",
     "output_type": "error",
     "traceback": [
      "\u001b[1;31m---------------------------------------------------------------------------\u001b[0m",
      "\u001b[1;31mNameError\u001b[0m                                 Traceback (most recent call last)",
      "\u001b[1;32m~\\AppData\\Local\\Temp/ipykernel_7280/76769758.py\u001b[0m in \u001b[0;36m<module>\u001b[1;34m\u001b[0m\n\u001b[1;32m----> 1\u001b[1;33m \u001b[0moneSeries\u001b[0m\u001b[1;33m.\u001b[0m\u001b[0mtail\u001b[0m\u001b[1;33m(\u001b[0m\u001b[1;36m10\u001b[0m\u001b[1;33m)\u001b[0m\u001b[1;33m\u001b[0m\u001b[1;33m\u001b[0m\u001b[0m\n\u001b[0m",
      "\u001b[1;31mNameError\u001b[0m: name 'oneSeries' is not defined"
     ]
    }
   ],
   "source": [
    "oneSeries.tail(10)"
   ]
  },
  {
   "cell_type": "code",
   "execution_count": 117,
   "id": "8f470bcc",
   "metadata": {},
   "outputs": [
    {
     "name": "stderr",
     "output_type": "stream",
     "text": [
      "C:\\Users\\juleq\\AppData\\Local\\Temp/ipykernel_7280/3602943546.py:1: FutureWarning: The squeeze argument has been deprecated and will be removed in a future version. Append .squeeze(\"columns\") to the call to squeeze.\n",
      "\n",
      "\n",
      "  pd.read_csv('C:/Users/juleq/OneDrive/Desktop/pandas_kurs/course-files/pokemon.csv', usecols = ['Name'], squeeze = True).head()\n"
     ]
    },
    {
     "data": {
      "text/plain": [
       "0                Bulbasaur\n",
       "1                  Ivysaur\n",
       "2                 Venusaur\n",
       "3    VenusaurMega Venusaur\n",
       "4               Charmander\n",
       "Name: Name, dtype: object"
      ]
     },
     "execution_count": 117,
     "metadata": {},
     "output_type": "execute_result"
    }
   ],
   "source": [
    "pd.read_csv('C:/Users/juleq/OneDrive/Desktop/pandas_kurs/course-files/pokemon.csv', usecols = ['Name'], squeeze = True).head()\n",
    "#squeeze - konwertuje kolumne do typu Series"
   ]
  },
  {
   "cell_type": "code",
   "execution_count": 118,
   "id": "a97b47dc",
   "metadata": {},
   "outputs": [
    {
     "name": "stderr",
     "output_type": "stream",
     "text": [
      "C:\\Users\\juleq\\AppData\\Local\\Temp/ipykernel_7280/3501695053.py:1: FutureWarning: The squeeze argument has been deprecated and will be removed in a future version. Append .squeeze(\"columns\") to the call to squeeze.\n",
      "\n",
      "\n",
      "  mySeries = pd.read_csv('C:/Users/juleq/OneDrive/Desktop/pandas_kurs/course-files/pokemon.csv', usecols = ['Name'], squeeze = True).head(3)\n"
     ]
    },
    {
     "data": {
      "text/plain": [
       "3"
      ]
     },
     "execution_count": 118,
     "metadata": {},
     "output_type": "execute_result"
    }
   ],
   "source": [
    "mySeries = pd.read_csv('C:/Users/juleq/OneDrive/Desktop/pandas_kurs/course-files/pokemon.csv', usecols = ['Name'], squeeze = True).head(3)\n",
    "mySeries\n",
    "mySeries.size"
   ]
  },
  {
   "cell_type": "code",
   "execution_count": 119,
   "id": "8193c66a",
   "metadata": {},
   "outputs": [
    {
     "name": "stderr",
     "output_type": "stream",
     "text": [
      "C:\\Users\\juleq\\AppData\\Local\\Temp/ipykernel_7280/2041599593.py:1: FutureWarning: The squeeze argument has been deprecated and will be removed in a future version. Append .squeeze(\"columns\") to the call to squeeze.\n",
      "\n",
      "\n",
      "  mySeries = pd.read_csv('C:/Users/juleq/OneDrive/Desktop/pandas_kurs/course-files/pokemon.csv', usecols = ['Name'], squeeze = True)\n"
     ]
    },
    {
     "data": {
      "text/plain": [
       "800"
      ]
     },
     "execution_count": 119,
     "metadata": {},
     "output_type": "execute_result"
    }
   ],
   "source": [
    "mySeries = pd.read_csv('C:/Users/juleq/OneDrive/Desktop/pandas_kurs/course-files/pokemon.csv', usecols = ['Name'], squeeze = True)\n",
    "mySeries.head(3)\n",
    "mySeries.size"
   ]
  },
  {
   "cell_type": "code",
   "execution_count": null,
   "id": "19fe3bf8",
   "metadata": {},
   "outputs": [],
   "source": []
  }
 ],
 "metadata": {
  "kernelspec": {
   "display_name": "Python 3 (ipykernel)",
   "language": "python",
   "name": "python3"
  },
  "language_info": {
   "codemirror_mode": {
    "name": "ipython",
    "version": 3
   },
   "file_extension": ".py",
   "mimetype": "text/x-python",
   "name": "python",
   "nbconvert_exporter": "python",
   "pygments_lexer": "ipython3",
   "version": "3.8.12"
  }
 },
 "nbformat": 4,
 "nbformat_minor": 5
}
