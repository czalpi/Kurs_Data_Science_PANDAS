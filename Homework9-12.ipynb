{
 "cells": [
  {
   "cell_type": "markdown",
   "id": "03e7bd28",
   "metadata": {},
   "source": [
    "# Praca domowa"
   ]
  },
  {
   "cell_type": "markdown",
   "id": "bb173ac1",
   "metadata": {},
   "source": [
    "### LAB - S02-L008 - Import danych do obiektu series"
   ]
  },
  {
   "cell_type": "code",
   "execution_count": 1,
   "id": "5e3ceb6d",
   "metadata": {},
   "outputs": [],
   "source": [
    "import numpy as np\n",
    "import pandas as pd\n",
    "import matplotlib.pyplot as plt\n",
    "import math as math"
   ]
  },
  {
   "cell_type": "code",
   "execution_count": 9,
   "id": "0983b5f3",
   "metadata": {},
   "outputs": [
    {
     "data": {
      "text/html": [
       "<div>\n",
       "<style scoped>\n",
       "    .dataframe tbody tr th:only-of-type {\n",
       "        vertical-align: middle;\n",
       "    }\n",
       "\n",
       "    .dataframe tbody tr th {\n",
       "        vertical-align: top;\n",
       "    }\n",
       "\n",
       "    .dataframe thead th {\n",
       "        text-align: right;\n",
       "    }\n",
       "</style>\n",
       "<table border=\"1\" class=\"dataframe\">\n",
       "  <thead>\n",
       "    <tr style=\"text-align: right;\">\n",
       "      <th></th>\n",
       "      <th>FormalEducation</th>\n",
       "    </tr>\n",
       "  </thead>\n",
       "  <tbody>\n",
       "    <tr>\n",
       "      <th>0</th>\n",
       "      <td>Secondary school</td>\n",
       "    </tr>\n",
       "    <tr>\n",
       "      <th>1</th>\n",
       "      <td>Some college/university study without earning ...</td>\n",
       "    </tr>\n",
       "    <tr>\n",
       "      <th>2</th>\n",
       "      <td>Bachelor's degree</td>\n",
       "    </tr>\n",
       "    <tr>\n",
       "      <th>3</th>\n",
       "      <td>Doctoral degree</td>\n",
       "    </tr>\n",
       "    <tr>\n",
       "      <th>4</th>\n",
       "      <td>Master's degree</td>\n",
       "    </tr>\n",
       "  </tbody>\n",
       "</table>\n",
       "</div>"
      ],
      "text/plain": [
       "                                     FormalEducation\n",
       "0                                   Secondary school\n",
       "1  Some college/university study without earning ...\n",
       "2                                  Bachelor's degree\n",
       "3                                    Doctoral degree\n",
       "4                                    Master's degree"
      ]
     },
     "execution_count": 9,
     "metadata": {},
     "output_type": "execute_result"
    }
   ],
   "source": [
    "education = pd.read_csv('C:/Users/juleq/OneDrive/Desktop/pandas_kurs/course-files/StackOverflowDeveloperSurvey.csv', \n",
    "                        usecols = ['FormalEducation'])\n",
    "education.head()"
   ]
  },
  {
   "cell_type": "code",
   "execution_count": 8,
   "id": "d324d04a",
   "metadata": {},
   "outputs": [
    {
     "data": {
      "text/plain": [
       "pandas.core.frame.DataFrame"
      ]
     },
     "execution_count": 8,
     "metadata": {},
     "output_type": "execute_result"
    }
   ],
   "source": [
    "type(education)"
   ]
  },
  {
   "cell_type": "code",
   "execution_count": 11,
   "id": "619d03b1",
   "metadata": {},
   "outputs": [
    {
     "name": "stderr",
     "output_type": "stream",
     "text": [
      "C:\\Users\\juleq\\AppData\\Local\\Temp/ipykernel_10800/589451999.py:1: FutureWarning: The squeeze argument has been deprecated and will be removed in a future version. Append .squeeze(\"columns\") to the call to squeeze.\n",
      "\n",
      "\n",
      "  education = pd.read_csv('C:/Users/juleq/OneDrive/Desktop/pandas_kurs/course-files/StackOverflowDeveloperSurvey.csv',\n"
     ]
    },
    {
     "data": {
      "text/plain": [
       "0                                     Secondary school\n",
       "1    Some college/university study without earning ...\n",
       "2                                    Bachelor's degree\n",
       "3                                      Doctoral degree\n",
       "4                                      Master's degree\n",
       "Name: FormalEducation, dtype: object"
      ]
     },
     "execution_count": 11,
     "metadata": {},
     "output_type": "execute_result"
    }
   ],
   "source": [
    "education = pd.read_csv('C:/Users/juleq/OneDrive/Desktop/pandas_kurs/course-files/StackOverflowDeveloperSurvey.csv', \n",
    "                        usecols = ['FormalEducation'], squeeze = True)\n",
    "education.head()"
   ]
  },
  {
   "cell_type": "code",
   "execution_count": 12,
   "id": "c74feed5",
   "metadata": {},
   "outputs": [
    {
     "data": {
      "text/plain": [
       "pandas.core.series.Series"
      ]
     },
     "execution_count": 12,
     "metadata": {},
     "output_type": "execute_result"
    }
   ],
   "source": [
    "type(education)"
   ]
  },
  {
   "cell_type": "code",
   "execution_count": 13,
   "id": "f5bb3eeb",
   "metadata": {},
   "outputs": [
    {
     "data": {
      "text/plain": [
       "51382                                      Master's degree\n",
       "51383               I never completed any formal education\n",
       "51384                                    Bachelor's degree\n",
       "51385                                      Master's degree\n",
       "51386    Some college/university study without earning ...\n",
       "51387                                    Bachelor's degree\n",
       "51388                                      Master's degree\n",
       "51389    Some college/university study without earning ...\n",
       "51390                                    Bachelor's degree\n",
       "51391                                    Bachelor's degree\n",
       "Name: FormalEducation, dtype: object"
      ]
     },
     "execution_count": 13,
     "metadata": {},
     "output_type": "execute_result"
    }
   ],
   "source": [
    "education.tail(10)"
   ]
  },
  {
   "cell_type": "code",
   "execution_count": 14,
   "id": "391cd2c9",
   "metadata": {},
   "outputs": [],
   "source": [
    "allInfo = pd.read_csv('C:/Users/juleq/OneDrive/Desktop/pandas_kurs/course-files/StackOverflowDeveloperSurvey.csv')"
   ]
  },
  {
   "cell_type": "code",
   "execution_count": 18,
   "id": "662e77b4",
   "metadata": {},
   "outputs": [
    {
     "data": {
      "text/plain": [
       "0     United States\n",
       "1    United Kingdom\n",
       "2    United Kingdom\n",
       "3     United States\n",
       "4       Switzerland\n",
       "Name: Country, dtype: object"
      ]
     },
     "execution_count": 18,
     "metadata": {},
     "output_type": "execute_result"
    }
   ],
   "source": [
    "country = allInfo['Country']\n",
    "country.head()"
   ]
  },
  {
   "cell_type": "code",
   "execution_count": 38,
   "id": "9bfacf7b",
   "metadata": {},
   "outputs": [
    {
     "data": {
      "text/plain": [
       "0     True\n",
       "1    False\n",
       "2    False\n",
       "3     True\n",
       "4    False\n",
       "Name: Country, dtype: bool"
      ]
     },
     "execution_count": 38,
     "metadata": {},
     "output_type": "execute_result"
    }
   ],
   "source": [
    "filterOnlyUSA = country == 'United States'\n",
    "filterOnlyUSA.head()"
   ]
  },
  {
   "cell_type": "code",
   "execution_count": 39,
   "id": "e10cf743",
   "metadata": {},
   "outputs": [
    {
     "data": {
      "text/plain": [
       "0              Secondary school\n",
       "3               Doctoral degree\n",
       "6               Master's degree\n",
       "10            Bachelor's degree\n",
       "15    Primary/elementary school\n",
       "17            Bachelor's degree\n",
       "18            Bachelor's degree\n",
       "25              Master's degree\n",
       "27            Bachelor's degree\n",
       "29            Bachelor's degree\n",
       "Name: FormalEducation, dtype: object"
      ]
     },
     "execution_count": 39,
     "metadata": {},
     "output_type": "execute_result"
    }
   ],
   "source": [
    "education.where(filterOnlyUSA).dropna().head(10)"
   ]
  },
  {
   "cell_type": "markdown",
   "id": "0cdbbb3f",
   "metadata": {},
   "source": [
    "### LAB - S02-L009 - Standardowe metody Pythona a obiekty PANDAS"
   ]
  },
  {
   "cell_type": "code",
   "execution_count": 60,
   "id": "9a9e28d9",
   "metadata": {},
   "outputs": [
    {
     "name": "stderr",
     "output_type": "stream",
     "text": [
      "C:\\Users\\juleq\\AppData\\Local\\Temp/ipykernel_10800/860435534.py:1: FutureWarning: The squeeze argument has been deprecated and will be removed in a future version. Append .squeeze(\"columns\") to the call to squeeze.\n",
      "\n",
      "\n",
      "  salary = pd.read_csv('C:/Users/juleq/OneDrive/Desktop/pandas_kurs/course-files/StackOverflowDeveloperSurvey.csv',\n"
     ]
    },
    {
     "data": {
      "text/plain": [
       "2     113750.0\n",
       "14    100000.0\n",
       "17    130000.0\n",
       "18     82500.0\n",
       "22    100764.0\n",
       "Name: Salary, dtype: float64"
      ]
     },
     "execution_count": 60,
     "metadata": {},
     "output_type": "execute_result"
    }
   ],
   "source": [
    "salary = pd.read_csv('C:/Users/juleq/OneDrive/Desktop/pandas_kurs/course-files/StackOverflowDeveloperSurvey.csv', \n",
    "                        usecols = ['Salary'], squeeze = True).where(salary > 0).dropna()\n",
    "salary.head()"
   ]
  },
  {
   "cell_type": "code",
   "execution_count": 61,
   "id": "0eb8325e",
   "metadata": {},
   "outputs": [
    {
     "data": {
      "text/plain": [
       "12885"
      ]
     },
     "execution_count": 61,
     "metadata": {},
     "output_type": "execute_result"
    }
   ],
   "source": [
    "len(salary)"
   ]
  },
  {
   "cell_type": "code",
   "execution_count": 62,
   "id": "43f85dca",
   "metadata": {},
   "outputs": [
    {
     "data": {
      "text/plain": [
       "0.014682131845544"
      ]
     },
     "execution_count": 62,
     "metadata": {},
     "output_type": "execute_result"
    }
   ],
   "source": [
    "salary.min()"
   ]
  },
  {
   "cell_type": "code",
   "execution_count": 63,
   "id": "a102abe4",
   "metadata": {},
   "outputs": [
    {
     "data": {
      "text/plain": [
       "197000.0"
      ]
     },
     "execution_count": 63,
     "metadata": {},
     "output_type": "execute_result"
    }
   ],
   "source": [
    "salary.max()"
   ]
  },
  {
   "cell_type": "code",
   "execution_count": 66,
   "id": "71c03ff5",
   "metadata": {},
   "outputs": [
    {
     "data": {
      "text/plain": [
       "[113750.0, 100000.0, 130000.0, 82500.0, 100764.0]"
      ]
     },
     "execution_count": 66,
     "metadata": {},
     "output_type": "execute_result"
    }
   ],
   "source": [
    "list(salary.head())"
   ]
  },
  {
   "cell_type": "code",
   "execution_count": 68,
   "id": "88fb3015",
   "metadata": {},
   "outputs": [
    {
     "data": {
      "text/plain": [
       "{2: 113750.0, 14: 100000.0, 17: 130000.0, 18: 82500.0, 22: 100764.0}"
      ]
     },
     "execution_count": 68,
     "metadata": {},
     "output_type": "execute_result"
    }
   ],
   "source": [
    "dict(salary.head())"
   ]
  },
  {
   "cell_type": "code",
   "execution_count": 72,
   "id": "a7977a8b",
   "metadata": {},
   "outputs": [
    {
     "data": {
      "text/plain": [
       "31600    197000.0\n",
       "41398    195000.0\n",
       "1696     195000.0\n",
       "27943    195000.0\n",
       "18237    195000.0\n",
       "Name: Salary, dtype: float64"
      ]
     },
     "execution_count": 72,
     "metadata": {},
     "output_type": "execute_result"
    }
   ],
   "source": [
    "listSalarySorted = salary.sort_values(ascending = False)\n",
    "listSalarySorted[:5]"
   ]
  },
  {
   "cell_type": "code",
   "execution_count": 75,
   "id": "9b04d867",
   "metadata": {},
   "outputs": [],
   "source": [
    "salary.name = 'Salary of a person' #zmiana atrybutu name"
   ]
  },
  {
   "cell_type": "code",
   "execution_count": 76,
   "id": "515de636",
   "metadata": {},
   "outputs": [
    {
     "data": {
      "text/plain": [
       "2     113750.0\n",
       "14    100000.0\n",
       "17    130000.0\n",
       "18     82500.0\n",
       "22    100764.0\n",
       "Name: Salary of a person, dtype: float64"
      ]
     },
     "execution_count": 76,
     "metadata": {},
     "output_type": "execute_result"
    }
   ],
   "source": [
    "salary.head()"
   ]
  },
  {
   "cell_type": "markdown",
   "id": "618079a1",
   "metadata": {},
   "source": [
    "### LAB - S02-L010 - Sortowanie danych dataseries"
   ]
  },
  {
   "cell_type": "code",
   "execution_count": 104,
   "id": "101e2fa6",
   "metadata": {},
   "outputs": [
    {
     "name": "stderr",
     "output_type": "stream",
     "text": [
      "C:\\Users\\juleq\\AppData\\Local\\Temp/ipykernel_10800/4026820901.py:1: FutureWarning: The squeeze argument has been deprecated and will be removed in a future version. Append .squeeze(\"columns\") to the call to squeeze.\n",
      "\n",
      "\n",
      "  salary = pd.read_csv('C:/Users/juleq/OneDrive/Desktop/pandas_kurs/course-files/StackOverflowDeveloperSurvey.csv',\n"
     ]
    },
    {
     "data": {
      "text/plain": [
       "2     113750.0\n",
       "14    100000.0\n",
       "17    130000.0\n",
       "18     82500.0\n",
       "22    100764.0\n",
       "Name: Salary, dtype: float64"
      ]
     },
     "execution_count": 104,
     "metadata": {},
     "output_type": "execute_result"
    }
   ],
   "source": [
    "salary = pd.read_csv('C:/Users/juleq/OneDrive/Desktop/pandas_kurs/course-files/StackOverflowDeveloperSurvey.csv', \n",
    "                        usecols = ['Salary'], squeeze = True).dropna()\n",
    "salary.head()"
   ]
  },
  {
   "cell_type": "code",
   "execution_count": 105,
   "id": "91d6e20f",
   "metadata": {},
   "outputs": [
    {
     "data": {
      "text/plain": [
       "31600    197000.0\n",
       "27943    195000.0\n",
       "6743     195000.0\n",
       "18237    195000.0\n",
       "41398    195000.0\n",
       "Name: Salary, dtype: float64"
      ]
     },
     "execution_count": 105,
     "metadata": {},
     "output_type": "execute_result"
    }
   ],
   "source": [
    "salary.sort_values(ascending = False).head()#malejąco"
   ]
  },
  {
   "cell_type": "code",
   "execution_count": 106,
   "id": "60786458",
   "metadata": {},
   "outputs": [
    {
     "data": {
      "text/plain": [
       "51144    0.0\n",
       "23953    0.0\n",
       "23907    0.0\n",
       "44841    0.0\n",
       "2951     0.0\n",
       "Name: Salary, dtype: float64"
      ]
     },
     "execution_count": 106,
     "metadata": {},
     "output_type": "execute_result"
    }
   ],
   "source": [
    "salary.sort_values().head()#rosnąco"
   ]
  },
  {
   "cell_type": "code",
   "execution_count": 107,
   "id": "77621165",
   "metadata": {},
   "outputs": [
    {
     "data": {
      "text/plain": [
       "31600    197000.0\n",
       "27943    195000.0\n",
       "6743     195000.0\n",
       "18237    195000.0\n",
       "41398    195000.0\n",
       "Name: Salary, dtype: float64"
      ]
     },
     "execution_count": 107,
     "metadata": {},
     "output_type": "execute_result"
    }
   ],
   "source": [
    "salary.sort_values(ascending = False, inplace = True)\n",
    "salary.head()"
   ]
  },
  {
   "cell_type": "code",
   "execution_count": 108,
   "id": "7bb65c2a",
   "metadata": {},
   "outputs": [
    {
     "data": {
      "text/plain": [
       "2951       0.000000\n",
       "23907      0.000000\n",
       "44841      0.000000\n",
       "4517       0.000000\n",
       "51144      0.000000\n",
       "            ...    \n",
       "26905    176.185582\n",
       "33212    178.784267\n",
       "50569    198.208780\n",
       "48674    198.649186\n",
       "1077     200.000000\n",
       "Name: Salary, Length: 100, dtype: float64"
      ]
     },
     "execution_count": 108,
     "metadata": {},
     "output_type": "execute_result"
    }
   ],
   "source": [
    "maxSalaries = salary.sort_values(ascending = True).head(100)\n",
    "maxSalaries"
   ]
  },
  {
   "cell_type": "code",
   "execution_count": 109,
   "id": "5ff15902",
   "metadata": {},
   "outputs": [
    {
     "data": {
      "text/plain": [
       "14805    170000.0\n",
       "45384    170000.0\n",
       "41214    170000.0\n",
       "29971    170000.0\n",
       "291      170000.0\n",
       "           ...   \n",
       "41398    195000.0\n",
       "18237    195000.0\n",
       "6743     195000.0\n",
       "27943    195000.0\n",
       "31600    197000.0\n",
       "Name: Salary, Length: 100, dtype: float64"
      ]
     },
     "execution_count": 109,
     "metadata": {},
     "output_type": "execute_result"
    }
   ],
   "source": [
    "minSalaries = salary.sort_values(ascending = True).tail(100)#lub salary.sort_values().head(100)\n",
    "minSalaries"
   ]
  },
  {
   "cell_type": "code",
   "execution_count": 110,
   "id": "1febb21d",
   "metadata": {},
   "outputs": [
    {
     "data": {
      "text/plain": [
       "67.08388907133795"
      ]
     },
     "execution_count": 110,
     "metadata": {},
     "output_type": "execute_result"
    }
   ],
   "source": [
    "maxSalaries.mean()"
   ]
  },
  {
   "cell_type": "code",
   "execution_count": 111,
   "id": "6adfcb14",
   "metadata": {},
   "outputs": [
    {
     "data": {
      "text/plain": [
       "180198.1045586777"
      ]
     },
     "execution_count": 111,
     "metadata": {},
     "output_type": "execute_result"
    }
   ],
   "source": [
    "minSalaries.mean()"
   ]
  },
  {
   "cell_type": "markdown",
   "id": "74a2d469",
   "metadata": {},
   "source": [
    "### LAB - S02-L011 - Sprawdzanie czy element jest na liście"
   ]
  },
  {
   "cell_type": "code",
   "execution_count": 103,
   "id": "5fd71caf",
   "metadata": {},
   "outputs": [
    {
     "name": "stderr",
     "output_type": "stream",
     "text": [
      "C:\\Users\\juleq\\AppData\\Local\\Temp/ipykernel_10800/3735922723.py:1: FutureWarning: The squeeze argument has been deprecated and will be removed in a future version. Append .squeeze(\"columns\") to the call to squeeze.\n",
      "\n",
      "\n",
      "  countries = pd.read_csv('C:/Users/juleq/OneDrive/Desktop/pandas_kurs/course-files/StackOverflowDeveloperSurvey.csv',\n"
     ]
    },
    {
     "data": {
      "text/plain": [
       "0     United States\n",
       "1    United Kingdom\n",
       "2    United Kingdom\n",
       "3     United States\n",
       "4       Switzerland\n",
       "Name: Country, dtype: object"
      ]
     },
     "execution_count": 103,
     "metadata": {},
     "output_type": "execute_result"
    }
   ],
   "source": [
    "countries = pd.read_csv('C:/Users/juleq/OneDrive/Desktop/pandas_kurs/course-files/StackOverflowDeveloperSurvey.csv', \n",
    "                        usecols = ['Country'], squeeze = True).dropna()\n",
    "countries.head()"
   ]
  },
  {
   "cell_type": "code",
   "execution_count": 114,
   "id": "1b291ede",
   "metadata": {},
   "outputs": [
    {
     "data": {
      "text/plain": [
       "False"
      ]
     },
     "execution_count": 114,
     "metadata": {},
     "output_type": "execute_result"
    }
   ],
   "source": [
    "'Spain' in countries#szukanie po wartości"
   ]
  },
  {
   "cell_type": "code",
   "execution_count": 115,
   "id": "86dd67dc",
   "metadata": {},
   "outputs": [
    {
     "data": {
      "text/plain": [
       "True"
      ]
     },
     "execution_count": 115,
     "metadata": {},
     "output_type": "execute_result"
    }
   ],
   "source": [
    "'Spain' in countries.values#szukanie po indeksie"
   ]
  },
  {
   "cell_type": "code",
   "execution_count": 116,
   "id": "78c7bcb0",
   "metadata": {},
   "outputs": [
    {
     "data": {
      "text/plain": [
       "False"
      ]
     },
     "execution_count": 116,
     "metadata": {},
     "output_type": "execute_result"
    }
   ],
   "source": [
    "'Wonderland' in countries.values"
   ]
  },
  {
   "cell_type": "markdown",
   "id": "e47c510f",
   "metadata": {},
   "source": [
    "### LAB - S02-L012 - Pobieranie wartości po indeksie"
   ]
  },
  {
   "cell_type": "code",
   "execution_count": 123,
   "id": "695179e2",
   "metadata": {},
   "outputs": [
    {
     "name": "stderr",
     "output_type": "stream",
     "text": [
      "C:\\Users\\juleq\\AppData\\Local\\Temp/ipykernel_10800/1963183830.py:1: FutureWarning: The squeeze argument has been deprecated and will be removed in a future version. Append .squeeze(\"columns\") to the call to squeeze.\n",
      "\n",
      "\n",
      "  surveys = pd.read_csv('C:/Users/juleq/OneDrive/Desktop/pandas_kurs/course-files/StackOverflowDeveloperSurvey.csv',\n"
     ]
    },
    {
     "data": {
      "text/plain": [
       "1          20 to 99 employees\n",
       "2    10,000 or more employees\n",
       "3    10,000 or more employees\n",
       "4          10 to 19 employees\n",
       "6          20 to 99 employees\n",
       "Name: CompanySize, dtype: object"
      ]
     },
     "execution_count": 123,
     "metadata": {},
     "output_type": "execute_result"
    }
   ],
   "source": [
    "surveys = pd.read_csv('C:/Users/juleq/OneDrive/Desktop/pandas_kurs/course-files/StackOverflowDeveloperSurvey.csv',\n",
    "                      usecols = ['CompanySize'], squeeze = True).dropna()\n",
    "surveys.head()"
   ]
  },
  {
   "cell_type": "code",
   "execution_count": 124,
   "id": "4e85a990",
   "metadata": {},
   "outputs": [
    {
     "data": {
      "text/plain": [
       "'10,000 or more employees'"
      ]
     },
     "execution_count": 124,
     "metadata": {},
     "output_type": "execute_result"
    }
   ],
   "source": [
    "surveys[3]"
   ]
  },
  {
   "cell_type": "code",
   "execution_count": 125,
   "id": "0d6163a9",
   "metadata": {},
   "outputs": [
    {
     "data": {
      "text/plain": [
       "2     10,000 or more employees\n",
       "3     10,000 or more employees\n",
       "4           10 to 19 employees\n",
       "6           20 to 99 employees\n",
       "7      Fewer than 10 employees\n",
       "8     5,000 to 9,999 employees\n",
       "10        100 to 499 employees\n",
       "11        100 to 499 employees\n",
       "13     Fewer than 10 employees\n",
       "14    5,000 to 9,999 employees\n",
       "Name: CompanySize, dtype: object"
      ]
     },
     "execution_count": 125,
     "metadata": {},
     "output_type": "execute_result"
    }
   ],
   "source": [
    "surveys[1:11]"
   ]
  },
  {
   "cell_type": "code",
   "execution_count": 126,
   "id": "4046f0ee",
   "metadata": {},
   "outputs": [
    {
     "data": {
      "text/plain": [
       "'20 to 99 employees'"
      ]
     },
     "execution_count": 126,
     "metadata": {},
     "output_type": "execute_result"
    }
   ],
   "source": [
    "surveys[12345]"
   ]
  },
  {
   "cell_type": "code",
   "execution_count": 140,
   "id": "ca198445",
   "metadata": {},
   "outputs": [
    {
     "data": {
      "text/plain": [
       "12345    10,000 or more employees\n",
       "12346    10,000 or more employees\n",
       "12347    10,000 or more employees\n",
       "12348    10,000 or more employees\n",
       "12349    10,000 or more employees\n",
       "12350    10,000 or more employees\n",
       "Name: CompanySize, dtype: object"
      ]
     },
     "execution_count": 140,
     "metadata": {},
     "output_type": "execute_result"
    }
   ],
   "source": [
    "surveys[12345:12351]"
   ]
  },
  {
   "cell_type": "code",
   "execution_count": 128,
   "id": "641c63b4",
   "metadata": {},
   "outputs": [],
   "source": [
    "surveys.sort_values(inplace = True)"
   ]
  },
  {
   "cell_type": "code",
   "execution_count": 129,
   "id": "6e51a096",
   "metadata": {},
   "outputs": [
    {
     "data": {
      "text/plain": [
       "'10,000 or more employees'"
      ]
     },
     "execution_count": 129,
     "metadata": {},
     "output_type": "execute_result"
    }
   ],
   "source": [
    "surveys[3]"
   ]
  },
  {
   "cell_type": "code",
   "execution_count": 130,
   "id": "619f54cc",
   "metadata": {},
   "outputs": [
    {
     "data": {
      "text/plain": [
       "36683    1,000 to 4,999 employees\n",
       "43105    1,000 to 4,999 employees\n",
       "43102    1,000 to 4,999 employees\n",
       "30582    1,000 to 4,999 employees\n",
       "43072    1,000 to 4,999 employees\n",
       "43063    1,000 to 4,999 employees\n",
       "23955    1,000 to 4,999 employees\n",
       "43060    1,000 to 4,999 employees\n",
       "43056    1,000 to 4,999 employees\n",
       "30558    1,000 to 4,999 employees\n",
       "Name: CompanySize, dtype: object"
      ]
     },
     "execution_count": 130,
     "metadata": {},
     "output_type": "execute_result"
    }
   ],
   "source": [
    "surveys[1:11]"
   ]
  },
  {
   "cell_type": "code",
   "execution_count": 131,
   "id": "b50920d1",
   "metadata": {},
   "outputs": [
    {
     "data": {
      "text/plain": [
       "'20 to 99 employees'"
      ]
     },
     "execution_count": 131,
     "metadata": {},
     "output_type": "execute_result"
    }
   ],
   "source": [
    "surveys[12345]"
   ]
  },
  {
   "cell_type": "code",
   "execution_count": 138,
   "id": "6e8e1634",
   "metadata": {},
   "outputs": [
    {
     "data": {
      "text/plain": [
       "3        1,000 to 4,999 employees\n",
       "12345    10,000 or more employees\n",
       "Name: CompanySize, dtype: object"
      ]
     },
     "execution_count": 138,
     "metadata": {},
     "output_type": "execute_result"
    }
   ],
   "source": [
    "surveys[[3, 12345]]"
   ]
  },
  {
   "cell_type": "code",
   "execution_count": 133,
   "id": "e97c9204",
   "metadata": {},
   "outputs": [],
   "source": [
    "surveys.reset_index(drop=True,inplace=True)"
   ]
  },
  {
   "cell_type": "code",
   "execution_count": 134,
   "id": "38ef4583",
   "metadata": {},
   "outputs": [
    {
     "data": {
      "text/plain": [
       "'1,000 to 4,999 employees'"
      ]
     },
     "execution_count": 134,
     "metadata": {},
     "output_type": "execute_result"
    }
   ],
   "source": [
    "surveys[3]"
   ]
  },
  {
   "cell_type": "code",
   "execution_count": 135,
   "id": "056b607a",
   "metadata": {},
   "outputs": [
    {
     "data": {
      "text/plain": [
       "3     1,000 to 4,999 employees\n",
       "4     1,000 to 4,999 employees\n",
       "5     1,000 to 4,999 employees\n",
       "6     1,000 to 4,999 employees\n",
       "7     1,000 to 4,999 employees\n",
       "8     1,000 to 4,999 employees\n",
       "9     1,000 to 4,999 employees\n",
       "10    1,000 to 4,999 employees\n",
       "Name: CompanySize, dtype: object"
      ]
     },
     "execution_count": 135,
     "metadata": {},
     "output_type": "execute_result"
    }
   ],
   "source": [
    "surveys[3:11]"
   ]
  },
  {
   "cell_type": "code",
   "execution_count": 136,
   "id": "a4d25519",
   "metadata": {},
   "outputs": [
    {
     "data": {
      "text/plain": [
       "'10,000 or more employees'"
      ]
     },
     "execution_count": 136,
     "metadata": {},
     "output_type": "execute_result"
    }
   ],
   "source": [
    "surveys[12345]"
   ]
  },
  {
   "cell_type": "code",
   "execution_count": 139,
   "id": "fe318477",
   "metadata": {},
   "outputs": [
    {
     "data": {
      "text/plain": [
       "12345    10,000 or more employees\n",
       "12346    10,000 or more employees\n",
       "12347    10,000 or more employees\n",
       "12348    10,000 or more employees\n",
       "12349    10,000 or more employees\n",
       "12350    10,000 or more employees\n",
       "Name: CompanySize, dtype: object"
      ]
     },
     "execution_count": 139,
     "metadata": {},
     "output_type": "execute_result"
    }
   ],
   "source": [
    "surveys[12345:12351]"
   ]
  },
  {
   "cell_type": "code",
   "execution_count": null,
   "id": "a493226c",
   "metadata": {},
   "outputs": [],
   "source": []
  }
 ],
 "metadata": {
  "kernelspec": {
   "display_name": "Python 3 (ipykernel)",
   "language": "python",
   "name": "python3"
  },
  "language_info": {
   "codemirror_mode": {
    "name": "ipython",
    "version": 3
   },
   "file_extension": ".py",
   "mimetype": "text/x-python",
   "name": "python",
   "nbconvert_exporter": "python",
   "pygments_lexer": "ipython3",
   "version": "3.8.12"
  }
 },
 "nbformat": 4,
 "nbformat_minor": 5
}
