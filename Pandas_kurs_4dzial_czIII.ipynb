{
 "cells": [
  {
   "cell_type": "markdown",
   "id": "a3fabd84",
   "metadata": {},
   "source": [
    "# Pandas krus dział 4 część III"
   ]
  },
  {
   "cell_type": "code",
   "execution_count": 1,
   "id": "e4cb6f41",
   "metadata": {},
   "outputs": [],
   "source": [
    "import numpy as np\n",
    "import pandas as pd\n",
    "import matplotlib.pyplot as plt\n",
    "import math as math"
   ]
  },
  {
   "cell_type": "code",
   "execution_count": 7,
   "id": "306f823d",
   "metadata": {},
   "outputs": [
    {
     "name": "stderr",
     "output_type": "stream",
     "text": [
      "C:\\Users\\juleq\\AppData\\Local\\Temp/ipykernel_7424/1702928530.py:1: FutureWarning: The squeeze argument has been deprecated and will be removed in a future version. Append .squeeze(\"columns\") to the call to squeeze.\n",
      "\n",
      "\n",
      "  pok = pd.read_csv('C:/Users/juleq/OneDrive/Desktop/pandas_kurs/course-files/pokemon.csv', usecols = ['Name', 'Attack'],\n"
     ]
    },
    {
     "data": {
      "text/plain": [
       "Name\n",
       "Bulbasaur                 49\n",
       "Ivysaur                   62\n",
       "Venusaur                  82\n",
       "VenusaurMega Venusaur    100\n",
       "Charmander                52\n",
       "                        ... \n",
       "Diancie                  100\n",
       "DiancieMega Diancie      160\n",
       "HoopaHoopa Confined      110\n",
       "HoopaHoopa Unbound       160\n",
       "Volcanion                110\n",
       "Name: Attack, Length: 800, dtype: int64"
      ]
     },
     "execution_count": 7,
     "metadata": {},
     "output_type": "execute_result"
    }
   ],
   "source": [
    "pok = pd.read_csv('C:/Users/juleq/OneDrive/Desktop/pandas_kurs/course-files/pokemon.csv', usecols = ['Name', 'Attack'], \n",
    "                  index_col = 'Name', squeeze = True)\n",
    "pok#nazwa pokemona która stanie się indeksem i ich siła ataku"
   ]
  },
  {
   "cell_type": "code",
   "execution_count": 8,
   "id": "ddf5b028",
   "metadata": {},
   "outputs": [
    {
     "data": {
      "text/plain": [
       "Name\n",
       "Bulbasaur                 49\n",
       "Ivysaur                   62\n",
       "Venusaur                  82\n",
       "VenusaurMega Venusaur    100\n",
       "Charmander                52\n",
       "Name: Attack, dtype: int64"
      ]
     },
     "execution_count": 8,
     "metadata": {},
     "output_type": "execute_result"
    }
   ],
   "source": [
    "pok.head()"
   ]
  },
  {
   "cell_type": "code",
   "execution_count": 10,
   "id": "6848602a",
   "metadata": {},
   "outputs": [
    {
     "data": {
      "text/plain": [
       "800"
      ]
     },
     "execution_count": 10,
     "metadata": {},
     "output_type": "execute_result"
    }
   ],
   "source": [
    "pok.count() #ilość elementów w tym zbiorze"
   ]
  },
  {
   "cell_type": "code",
   "execution_count": 13,
   "id": "94e1687c",
   "metadata": {},
   "outputs": [
    {
     "name": "stderr",
     "output_type": "stream",
     "text": [
      "C:\\Users\\juleq\\AppData\\Local\\Temp/ipykernel_7424/2527264096.py:1: FutureWarning: The squeeze argument has been deprecated and will be removed in a future version. Append .squeeze(\"columns\") to the call to squeeze.\n",
      "\n",
      "\n",
      "  pokType = pd.read_csv('C:/Users/juleq/OneDrive/Desktop/pandas_kurs/course-files/pokemon.csv', usecols = ['Name', 'Type 2'],\n"
     ]
    },
    {
     "data": {
      "text/plain": [
       "Name\n",
       "Bulbasaur                Poison\n",
       "Ivysaur                  Poison\n",
       "Venusaur                 Poison\n",
       "VenusaurMega Venusaur    Poison\n",
       "Charmander                  NaN\n",
       "Name: Type 2, dtype: object"
      ]
     },
     "execution_count": 13,
     "metadata": {},
     "output_type": "execute_result"
    }
   ],
   "source": [
    "pokType = pd.read_csv('C:/Users/juleq/OneDrive/Desktop/pandas_kurs/course-files/pokemon.csv', usecols = ['Name', 'Type 2'], \n",
    "                  index_col = 'Name', squeeze = True)\n",
    "pokType.head()#nazwa pokemona jako indeks oraz rodzaj pokemona"
   ]
  },
  {
   "cell_type": "code",
   "execution_count": 17,
   "id": "a9647fb4",
   "metadata": {},
   "outputs": [
    {
     "data": {
      "text/plain": [
       "Flying      97\n",
       "Ground      35\n",
       "Poison      34\n",
       "Psychic     33\n",
       "Fighting    26\n",
       "Grass       25\n",
       "Fairy       23\n",
       "Steel       22\n",
       "Dark        20\n",
       "Dragon      18\n",
       "Water       14\n",
       "Ghost       14\n",
       "Ice         14\n",
       "Rock        14\n",
       "Fire        12\n",
       "Electric     6\n",
       "Normal       4\n",
       "Bug          3\n",
       "Name: Type 2, dtype: int64"
      ]
     },
     "execution_count": 17,
     "metadata": {},
     "output_type": "execute_result"
    }
   ],
   "source": [
    "pokType.value_counts()#domyślnie ustawione jest sort = True, a ascending = False(malejaco)"
   ]
  },
  {
   "cell_type": "code",
   "execution_count": 18,
   "id": "5c04c2fb",
   "metadata": {},
   "outputs": [
    {
     "data": {
      "text/plain": [
       "Flying      97\n",
       "Ground      35\n",
       "Poison      34\n",
       "Psychic     33\n",
       "Fighting    26\n",
       "Name: Type 2, dtype: int64"
      ]
     },
     "execution_count": 18,
     "metadata": {},
     "output_type": "execute_result"
    }
   ],
   "source": [
    "pokType.value_counts().head()"
   ]
  },
  {
   "cell_type": "code",
   "execution_count": 19,
   "id": "cf9d3085",
   "metadata": {},
   "outputs": [
    {
     "data": {
      "text/plain": [
       "5"
      ]
     },
     "execution_count": 19,
     "metadata": {},
     "output_type": "execute_result"
    }
   ],
   "source": [
    "pok.min()"
   ]
  },
  {
   "cell_type": "code",
   "execution_count": 20,
   "id": "347d2a7c",
   "metadata": {},
   "outputs": [
    {
     "data": {
      "text/plain": [
       "190"
      ]
     },
     "execution_count": 20,
     "metadata": {},
     "output_type": "execute_result"
    }
   ],
   "source": [
    "pok.max()"
   ]
  },
  {
   "cell_type": "code",
   "execution_count": 23,
   "id": "cff605ed",
   "metadata": {},
   "outputs": [
    {
     "data": {
      "text/plain": [
       "'Chansey'"
      ]
     },
     "execution_count": 23,
     "metadata": {},
     "output_type": "execute_result"
    }
   ],
   "source": [
    "pok.idxmin()#na którym indeksie zostałą znaleziona wartośćminimalna"
   ]
  },
  {
   "cell_type": "code",
   "execution_count": 25,
   "id": "7df4145d",
   "metadata": {},
   "outputs": [
    {
     "data": {
      "text/plain": [
       "5"
      ]
     },
     "execution_count": 25,
     "metadata": {},
     "output_type": "execute_result"
    }
   ],
   "source": [
    "pok.loc[pok.idxmin()]"
   ]
  },
  {
   "cell_type": "code",
   "execution_count": 24,
   "id": "c0e929a7",
   "metadata": {},
   "outputs": [
    {
     "data": {
      "text/plain": [
       "'MewtwoMega Mewtwo X'"
      ]
     },
     "execution_count": 24,
     "metadata": {},
     "output_type": "execute_result"
    }
   ],
   "source": [
    "pok.idxmax()"
   ]
  },
  {
   "cell_type": "code",
   "execution_count": 26,
   "id": "bb14a0be",
   "metadata": {},
   "outputs": [
    {
     "data": {
      "text/plain": [
       "190"
      ]
     },
     "execution_count": 26,
     "metadata": {},
     "output_type": "execute_result"
    }
   ],
   "source": [
    "pok.loc[pok.idxmax()]"
   ]
  },
  {
   "cell_type": "code",
   "execution_count": 28,
   "id": "7420d3fd",
   "metadata": {},
   "outputs": [
    {
     "data": {
      "text/plain": [
       "79.00125"
      ]
     },
     "execution_count": 28,
     "metadata": {},
     "output_type": "execute_result"
    }
   ],
   "source": [
    "pok.mean()#średnia"
   ]
  },
  {
   "cell_type": "code",
   "execution_count": 32,
   "id": "9b99d568",
   "metadata": {},
   "outputs": [
    {
     "data": {
      "text/plain": [
       "79.00125"
      ]
     },
     "execution_count": 32,
     "metadata": {},
     "output_type": "execute_result"
    }
   ],
   "source": [
    "pok.sum() / pok.count() #wzór na średnią"
   ]
  },
  {
   "cell_type": "code",
   "execution_count": 29,
   "id": "1e57029b",
   "metadata": {},
   "outputs": [
    {
     "data": {
      "text/plain": [
       "75.0"
      ]
     },
     "execution_count": 29,
     "metadata": {},
     "output_type": "execute_result"
    }
   ],
   "source": [
    "pok.median()#mediana - wartość środkowa"
   ]
  },
  {
   "cell_type": "code",
   "execution_count": 31,
   "id": "bdffebb9",
   "metadata": {},
   "outputs": [
    {
     "data": {
      "text/plain": [
       "32.45736586949843"
      ]
     },
     "execution_count": 31,
     "metadata": {},
     "output_type": "execute_result"
    }
   ],
   "source": [
    "pok.std()#odchylenie standardowe - rozrzut danych w serii"
   ]
  },
  {
   "cell_type": "markdown",
   "id": "3bb1187e",
   "metadata": {},
   "source": [
    "## Modyfikacja serii danych"
   ]
  },
  {
   "cell_type": "code",
   "execution_count": 41,
   "id": "0cc1b272",
   "metadata": {},
   "outputs": [
    {
     "name": "stderr",
     "output_type": "stream",
     "text": [
      "C:\\Users\\juleq\\AppData\\Local\\Temp/ipykernel_7424/2439256776.py:1: FutureWarning: The squeeze argument has been deprecated and will be removed in a future version. Append .squeeze(\"columns\") to the call to squeeze.\n",
      "\n",
      "\n",
      "  pok = pd.read_csv('C:/Users/juleq/OneDrive/Desktop/pandas_kurs/course-files/pokemon.csv', usecols = ['Name', 'Attack'],\n"
     ]
    },
    {
     "data": {
      "text/plain": [
       "Name\n",
       "Bulbasaur                 49\n",
       "Ivysaur                   62\n",
       "Venusaur                  82\n",
       "VenusaurMega Venusaur    100\n",
       "Charmander                52\n",
       "Name: Attack, dtype: int64"
      ]
     },
     "execution_count": 41,
     "metadata": {},
     "output_type": "execute_result"
    }
   ],
   "source": [
    "pok = pd.read_csv('C:/Users/juleq/OneDrive/Desktop/pandas_kurs/course-files/pokemon.csv', usecols = ['Name', 'Attack'], \n",
    "                  index_col = 'Name', squeeze = True)\n",
    "pok.head()"
   ]
  },
  {
   "cell_type": "markdown",
   "id": "93fc0641",
   "metadata": {},
   "source": [
    "Pomnożyć liczbę ataku przez 100"
   ]
  },
  {
   "cell_type": "code",
   "execution_count": 42,
   "id": "82dcc14d",
   "metadata": {},
   "outputs": [
    {
     "data": {
      "text/plain": [
       "Name\n",
       "Bulbasaur                 4900\n",
       "Ivysaur                   6200\n",
       "Venusaur                  8200\n",
       "VenusaurMega Venusaur    10000\n",
       "Charmander                5200\n",
       "Name: Attack, dtype: int64"
      ]
     },
     "execution_count": 42,
     "metadata": {},
     "output_type": "execute_result"
    }
   ],
   "source": [
    "pok100 = pok * 100\n",
    "pok100.head()"
   ]
  },
  {
   "cell_type": "code",
   "execution_count": 43,
   "id": "1050a9f4",
   "metadata": {},
   "outputs": [
    {
     "name": "stderr",
     "output_type": "stream",
     "text": [
      "C:\\Users\\juleq\\AppData\\Local\\Temp/ipykernel_7424/2576640415.py:1: FutureWarning: The squeeze argument has been deprecated and will be removed in a future version. Append .squeeze(\"columns\") to the call to squeeze.\n",
      "\n",
      "\n",
      "  pok1 = pd.read_csv('C:/Users/juleq/OneDrive/Desktop/pandas_kurs/course-files/pokemon.csv', usecols = ['Name', 'Type 1'],\n"
     ]
    },
    {
     "data": {
      "text/plain": [
       "Name\n",
       "Bulbasaur                Grass\n",
       "Ivysaur                  Grass\n",
       "Venusaur                 Grass\n",
       "VenusaurMega Venusaur    Grass\n",
       "Charmander                Fire\n",
       "Name: Type 1, dtype: object"
      ]
     },
     "execution_count": 43,
     "metadata": {},
     "output_type": "execute_result"
    }
   ],
   "source": [
    "pok1 = pd.read_csv('C:/Users/juleq/OneDrive/Desktop/pandas_kurs/course-files/pokemon.csv', usecols = ['Name', 'Type 1'], \n",
    "                  index_col = 'Name', squeeze = True)\n",
    "pok1.head()"
   ]
  },
  {
   "cell_type": "markdown",
   "id": "132459a9",
   "metadata": {},
   "source": [
    "Zapisać nazwy znajdujące się w wartościach wielkimi literami"
   ]
  },
  {
   "cell_type": "code",
   "execution_count": 48,
   "id": "cc8178ca",
   "metadata": {},
   "outputs": [
    {
     "data": {
      "text/plain": [
       "Name\n",
       "Bulbasaur                GRASS\n",
       "Ivysaur                  GRASS\n",
       "Venusaur                 GRASS\n",
       "VenusaurMega Venusaur    GRASS\n",
       "Charmander                FIRE\n",
       "Name: Type 1, dtype: object"
      ]
     },
     "execution_count": 48,
     "metadata": {},
     "output_type": "execute_result"
    }
   ],
   "source": [
    "pokUpper = pok1.str.upper()\n",
    "pokUpper.head()"
   ]
  },
  {
   "cell_type": "markdown",
   "id": "10051673",
   "metadata": {},
   "source": [
    "Nazwa tyup pokemona ma byc zapisana wielkimi literami i poprzedzona dwukropkiem"
   ]
  },
  {
   "cell_type": "code",
   "execution_count": 53,
   "id": "fb1d5be3",
   "metadata": {},
   "outputs": [
    {
     "data": {
      "text/plain": [
       "Name\n",
       "Bulbasaur                Type: GRASS\n",
       "Ivysaur                  Type: GRASS\n",
       "Venusaur                 Type: GRASS\n",
       "VenusaurMega Venusaur    Type: GRASS\n",
       "Charmander                Type: FIRE\n",
       "Name: Type 1, dtype: object"
      ]
     },
     "execution_count": 53,
     "metadata": {},
     "output_type": "execute_result"
    }
   ],
   "source": [
    "pokWithType = \"Type: \" + pok1.str.upper()\n",
    "pokWithType.head()"
   ]
  },
  {
   "cell_type": "code",
   "execution_count": 54,
   "id": "11b4518e",
   "metadata": {},
   "outputs": [
    {
     "data": {
      "text/plain": [
       "Name\n",
       "Bulbasaur                Grass\n",
       "Ivysaur                  Grass\n",
       "Venusaur                 Grass\n",
       "VenusaurMega Venusaur    Grass\n",
       "Charmander                Fire\n",
       "Name: Type 1, dtype: object"
      ]
     },
     "execution_count": 54,
     "metadata": {},
     "output_type": "execute_result"
    }
   ],
   "source": [
    "pok1.head()"
   ]
  },
  {
   "cell_type": "code",
   "execution_count": 55,
   "id": "e5876e3b",
   "metadata": {},
   "outputs": [
    {
     "data": {
      "text/plain": [
       "Water       112\n",
       "Normal       98\n",
       "Grass        70\n",
       "Bug          69\n",
       "Psychic      57\n",
       "Fire         52\n",
       "Electric     44\n",
       "Rock         44\n",
       "Dragon       32\n",
       "Ground       32\n",
       "Ghost        32\n",
       "Dark         31\n",
       "Poison       28\n",
       "Steel        27\n",
       "Fighting     27\n",
       "Ice          24\n",
       "Fairy        17\n",
       "Flying        4\n",
       "Name: Type 1, dtype: int64"
      ]
     },
     "execution_count": 55,
     "metadata": {},
     "output_type": "execute_result"
    }
   ],
   "source": [
    "pok1.value_counts()"
   ]
  },
  {
   "cell_type": "markdown",
   "id": "e6f00c11",
   "metadata": {},
   "source": [
    "Typy Grass i Ground mają nazywać się Nature"
   ]
  },
  {
   "cell_type": "code",
   "execution_count": 56,
   "id": "d86cc9e3",
   "metadata": {},
   "outputs": [],
   "source": [
    "def ReplaceType(oldType):\n",
    "    if oldType == \"Grass\" or oldType == 'Ground':\n",
    "        return \"Nature\"\n",
    "    else:\n",
    "        return oldType    "
   ]
  },
  {
   "cell_type": "code",
   "execution_count": 57,
   "id": "84e90f7d",
   "metadata": {},
   "outputs": [
    {
     "data": {
      "text/plain": [
       "'Fire'"
      ]
     },
     "execution_count": 57,
     "metadata": {},
     "output_type": "execute_result"
    }
   ],
   "source": [
    "ReplaceType('Fire')"
   ]
  },
  {
   "cell_type": "code",
   "execution_count": 59,
   "id": "c4ee353b",
   "metadata": {},
   "outputs": [
    {
     "data": {
      "text/plain": [
       "'Nature'"
      ]
     },
     "execution_count": 59,
     "metadata": {},
     "output_type": "execute_result"
    }
   ],
   "source": [
    "ReplaceType('Grass') #Juhu"
   ]
  },
  {
   "cell_type": "code",
   "execution_count": 64,
   "id": "c66341fb",
   "metadata": {},
   "outputs": [
    {
     "data": {
      "text/plain": [
       "Name\n",
       "Bulbasaur                Nature\n",
       "Ivysaur                  Nature\n",
       "Venusaur                 Nature\n",
       "VenusaurMega Venusaur    Nature\n",
       "Charmander                 Fire\n",
       "Name: Type 1, dtype: object"
      ]
     },
     "execution_count": 64,
     "metadata": {},
     "output_type": "execute_result"
    }
   ],
   "source": [
    "pokNature = pok1.apply(ReplaceType)\n",
    "pokNature.head()"
   ]
  },
  {
   "cell_type": "code",
   "execution_count": 66,
   "id": "eadc5f03",
   "metadata": {},
   "outputs": [
    {
     "data": {
      "text/plain": [
       "Water       112\n",
       "Nature      102\n",
       "Normal       98\n",
       "Bug          69\n",
       "Psychic      57\n",
       "Fire         52\n",
       "Electric     44\n",
       "Rock         44\n",
       "Dragon       32\n",
       "Ghost        32\n",
       "Dark         31\n",
       "Poison       28\n",
       "Steel        27\n",
       "Fighting     27\n",
       "Ice          24\n",
       "Fairy        17\n",
       "Flying        4\n",
       "Name: Type 1, dtype: int64"
      ]
     },
     "execution_count": 66,
     "metadata": {},
     "output_type": "execute_result"
    }
   ],
   "source": [
    "pokNature.value_counts()#nature = 102 bo 70 + 32"
   ]
  },
  {
   "cell_type": "markdown",
   "id": "ddc21ef5",
   "metadata": {},
   "source": [
    "Lambda należy użyć, gdy uznamy, że chcemy dodać funkcję, chcemy skorzystać z jakiejś funkcji, ale nie mamy ochoty tej funkcji deklarować.\n",
    "aText - nazwa dla argumentu, po : zapisaliśmy caiło funkcji"
   ]
  },
  {
   "cell_type": "code",
   "execution_count": 69,
   "id": "a9731bdd",
   "metadata": {},
   "outputs": [
    {
     "data": {
      "text/plain": [
       "Name\n",
       "Bulbasaur                GRASS\n",
       "Ivysaur                  GRASS\n",
       "Venusaur                 GRASS\n",
       "VenusaurMega Venusaur    GRASS\n",
       "Charmander                FIRE\n",
       "Name: Type 1, dtype: object"
      ]
     },
     "execution_count": 69,
     "metadata": {},
     "output_type": "execute_result"
    }
   ],
   "source": [
    "pokLambda = pok1.apply(lambda aText: aText.upper())\n",
    "pokLambda.head()"
   ]
  },
  {
   "cell_type": "markdown",
   "id": "0b6cff67",
   "metadata": {},
   "source": [
    "## Metoda map"
   ]
  },
  {
   "cell_type": "code",
   "execution_count": 70,
   "id": "50e9b27a",
   "metadata": {},
   "outputs": [
    {
     "data": {
      "text/plain": [
       "Andy       5\n",
       "Bob        3\n",
       "Chris      2\n",
       "Dirk       4\n",
       "Francis    3\n",
       "George     4\n",
       "Henry      4\n",
       "Ivan       5\n",
       "dtype: int64"
      ]
     },
     "execution_count": 70,
     "metadata": {},
     "output_type": "execute_result"
    }
   ],
   "source": [
    "team = pd.Series(data = [5, 3, 2, 4, 3, 4, 4, 5], index = ['Andy', 'Bob', 'Chris', 'Dirk', 'Francis',\n",
    "                                                           'George', 'Henry', 'Ivan'])\n",
    "team"
   ]
  },
  {
   "cell_type": "code",
   "execution_count": 71,
   "id": "a9f72b5a",
   "metadata": {},
   "outputs": [
    {
     "data": {
      "text/plain": [
       "1      C\n",
       "2      B\n",
       "3      A\n",
       "4     A+\n",
       "5    A++\n",
       "dtype: object"
      ]
     },
     "execution_count": 71,
     "metadata": {},
     "output_type": "execute_result"
    }
   ],
   "source": [
    "notes = pd.Series(data = ['C', 'B', 'A', 'A+', 'A++'], index = [1, 2, 3, 4, 5])\n",
    "notes"
   ]
  },
  {
   "cell_type": "markdown",
   "id": "2eeedd8b",
   "metadata": {},
   "source": [
    "Obok osoby chcemy zobaczyć ocenę w postaci liter zamiast oceny liczbowej"
   ]
  },
  {
   "cell_type": "code",
   "execution_count": 72,
   "id": "8323d8be",
   "metadata": {},
   "outputs": [
    {
     "data": {
      "text/plain": [
       "Andy       A++\n",
       "Bob          A\n",
       "Chris        B\n",
       "Dirk        A+\n",
       "Francis      A\n",
       "George      A+\n",
       "Henry       A+\n",
       "Ivan       A++\n",
       "dtype: object"
      ]
     },
     "execution_count": 72,
     "metadata": {},
     "output_type": "execute_result"
    }
   ],
   "source": [
    "team.map(notes)"
   ]
  },
  {
   "cell_type": "code",
   "execution_count": 73,
   "id": "42cc9a0a",
   "metadata": {},
   "outputs": [
    {
     "data": {
      "text/plain": [
       "{1: 'C', 2: 'B', 3: 'A', 4: 'A+', 5: 'A++'}"
      ]
     },
     "execution_count": 73,
     "metadata": {},
     "output_type": "execute_result"
    }
   ],
   "source": [
    "notes_dict = {1: 'C', 2: 'B', 3: 'A', 4: 'A+', 5: 'A++'}\n",
    "notes_dict"
   ]
  },
  {
   "cell_type": "code",
   "execution_count": 77,
   "id": "b867f750",
   "metadata": {},
   "outputs": [],
   "source": [
    "teamNotes = team.map(notes_dict)#do metody map można dać serię, słownik"
   ]
  },
  {
   "cell_type": "code",
   "execution_count": 78,
   "id": "67654329",
   "metadata": {},
   "outputs": [
    {
     "data": {
      "text/plain": [
       "Andy       A++\n",
       "Bob          A\n",
       "Chris        B\n",
       "Dirk        A+\n",
       "Francis      A\n",
       "George      A+\n",
       "Henry       A+\n",
       "Ivan       A++\n",
       "dtype: object"
      ]
     },
     "execution_count": 78,
     "metadata": {},
     "output_type": "execute_result"
    }
   ],
   "source": [
    "teamNotes"
   ]
  },
  {
   "cell_type": "code",
   "execution_count": null,
   "id": "a5a6d289",
   "metadata": {},
   "outputs": [],
   "source": []
  }
 ],
 "metadata": {
  "kernelspec": {
   "display_name": "Python 3 (ipykernel)",
   "language": "python",
   "name": "python3"
  },
  "language_info": {
   "codemirror_mode": {
    "name": "ipython",
    "version": 3
   },
   "file_extension": ".py",
   "mimetype": "text/x-python",
   "name": "python",
   "nbconvert_exporter": "python",
   "pygments_lexer": "ipython3",
   "version": "3.8.12"
  }
 },
 "nbformat": 4,
 "nbformat_minor": 5
}
