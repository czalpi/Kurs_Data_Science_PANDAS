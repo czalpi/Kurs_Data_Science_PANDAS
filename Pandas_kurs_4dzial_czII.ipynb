{
 "cells": [
  {
   "cell_type": "markdown",
   "id": "e8e0b2ab",
   "metadata": {},
   "source": [
    "# Pandas Kurs dział 4"
   ]
  },
  {
   "cell_type": "code",
   "execution_count": 1,
   "id": "f0c6e8fa",
   "metadata": {},
   "outputs": [],
   "source": [
    "import numpy as np\n",
    "import pandas as pd\n",
    "import matplotlib.pyplot as plt\n",
    "import math as math"
   ]
  },
  {
   "cell_type": "markdown",
   "id": "4893ffe6",
   "metadata": {},
   "source": [
    "## Standardowe metody Pythona a obiekty PANDAS"
   ]
  },
  {
   "cell_type": "code",
   "execution_count": 3,
   "id": "5d91285e",
   "metadata": {},
   "outputs": [
    {
     "name": "stderr",
     "output_type": "stream",
     "text": [
      "C:\\Users\\juleq\\AppData\\Local\\Temp/ipykernel_13072/3515942069.py:1: FutureWarning: The squeeze argument has been deprecated and will be removed in a future version. Append .squeeze(\"columns\") to the call to squeeze.\n",
      "\n",
      "\n",
      "  pok = pd.read_csv('C:/Users/juleq/OneDrive/Desktop/pandas_kurs/course-files/pokemon.csv', usecols = ['Name'], squeeze = True)\n"
     ]
    },
    {
     "data": {
      "text/plain": [
       "0                  Bulbasaur\n",
       "1                    Ivysaur\n",
       "2                   Venusaur\n",
       "3      VenusaurMega Venusaur\n",
       "4                 Charmander\n",
       "               ...          \n",
       "795                  Diancie\n",
       "796      DiancieMega Diancie\n",
       "797      HoopaHoopa Confined\n",
       "798       HoopaHoopa Unbound\n",
       "799                Volcanion\n",
       "Name: Name, Length: 800, dtype: object"
      ]
     },
     "execution_count": 3,
     "metadata": {},
     "output_type": "execute_result"
    }
   ],
   "source": [
    "pok = pd.read_csv('C:/Users/juleq/OneDrive/Desktop/pandas_kurs/course-files/pokemon.csv', usecols = ['Name'], squeeze = True)\n",
    "pok"
   ]
  },
  {
   "cell_type": "code",
   "execution_count": 4,
   "id": "3be2edac",
   "metadata": {},
   "outputs": [
    {
     "data": {
      "text/plain": [
       "pandas.core.series.Series"
      ]
     },
     "execution_count": 4,
     "metadata": {},
     "output_type": "execute_result"
    }
   ],
   "source": [
    "type(pok)"
   ]
  },
  {
   "cell_type": "code",
   "execution_count": 7,
   "id": "a31f23b7",
   "metadata": {},
   "outputs": [
    {
     "data": {
      "text/plain": [
       "800"
      ]
     },
     "execution_count": 7,
     "metadata": {},
     "output_type": "execute_result"
    }
   ],
   "source": [
    "len(pok)#ile elementów znajduje się w obiekcie pok"
   ]
  },
  {
   "cell_type": "code",
   "execution_count": 9,
   "id": "1a50126d",
   "metadata": {},
   "outputs": [
    {
     "data": {
      "text/plain": [
       "0                Bulbasaur\n",
       "1                  Ivysaur\n",
       "2                 Venusaur\n",
       "3    VenusaurMega Venusaur\n",
       "4               Charmander\n",
       "Name: Name, dtype: object"
      ]
     },
     "execution_count": 9,
     "metadata": {},
     "output_type": "execute_result"
    }
   ],
   "source": [
    "pok.head(5)#dane nieposortowane"
   ]
  },
  {
   "cell_type": "code",
   "execution_count": 12,
   "id": "dfe24a6b",
   "metadata": {},
   "outputs": [
    {
     "data": {
      "text/plain": [
       "['Bulbasaur', 'Charmander', 'Ivysaur', 'Venusaur', 'VenusaurMega Venusaur']"
      ]
     },
     "execution_count": 12,
     "metadata": {},
     "output_type": "execute_result"
    }
   ],
   "source": [
    "sorted(pok.head(5))#wartości w kolejności alfabetycznej"
   ]
  },
  {
   "cell_type": "code",
   "execution_count": 13,
   "id": "6c41939e",
   "metadata": {},
   "outputs": [
    {
     "data": {
      "text/plain": [
       "list"
      ]
     },
     "execution_count": 13,
     "metadata": {},
     "output_type": "execute_result"
    }
   ],
   "source": [
    "type(sorted(pok.head(5)))"
   ]
  },
  {
   "cell_type": "code",
   "execution_count": 14,
   "id": "3eea047c",
   "metadata": {},
   "outputs": [
    {
     "data": {
      "text/plain": [
       "['Bulbasaur', 'Ivysaur', 'Venusaur', 'VenusaurMega Venusaur', 'Charmander']"
      ]
     },
     "execution_count": 14,
     "metadata": {},
     "output_type": "execute_result"
    }
   ],
   "source": [
    "#ręczne tworzenie listy\n",
    "list(pok.head(5))"
   ]
  },
  {
   "cell_type": "code",
   "execution_count": 15,
   "id": "7ddfb334",
   "metadata": {},
   "outputs": [
    {
     "data": {
      "text/plain": [
       "list"
      ]
     },
     "execution_count": 15,
     "metadata": {},
     "output_type": "execute_result"
    }
   ],
   "source": [
    "type(list(pok.head(5)))"
   ]
  },
  {
   "cell_type": "code",
   "execution_count": 16,
   "id": "9b27b04d",
   "metadata": {},
   "outputs": [
    {
     "data": {
      "text/plain": [
       "{0: 'Bulbasaur',\n",
       " 1: 'Ivysaur',\n",
       " 2: 'Venusaur',\n",
       " 3: 'VenusaurMega Venusaur',\n",
       " 4: 'Charmander'}"
      ]
     },
     "execution_count": 16,
     "metadata": {},
     "output_type": "execute_result"
    }
   ],
   "source": [
    "#tworzenie słownika\n",
    "dict(pok.head(5))"
   ]
  },
  {
   "cell_type": "code",
   "execution_count": 17,
   "id": "8be7db0e",
   "metadata": {},
   "outputs": [
    {
     "data": {
      "text/plain": [
       "dict"
      ]
     },
     "execution_count": 17,
     "metadata": {},
     "output_type": "execute_result"
    }
   ],
   "source": [
    "type(dict(pok.head(5)))"
   ]
  },
  {
   "cell_type": "code",
   "execution_count": 18,
   "id": "2b7a6841",
   "metadata": {},
   "outputs": [
    {
     "data": {
      "text/plain": [
       "'Abomasnow'"
      ]
     },
     "execution_count": 18,
     "metadata": {},
     "output_type": "execute_result"
    }
   ],
   "source": [
    "min(pok)"
   ]
  },
  {
   "cell_type": "code",
   "execution_count": 19,
   "id": "47ea951b",
   "metadata": {},
   "outputs": [
    {
     "data": {
      "text/plain": [
       "'Zygarde50% Forme'"
      ]
     },
     "execution_count": 19,
     "metadata": {},
     "output_type": "execute_result"
    }
   ],
   "source": [
    "max(pok)"
   ]
  },
  {
   "cell_type": "code",
   "execution_count": 20,
   "id": "1d17a998",
   "metadata": {},
   "outputs": [
    {
     "data": {
      "text/plain": [
       "0                Bulbasaur\n",
       "1                  Ivysaur\n",
       "2                 Venusaur\n",
       "3    VenusaurMega Venusaur\n",
       "4               Charmander\n",
       "Name: Name, dtype: object"
      ]
     },
     "execution_count": 20,
     "metadata": {},
     "output_type": "execute_result"
    }
   ],
   "source": [
    "pok.head()"
   ]
  },
  {
   "cell_type": "code",
   "execution_count": 21,
   "id": "07e63640",
   "metadata": {},
   "outputs": [],
   "source": [
    "#Name: Name - pobraliśmy z pliku kolumne Name w związku z tym ten obiekt serii z którym pracujemy ma również taką\n",
    "#właściwość, która określa że ten obiekt serii nazywa się'name'"
   ]
  },
  {
   "cell_type": "code",
   "execution_count": 22,
   "id": "357ddc65",
   "metadata": {},
   "outputs": [
    {
     "data": {
      "text/plain": [
       "'Name'"
      ]
     },
     "execution_count": 22,
     "metadata": {},
     "output_type": "execute_result"
    }
   ],
   "source": [
    "pok.name"
   ]
  },
  {
   "cell_type": "code",
   "execution_count": 24,
   "id": "deb13cff",
   "metadata": {},
   "outputs": [],
   "source": [
    "pok.name = 'Name of pokemon'"
   ]
  },
  {
   "cell_type": "code",
   "execution_count": 25,
   "id": "5856e9bb",
   "metadata": {},
   "outputs": [
    {
     "data": {
      "text/plain": [
       "0                Bulbasaur\n",
       "1                  Ivysaur\n",
       "2                 Venusaur\n",
       "3    VenusaurMega Venusaur\n",
       "4               Charmander\n",
       "Name: Name of pokemon, dtype: object"
      ]
     },
     "execution_count": 25,
     "metadata": {},
     "output_type": "execute_result"
    }
   ],
   "source": [
    "pok.head()"
   ]
  },
  {
   "cell_type": "code",
   "execution_count": 26,
   "id": "73e2e6e7",
   "metadata": {},
   "outputs": [
    {
     "name": "stderr",
     "output_type": "stream",
     "text": [
      "C:\\Users\\juleq\\AppData\\Local\\Temp/ipykernel_13072/1350439316.py:1: FutureWarning: The squeeze argument has been deprecated and will be removed in a future version. Append .squeeze(\"columns\") to the call to squeeze.\n",
      "\n",
      "\n",
      "  speed = pd.read_csv('C:/Users/juleq/OneDrive/Desktop/pandas_kurs/course-files/pokemon.csv', usecols = ['Speed'], squeeze = True)\n"
     ]
    },
    {
     "data": {
      "text/plain": [
       "0       45\n",
       "1       60\n",
       "2       80\n",
       "3       80\n",
       "4       65\n",
       "      ... \n",
       "795     50\n",
       "796    110\n",
       "797     70\n",
       "798     80\n",
       "799     70\n",
       "Name: Speed, Length: 800, dtype: int64"
      ]
     },
     "execution_count": 26,
     "metadata": {},
     "output_type": "execute_result"
    }
   ],
   "source": [
    "speed = pd.read_csv('C:/Users/juleq/OneDrive/Desktop/pandas_kurs/course-files/pokemon.csv', usecols = ['Speed'], squeeze = True)\n",
    "speed"
   ]
  },
  {
   "cell_type": "markdown",
   "id": "45717b7b",
   "metadata": {},
   "source": [
    "## Sortowanie danych w data series"
   ]
  },
  {
   "cell_type": "code",
   "execution_count": 28,
   "id": "f46d05e2",
   "metadata": {},
   "outputs": [
    {
     "name": "stderr",
     "output_type": "stream",
     "text": [
      "C:\\Users\\juleq\\AppData\\Local\\Temp/ipykernel_13072/2444505158.py:1: FutureWarning: The squeeze argument has been deprecated and will be removed in a future version. Append .squeeze(\"columns\") to the call to squeeze.\n",
      "\n",
      "\n",
      "  pok = pd.read_csv('C:/Users/juleq/OneDrive/Desktop/pandas_kurs/course-files/pokemon.csv', usecols = ['Name'], squeeze = True)\n"
     ]
    },
    {
     "data": {
      "text/plain": [
       "0                Bulbasaur\n",
       "1                  Ivysaur\n",
       "2                 Venusaur\n",
       "3    VenusaurMega Venusaur\n",
       "4               Charmander\n",
       "Name: Name, dtype: object"
      ]
     },
     "execution_count": 28,
     "metadata": {},
     "output_type": "execute_result"
    }
   ],
   "source": [
    "pok = pd.read_csv('C:/Users/juleq/OneDrive/Desktop/pandas_kurs/course-files/pokemon.csv', usecols = ['Name'], squeeze = True)\n",
    "pok.head()"
   ]
  },
  {
   "cell_type": "code",
   "execution_count": 29,
   "id": "9486dc0c",
   "metadata": {},
   "outputs": [
    {
     "data": {
      "text/plain": [
       "510                  Abomasnow\n",
       "511    AbomasnowMega Abomasnow\n",
       "68                        Abra\n",
       "392                      Absol\n",
       "393            AbsolMega Absol\n",
       "                ...           \n",
       "632                    Zoroark\n",
       "631                      Zorua\n",
       "46                       Zubat\n",
       "695                   Zweilous\n",
       "794           Zygarde50% Forme\n",
       "Name: Name, Length: 800, dtype: object"
      ]
     },
     "execution_count": 29,
     "metadata": {},
     "output_type": "execute_result"
    }
   ],
   "source": [
    "pok.sort_values()"
   ]
  },
  {
   "cell_type": "code",
   "execution_count": 32,
   "id": "e36fc5b2",
   "metadata": {},
   "outputs": [
    {
     "data": {
      "text/plain": [
       "794           Zygarde50% Forme\n",
       "695                   Zweilous\n",
       "46                       Zubat\n",
       "631                      Zorua\n",
       "632                    Zoroark\n",
       "                ...           \n",
       "393            AbsolMega Absol\n",
       "392                      Absol\n",
       "68                        Abra\n",
       "511    AbomasnowMega Abomasnow\n",
       "510                  Abomasnow\n",
       "Name: Name, Length: 800, dtype: object"
      ]
     },
     "execution_count": 32,
     "metadata": {},
     "output_type": "execute_result"
    }
   ],
   "source": [
    "pok.sort_values(ascending = False)#sortowanie od końća alfabetu"
   ]
  },
  {
   "cell_type": "code",
   "execution_count": 34,
   "id": "26847af8",
   "metadata": {},
   "outputs": [
    {
     "data": {
      "text/plain": [
       "0                Bulbasaur\n",
       "1                  Ivysaur\n",
       "2                 Venusaur\n",
       "3    VenusaurMega Venusaur\n",
       "4               Charmander\n",
       "Name: Name, dtype: object"
      ]
     },
     "execution_count": 34,
     "metadata": {},
     "output_type": "execute_result"
    }
   ],
   "source": [
    "pok.head()#dane nie sa zmienione, bo pandas bierze obiekt na rzecz którego ta metoda jest wywołana, wykonuje czynność\n",
    "# i zwraca wynik, ale nie nadpisuje wartości"
   ]
  },
  {
   "cell_type": "code",
   "execution_count": 41,
   "id": "cd718f9e",
   "metadata": {},
   "outputs": [],
   "source": [
    "pok.sort_values(inplace = True)#umozliwia zapisanie na wejsciowym pliku\n",
    "#zamiast inplace można stworzyć nową zmienną"
   ]
  },
  {
   "cell_type": "code",
   "execution_count": 42,
   "id": "f913d9e3",
   "metadata": {},
   "outputs": [
    {
     "data": {
      "text/plain": [
       "510                  Abomasnow\n",
       "511    AbomasnowMega Abomasnow\n",
       "68                        Abra\n",
       "392                      Absol\n",
       "393            AbsolMega Absol\n",
       "Name: Name, dtype: object"
      ]
     },
     "execution_count": 42,
     "metadata": {},
     "output_type": "execute_result"
    }
   ],
   "source": [
    "pok.head()"
   ]
  },
  {
   "cell_type": "code",
   "execution_count": 43,
   "id": "48f7745f",
   "metadata": {},
   "outputs": [
    {
     "data": {
      "text/plain": [
       "0                Bulbasaur\n",
       "1                  Ivysaur\n",
       "2                 Venusaur\n",
       "3    VenusaurMega Venusaur\n",
       "4               Charmander\n",
       "Name: Name, dtype: object"
      ]
     },
     "execution_count": 43,
     "metadata": {},
     "output_type": "execute_result"
    }
   ],
   "source": [
    "pok.sort_index().head()"
   ]
  },
  {
   "cell_type": "code",
   "execution_count": 44,
   "id": "429c47f4",
   "metadata": {},
   "outputs": [],
   "source": [
    "pok = pok.sort_index(ascending = False)"
   ]
  },
  {
   "cell_type": "code",
   "execution_count": 45,
   "id": "aa16e7fd",
   "metadata": {},
   "outputs": [
    {
     "data": {
      "text/plain": [
       "799              Volcanion\n",
       "798     HoopaHoopa Unbound\n",
       "797    HoopaHoopa Confined\n",
       "796    DiancieMega Diancie\n",
       "795                Diancie\n",
       "Name: Name, dtype: object"
      ]
     },
     "execution_count": 45,
     "metadata": {},
     "output_type": "execute_result"
    }
   ],
   "source": [
    "pok.head()"
   ]
  },
  {
   "cell_type": "markdown",
   "id": "41701255",
   "metadata": {},
   "source": [
    "## Sprawdzanie czy element jest w serii"
   ]
  },
  {
   "cell_type": "code",
   "execution_count": 47,
   "id": "db198a9d",
   "metadata": {},
   "outputs": [],
   "source": [
    "countries = ['EN', 'FR', 'PL', 'IT']"
   ]
  },
  {
   "cell_type": "code",
   "execution_count": 48,
   "id": "52ebc718",
   "metadata": {},
   "outputs": [
    {
     "data": {
      "text/plain": [
       "True"
      ]
     },
     "execution_count": 48,
     "metadata": {},
     "output_type": "execute_result"
    }
   ],
   "source": [
    "'PL' in countries"
   ]
  },
  {
   "cell_type": "code",
   "execution_count": 50,
   "id": "ce1852a7",
   "metadata": {},
   "outputs": [
    {
     "data": {
      "text/plain": [
       "False"
      ]
     },
     "execution_count": 50,
     "metadata": {},
     "output_type": "execute_result"
    }
   ],
   "source": [
    "'ES' in countries"
   ]
  },
  {
   "cell_type": "code",
   "execution_count": 51,
   "id": "4de1b33e",
   "metadata": {},
   "outputs": [
    {
     "name": "stderr",
     "output_type": "stream",
     "text": [
      "C:\\Users\\juleq\\AppData\\Local\\Temp/ipykernel_13072/2444505158.py:1: FutureWarning: The squeeze argument has been deprecated and will be removed in a future version. Append .squeeze(\"columns\") to the call to squeeze.\n",
      "\n",
      "\n",
      "  pok = pd.read_csv('C:/Users/juleq/OneDrive/Desktop/pandas_kurs/course-files/pokemon.csv', usecols = ['Name'], squeeze = True)\n"
     ]
    },
    {
     "data": {
      "text/plain": [
       "0                Bulbasaur\n",
       "1                  Ivysaur\n",
       "2                 Venusaur\n",
       "3    VenusaurMega Venusaur\n",
       "4               Charmander\n",
       "Name: Name, dtype: object"
      ]
     },
     "execution_count": 51,
     "metadata": {},
     "output_type": "execute_result"
    }
   ],
   "source": [
    "pok = pd.read_csv('C:/Users/juleq/OneDrive/Desktop/pandas_kurs/course-files/pokemon.csv', usecols = ['Name'], squeeze = True)\n",
    "pok.head()"
   ]
  },
  {
   "cell_type": "code",
   "execution_count": 53,
   "id": "ab6f9c9d",
   "metadata": {},
   "outputs": [
    {
     "data": {
      "text/plain": [
       "False"
      ]
     },
     "execution_count": 53,
     "metadata": {},
     "output_type": "execute_result"
    }
   ],
   "source": [
    "'Venusaur' in pok#operator in świetnie pracuje ale tylko jeśli chodzi o INDEX"
   ]
  },
  {
   "cell_type": "code",
   "execution_count": 54,
   "id": "a34e827b",
   "metadata": {},
   "outputs": [
    {
     "data": {
      "text/plain": [
       "True"
      ]
     },
     "execution_count": 54,
     "metadata": {},
     "output_type": "execute_result"
    }
   ],
   "source": [
    "3 in pok"
   ]
  },
  {
   "cell_type": "code",
   "execution_count": 55,
   "id": "d9005dda",
   "metadata": {},
   "outputs": [
    {
     "data": {
      "text/plain": [
       "False"
      ]
     },
     "execution_count": 55,
     "metadata": {},
     "output_type": "execute_result"
    }
   ],
   "source": [
    "900 in pok#mamy 800 elementów"
   ]
  },
  {
   "cell_type": "code",
   "execution_count": 58,
   "id": "b71c90da",
   "metadata": {},
   "outputs": [
    {
     "data": {
      "text/plain": [
       "RangeIndex(start=0, stop=800, step=1)"
      ]
     },
     "execution_count": 58,
     "metadata": {},
     "output_type": "execute_result"
    }
   ],
   "source": [
    "pok.index#pobranie tylko indeksów"
   ]
  },
  {
   "cell_type": "code",
   "execution_count": 59,
   "id": "0b6d78e1",
   "metadata": {},
   "outputs": [
    {
     "data": {
      "text/plain": [
       "True"
      ]
     },
     "execution_count": 59,
     "metadata": {},
     "output_type": "execute_result"
    }
   ],
   "source": [
    "3 in pok.index"
   ]
  },
  {
   "cell_type": "code",
   "execution_count": 61,
   "id": "509a024d",
   "metadata": {},
   "outputs": [
    {
     "data": {
      "text/plain": [
       "False"
      ]
     },
     "execution_count": 61,
     "metadata": {},
     "output_type": "execute_result"
    }
   ],
   "source": [
    "900 in pok.index"
   ]
  },
  {
   "cell_type": "code",
   "execution_count": 62,
   "id": "c3fef02a",
   "metadata": {},
   "outputs": [
    {
     "data": {
      "text/plain": [
       "array(['Bulbasaur', 'Ivysaur', 'Venusaur', 'VenusaurMega Venusaur',\n",
       "       'Charmander', 'Charmeleon', 'Charizard',\n",
       "       'CharizardMega Charizard X', 'CharizardMega Charizard Y',\n",
       "       'Squirtle', 'Wartortle', 'Blastoise', 'BlastoiseMega Blastoise',\n",
       "       'Caterpie', 'Metapod', 'Butterfree', 'Weedle', 'Kakuna',\n",
       "       'Beedrill', 'BeedrillMega Beedrill', 'Pidgey', 'Pidgeotto',\n",
       "       'Pidgeot', 'PidgeotMega Pidgeot', 'Rattata', 'Raticate', 'Spearow',\n",
       "       'Fearow', 'Ekans', 'Arbok', 'Pikachu', 'Raichu', 'Sandshrew',\n",
       "       'Sandslash', 'Nidoran♀', 'Nidorina', 'Nidoqueen', 'Nidoran♂',\n",
       "       'Nidorino', 'Nidoking', 'Clefairy', 'Clefable', 'Vulpix',\n",
       "       'Ninetales', 'Jigglypuff', 'Wigglytuff', 'Zubat', 'Golbat',\n",
       "       'Oddish', 'Gloom', 'Vileplume', 'Paras', 'Parasect', 'Venonat',\n",
       "       'Venomoth', 'Diglett', 'Dugtrio', 'Meowth', 'Persian', 'Psyduck',\n",
       "       'Golduck', 'Mankey', 'Primeape', 'Growlithe', 'Arcanine',\n",
       "       'Poliwag', 'Poliwhirl', 'Poliwrath', 'Abra', 'Kadabra', 'Alakazam',\n",
       "       'AlakazamMega Alakazam', 'Machop', 'Machoke', 'Machamp',\n",
       "       'Bellsprout', 'Weepinbell', 'Victreebel', 'Tentacool',\n",
       "       'Tentacruel', 'Geodude', 'Graveler', 'Golem', 'Ponyta', 'Rapidash',\n",
       "       'Slowpoke', 'Slowbro', 'SlowbroMega Slowbro', 'Magnemite',\n",
       "       'Magneton', \"Farfetch'd\", 'Doduo', 'Dodrio', 'Seel', 'Dewgong',\n",
       "       'Grimer', 'Muk', 'Shellder', 'Cloyster', 'Gastly', 'Haunter',\n",
       "       'Gengar', 'GengarMega Gengar', 'Onix', 'Drowzee', 'Hypno',\n",
       "       'Krabby', 'Kingler', 'Voltorb', 'Electrode', 'Exeggcute',\n",
       "       'Exeggutor', 'Cubone', 'Marowak', 'Hitmonlee', 'Hitmonchan',\n",
       "       'Lickitung', 'Koffing', 'Weezing', 'Rhyhorn', 'Rhydon', 'Chansey',\n",
       "       'Tangela', 'Kangaskhan', 'KangaskhanMega Kangaskhan', 'Horsea',\n",
       "       'Seadra', 'Goldeen', 'Seaking', 'Staryu', 'Starmie', 'Mr. Mime',\n",
       "       'Scyther', 'Jynx', 'Electabuzz', 'Magmar', 'Pinsir',\n",
       "       'PinsirMega Pinsir', 'Tauros', 'Magikarp', 'Gyarados',\n",
       "       'GyaradosMega Gyarados', 'Lapras', 'Ditto', 'Eevee', 'Vaporeon',\n",
       "       'Jolteon', 'Flareon', 'Porygon', 'Omanyte', 'Omastar', 'Kabuto',\n",
       "       'Kabutops', 'Aerodactyl', 'AerodactylMega Aerodactyl', 'Snorlax',\n",
       "       'Articuno', 'Zapdos', 'Moltres', 'Dratini', 'Dragonair',\n",
       "       'Dragonite', 'Mewtwo', 'MewtwoMega Mewtwo X',\n",
       "       'MewtwoMega Mewtwo Y', 'Mew', 'Chikorita', 'Bayleef', 'Meganium',\n",
       "       'Cyndaquil', 'Quilava', 'Typhlosion', 'Totodile', 'Croconaw',\n",
       "       'Feraligatr', 'Sentret', 'Furret', 'Hoothoot', 'Noctowl', 'Ledyba',\n",
       "       'Ledian', 'Spinarak', 'Ariados', 'Crobat', 'Chinchou', 'Lanturn',\n",
       "       'Pichu', 'Cleffa', 'Igglybuff', 'Togepi', 'Togetic', 'Natu',\n",
       "       'Xatu', 'Mareep', 'Flaaffy', 'Ampharos', 'AmpharosMega Ampharos',\n",
       "       'Bellossom', 'Marill', 'Azumarill', 'Sudowoodo', 'Politoed',\n",
       "       'Hoppip', 'Skiploom', 'Jumpluff', 'Aipom', 'Sunkern', 'Sunflora',\n",
       "       'Yanma', 'Wooper', 'Quagsire', 'Espeon', 'Umbreon', 'Murkrow',\n",
       "       'Slowking', 'Misdreavus', 'Unown', 'Wobbuffet', 'Girafarig',\n",
       "       'Pineco', 'Forretress', 'Dunsparce', 'Gligar', 'Steelix',\n",
       "       'SteelixMega Steelix', 'Snubbull', 'Granbull', 'Qwilfish',\n",
       "       'Scizor', 'ScizorMega Scizor', 'Shuckle', 'Heracross',\n",
       "       'HeracrossMega Heracross', 'Sneasel', 'Teddiursa', 'Ursaring',\n",
       "       'Slugma', 'Magcargo', 'Swinub', 'Piloswine', 'Corsola', 'Remoraid',\n",
       "       'Octillery', 'Delibird', 'Mantine', 'Skarmory', 'Houndour',\n",
       "       'Houndoom', 'HoundoomMega Houndoom', 'Kingdra', 'Phanpy',\n",
       "       'Donphan', 'Porygon2', 'Stantler', 'Smeargle', 'Tyrogue',\n",
       "       'Hitmontop', 'Smoochum', 'Elekid', 'Magby', 'Miltank', 'Blissey',\n",
       "       'Raikou', 'Entei', 'Suicune', 'Larvitar', 'Pupitar', 'Tyranitar',\n",
       "       'TyranitarMega Tyranitar', 'Lugia', 'Ho-oh', 'Celebi', 'Treecko',\n",
       "       'Grovyle', 'Sceptile', 'SceptileMega Sceptile', 'Torchic',\n",
       "       'Combusken', 'Blaziken', 'BlazikenMega Blaziken', 'Mudkip',\n",
       "       'Marshtomp', 'Swampert', 'SwampertMega Swampert', 'Poochyena',\n",
       "       'Mightyena', 'Zigzagoon', 'Linoone', 'Wurmple', 'Silcoon',\n",
       "       'Beautifly', 'Cascoon', 'Dustox', 'Lotad', 'Lombre', 'Ludicolo',\n",
       "       'Seedot', 'Nuzleaf', 'Shiftry', 'Taillow', 'Swellow', 'Wingull',\n",
       "       'Pelipper', 'Ralts', 'Kirlia', 'Gardevoir',\n",
       "       'GardevoirMega Gardevoir', 'Surskit', 'Masquerain', 'Shroomish',\n",
       "       'Breloom', 'Slakoth', 'Vigoroth', 'Slaking', 'Nincada', 'Ninjask',\n",
       "       'Shedinja', 'Whismur', 'Loudred', 'Exploud', 'Makuhita',\n",
       "       'Hariyama', 'Azurill', 'Nosepass', 'Skitty', 'Delcatty', 'Sableye',\n",
       "       'SableyeMega Sableye', 'Mawile', 'MawileMega Mawile', 'Aron',\n",
       "       'Lairon', 'Aggron', 'AggronMega Aggron', 'Meditite', 'Medicham',\n",
       "       'MedichamMega Medicham', 'Electrike', 'Manectric',\n",
       "       'ManectricMega Manectric', 'Plusle', 'Minun', 'Volbeat',\n",
       "       'Illumise', 'Roselia', 'Gulpin', 'Swalot', 'Carvanha', 'Sharpedo',\n",
       "       'SharpedoMega Sharpedo', 'Wailmer', 'Wailord', 'Numel', 'Camerupt',\n",
       "       'CameruptMega Camerupt', 'Torkoal', 'Spoink', 'Grumpig', 'Spinda',\n",
       "       'Trapinch', 'Vibrava', 'Flygon', 'Cacnea', 'Cacturne', 'Swablu',\n",
       "       'Altaria', 'AltariaMega Altaria', 'Zangoose', 'Seviper',\n",
       "       'Lunatone', 'Solrock', 'Barboach', 'Whiscash', 'Corphish',\n",
       "       'Crawdaunt', 'Baltoy', 'Claydol', 'Lileep', 'Cradily', 'Anorith',\n",
       "       'Armaldo', 'Feebas', 'Milotic', 'Castform', 'Kecleon', 'Shuppet',\n",
       "       'Banette', 'BanetteMega Banette', 'Duskull', 'Dusclops', 'Tropius',\n",
       "       'Chimecho', 'Absol', 'AbsolMega Absol', 'Wynaut', 'Snorunt',\n",
       "       'Glalie', 'GlalieMega Glalie', 'Spheal', 'Sealeo', 'Walrein',\n",
       "       'Clamperl', 'Huntail', 'Gorebyss', 'Relicanth', 'Luvdisc', 'Bagon',\n",
       "       'Shelgon', 'Salamence', 'SalamenceMega Salamence', 'Beldum',\n",
       "       'Metang', 'Metagross', 'MetagrossMega Metagross', 'Regirock',\n",
       "       'Regice', 'Registeel', 'Latias', 'LatiasMega Latias', 'Latios',\n",
       "       'LatiosMega Latios', 'Kyogre', 'KyogrePrimal Kyogre', 'Groudon',\n",
       "       'GroudonPrimal Groudon', 'Rayquaza', 'RayquazaMega Rayquaza',\n",
       "       'Jirachi', 'DeoxysNormal Forme', 'DeoxysAttack Forme',\n",
       "       'DeoxysDefense Forme', 'DeoxysSpeed Forme', 'Turtwig', 'Grotle',\n",
       "       'Torterra', 'Chimchar', 'Monferno', 'Infernape', 'Piplup',\n",
       "       'Prinplup', 'Empoleon', 'Starly', 'Staravia', 'Staraptor',\n",
       "       'Bidoof', 'Bibarel', 'Kricketot', 'Kricketune', 'Shinx', 'Luxio',\n",
       "       'Luxray', 'Budew', 'Roserade', 'Cranidos', 'Rampardos', 'Shieldon',\n",
       "       'Bastiodon', 'Burmy', 'WormadamPlant Cloak', 'WormadamSandy Cloak',\n",
       "       'WormadamTrash Cloak', 'Mothim', 'Combee', 'Vespiquen',\n",
       "       'Pachirisu', 'Buizel', 'Floatzel', 'Cherubi', 'Cherrim', 'Shellos',\n",
       "       'Gastrodon', 'Ambipom', 'Drifloon', 'Drifblim', 'Buneary',\n",
       "       'Lopunny', 'LopunnyMega Lopunny', 'Mismagius', 'Honchkrow',\n",
       "       'Glameow', 'Purugly', 'Chingling', 'Stunky', 'Skuntank', 'Bronzor',\n",
       "       'Bronzong', 'Bonsly', 'Mime Jr.', 'Happiny', 'Chatot', 'Spiritomb',\n",
       "       'Gible', 'Gabite', 'Garchomp', 'GarchompMega Garchomp', 'Munchlax',\n",
       "       'Riolu', 'Lucario', 'LucarioMega Lucario', 'Hippopotas',\n",
       "       'Hippowdon', 'Skorupi', 'Drapion', 'Croagunk', 'Toxicroak',\n",
       "       'Carnivine', 'Finneon', 'Lumineon', 'Mantyke', 'Snover',\n",
       "       'Abomasnow', 'AbomasnowMega Abomasnow', 'Weavile', 'Magnezone',\n",
       "       'Lickilicky', 'Rhyperior', 'Tangrowth', 'Electivire', 'Magmortar',\n",
       "       'Togekiss', 'Yanmega', 'Leafeon', 'Glaceon', 'Gliscor',\n",
       "       'Mamoswine', 'Porygon-Z', 'Gallade', 'GalladeMega Gallade',\n",
       "       'Probopass', 'Dusknoir', 'Froslass', 'Rotom', 'RotomHeat Rotom',\n",
       "       'RotomWash Rotom', 'RotomFrost Rotom', 'RotomFan Rotom',\n",
       "       'RotomMow Rotom', 'Uxie', 'Mesprit', 'Azelf', 'Dialga', 'Palkia',\n",
       "       'Heatran', 'Regigigas', 'GiratinaAltered Forme',\n",
       "       'GiratinaOrigin Forme', 'Cresselia', 'Phione', 'Manaphy',\n",
       "       'Darkrai', 'ShayminLand Forme', 'ShayminSky Forme', 'Arceus',\n",
       "       'Victini', 'Snivy', 'Servine', 'Serperior', 'Tepig', 'Pignite',\n",
       "       'Emboar', 'Oshawott', 'Dewott', 'Samurott', 'Patrat', 'Watchog',\n",
       "       'Lillipup', 'Herdier', 'Stoutland', 'Purrloin', 'Liepard',\n",
       "       'Pansage', 'Simisage', 'Pansear', 'Simisear', 'Panpour',\n",
       "       'Simipour', 'Munna', 'Musharna', 'Pidove', 'Tranquill', 'Unfezant',\n",
       "       'Blitzle', 'Zebstrika', 'Roggenrola', 'Boldore', 'Gigalith',\n",
       "       'Woobat', 'Swoobat', 'Drilbur', 'Excadrill', 'Audino',\n",
       "       'AudinoMega Audino', 'Timburr', 'Gurdurr', 'Conkeldurr', 'Tympole',\n",
       "       'Palpitoad', 'Seismitoad', 'Throh', 'Sawk', 'Sewaddle', 'Swadloon',\n",
       "       'Leavanny', 'Venipede', 'Whirlipede', 'Scolipede', 'Cottonee',\n",
       "       'Whimsicott', 'Petilil', 'Lilligant', 'Basculin', 'Sandile',\n",
       "       'Krokorok', 'Krookodile', 'Darumaka', 'DarmanitanStandard Mode',\n",
       "       'DarmanitanZen Mode', 'Maractus', 'Dwebble', 'Crustle', 'Scraggy',\n",
       "       'Scrafty', 'Sigilyph', 'Yamask', 'Cofagrigus', 'Tirtouga',\n",
       "       'Carracosta', 'Archen', 'Archeops', 'Trubbish', 'Garbodor',\n",
       "       'Zorua', 'Zoroark', 'Minccino', 'Cinccino', 'Gothita', 'Gothorita',\n",
       "       'Gothitelle', 'Solosis', 'Duosion', 'Reuniclus', 'Ducklett',\n",
       "       'Swanna', 'Vanillite', 'Vanillish', 'Vanilluxe', 'Deerling',\n",
       "       'Sawsbuck', 'Emolga', 'Karrablast', 'Escavalier', 'Foongus',\n",
       "       'Amoonguss', 'Frillish', 'Jellicent', 'Alomomola', 'Joltik',\n",
       "       'Galvantula', 'Ferroseed', 'Ferrothorn', 'Klink', 'Klang',\n",
       "       'Klinklang', 'Tynamo', 'Eelektrik', 'Eelektross', 'Elgyem',\n",
       "       'Beheeyem', 'Litwick', 'Lampent', 'Chandelure', 'Axew', 'Fraxure',\n",
       "       'Haxorus', 'Cubchoo', 'Beartic', 'Cryogonal', 'Shelmet',\n",
       "       'Accelgor', 'Stunfisk', 'Mienfoo', 'Mienshao', 'Druddigon',\n",
       "       'Golett', 'Golurk', 'Pawniard', 'Bisharp', 'Bouffalant', 'Rufflet',\n",
       "       'Braviary', 'Vullaby', 'Mandibuzz', 'Heatmor', 'Durant', 'Deino',\n",
       "       'Zweilous', 'Hydreigon', 'Larvesta', 'Volcarona', 'Cobalion',\n",
       "       'Terrakion', 'Virizion', 'TornadusIncarnate Forme',\n",
       "       'TornadusTherian Forme', 'ThundurusIncarnate Forme',\n",
       "       'ThundurusTherian Forme', 'Reshiram', 'Zekrom',\n",
       "       'LandorusIncarnate Forme', 'LandorusTherian Forme', 'Kyurem',\n",
       "       'KyuremBlack Kyurem', 'KyuremWhite Kyurem', 'KeldeoOrdinary Forme',\n",
       "       'KeldeoResolute Forme', 'MeloettaAria Forme',\n",
       "       'MeloettaPirouette Forme', 'Genesect', 'Chespin', 'Quilladin',\n",
       "       'Chesnaught', 'Fennekin', 'Braixen', 'Delphox', 'Froakie',\n",
       "       'Frogadier', 'Greninja', 'Bunnelby', 'Diggersby', 'Fletchling',\n",
       "       'Fletchinder', 'Talonflame', 'Scatterbug', 'Spewpa', 'Vivillon',\n",
       "       'Litleo', 'Pyroar', 'Flabébé', 'Floette', 'Florges', 'Skiddo',\n",
       "       'Gogoat', 'Pancham', 'Pangoro', 'Furfrou', 'Espurr',\n",
       "       'MeowsticMale', 'MeowsticFemale', 'Honedge', 'Doublade',\n",
       "       'AegislashBlade Forme', 'AegislashShield Forme', 'Spritzee',\n",
       "       'Aromatisse', 'Swirlix', 'Slurpuff', 'Inkay', 'Malamar', 'Binacle',\n",
       "       'Barbaracle', 'Skrelp', 'Dragalge', 'Clauncher', 'Clawitzer',\n",
       "       'Helioptile', 'Heliolisk', 'Tyrunt', 'Tyrantrum', 'Amaura',\n",
       "       'Aurorus', 'Sylveon', 'Hawlucha', 'Dedenne', 'Carbink', 'Goomy',\n",
       "       'Sliggoo', 'Goodra', 'Klefki', 'Phantump', 'Trevenant',\n",
       "       'PumpkabooAverage Size', 'PumpkabooSmall Size',\n",
       "       'PumpkabooLarge Size', 'PumpkabooSuper Size',\n",
       "       'GourgeistAverage Size', 'GourgeistSmall Size',\n",
       "       'GourgeistLarge Size', 'GourgeistSuper Size', 'Bergmite',\n",
       "       'Avalugg', 'Noibat', 'Noivern', 'Xerneas', 'Yveltal',\n",
       "       'Zygarde50% Forme', 'Diancie', 'DiancieMega Diancie',\n",
       "       'HoopaHoopa Confined', 'HoopaHoopa Unbound', 'Volcanion'],\n",
       "      dtype=object)"
      ]
     },
     "execution_count": 62,
     "metadata": {},
     "output_type": "execute_result"
    }
   ],
   "source": [
    "pok.values"
   ]
  },
  {
   "cell_type": "code",
   "execution_count": 63,
   "id": "0c224f75",
   "metadata": {},
   "outputs": [
    {
     "data": {
      "text/plain": [
       "True"
      ]
     },
     "execution_count": 63,
     "metadata": {},
     "output_type": "execute_result"
    }
   ],
   "source": [
    "'Venusaur' in pok.values"
   ]
  },
  {
   "cell_type": "code",
   "execution_count": 64,
   "id": "3f917e1a",
   "metadata": {},
   "outputs": [
    {
     "data": {
      "text/plain": [
       "False"
      ]
     },
     "execution_count": 64,
     "metadata": {},
     "output_type": "execute_result"
    }
   ],
   "source": [
    "'Pikpik' in pok.values"
   ]
  },
  {
   "cell_type": "markdown",
   "id": "2a26d580",
   "metadata": {},
   "source": [
    "## Pobieranie wartośći po indeksie"
   ]
  },
  {
   "cell_type": "code",
   "execution_count": 65,
   "id": "454efd1c",
   "metadata": {},
   "outputs": [
    {
     "name": "stderr",
     "output_type": "stream",
     "text": [
      "C:\\Users\\juleq\\AppData\\Local\\Temp/ipykernel_13072/2444505158.py:1: FutureWarning: The squeeze argument has been deprecated and will be removed in a future version. Append .squeeze(\"columns\") to the call to squeeze.\n",
      "\n",
      "\n",
      "  pok = pd.read_csv('C:/Users/juleq/OneDrive/Desktop/pandas_kurs/course-files/pokemon.csv', usecols = ['Name'], squeeze = True)\n"
     ]
    },
    {
     "data": {
      "text/plain": [
       "0                Bulbasaur\n",
       "1                  Ivysaur\n",
       "2                 Venusaur\n",
       "3    VenusaurMega Venusaur\n",
       "4               Charmander\n",
       "Name: Name, dtype: object"
      ]
     },
     "execution_count": 65,
     "metadata": {},
     "output_type": "execute_result"
    }
   ],
   "source": [
    "pok = pd.read_csv('C:/Users/juleq/OneDrive/Desktop/pandas_kurs/course-files/pokemon.csv', usecols = ['Name'], squeeze = True)\n",
    "pok.head()"
   ]
  },
  {
   "cell_type": "code",
   "execution_count": 66,
   "id": "9fcd6964",
   "metadata": {},
   "outputs": [
    {
     "data": {
      "text/plain": [
       "'Machoke'"
      ]
     },
     "execution_count": 66,
     "metadata": {},
     "output_type": "execute_result"
    }
   ],
   "source": [
    "pok[73]"
   ]
  },
  {
   "cell_type": "code",
   "execution_count": 70,
   "id": "bf250b9f",
   "metadata": {},
   "outputs": [
    {
     "data": {
      "text/plain": [
       "64    Arcanine\n",
       "73     Machoke\n",
       "Name: Name, dtype: object"
      ]
     },
     "execution_count": 70,
     "metadata": {},
     "output_type": "execute_result"
    }
   ],
   "source": [
    "pok[[64, 73]]#żeby wywołać 2 elementy, należy otworzyć listę, stąd podwójne nawiasy kwadratowe"
   ]
  },
  {
   "cell_type": "code",
   "execution_count": 74,
   "id": "81cfe485",
   "metadata": {},
   "outputs": [
    {
     "data": {
      "text/plain": [
       "2                 Venusaur\n",
       "3    VenusaurMega Venusaur\n",
       "4               Charmander\n",
       "5               Charmeleon\n",
       "6                Charizard\n",
       "Name: Name, dtype: object"
      ]
     },
     "execution_count": 74,
     "metadata": {},
     "output_type": "execute_result"
    }
   ],
   "source": [
    "pok[2:7]#zwróć indeksy od 2 do 7"
   ]
  },
  {
   "cell_type": "code",
   "execution_count": 76,
   "id": "65497b18",
   "metadata": {},
   "outputs": [
    {
     "data": {
      "text/plain": [
       "795                Diancie\n",
       "796    DiancieMega Diancie\n",
       "797    HoopaHoopa Confined\n",
       "798     HoopaHoopa Unbound\n",
       "799              Volcanion\n",
       "Name: Name, dtype: object"
      ]
     },
     "execution_count": 76,
     "metadata": {},
     "output_type": "execute_result"
    }
   ],
   "source": [
    "pok[795:]#maja byc zwrocone wszystkie aż do końca"
   ]
  },
  {
   "cell_type": "code",
   "execution_count": 78,
   "id": "beb7b5f3",
   "metadata": {},
   "outputs": [
    {
     "data": {
      "text/plain": [
       "0                Bulbasaur\n",
       "1                  Ivysaur\n",
       "2                 Venusaur\n",
       "3    VenusaurMega Venusaur\n",
       "Name: Name, dtype: object"
      ]
     },
     "execution_count": 78,
     "metadata": {},
     "output_type": "execute_result"
    }
   ],
   "source": [
    "pok[:4]#wyświetlić wszystkie wartości do 4"
   ]
  },
  {
   "cell_type": "code",
   "execution_count": 80,
   "id": "b489d87b",
   "metadata": {},
   "outputs": [
    {
     "data": {
      "text/plain": [
       "798    HoopaHoopa Unbound\n",
       "799             Volcanion\n",
       "Name: Name, dtype: object"
      ]
     },
     "execution_count": 80,
     "metadata": {},
     "output_type": "execute_result"
    }
   ],
   "source": [
    "pok[-2:]#w przypadku ujemnego indeksu, wyszukiwanie zaczyna się od końca"
   ]
  },
  {
   "cell_type": "markdown",
   "id": "14042ee2",
   "metadata": {},
   "source": [
    "## Pobieranie wartości z serii - porównanie danych"
   ]
  },
  {
   "cell_type": "code",
   "execution_count": 81,
   "id": "2f6f8bcc",
   "metadata": {},
   "outputs": [],
   "source": [
    "index = ['a', 'b', 'c', 'd', 'e', 'e']"
   ]
  },
  {
   "cell_type": "code",
   "execution_count": 82,
   "id": "bb8ec72b",
   "metadata": {},
   "outputs": [],
   "source": [
    "values = ['Austria', 'Belgium', 'Canada', 'Denmark', 'England', 'Estonia']"
   ]
  },
  {
   "cell_type": "code",
   "execution_count": 84,
   "id": "f8ce9f09",
   "metadata": {},
   "outputs": [
    {
     "data": {
      "text/plain": [
       "a    Austria\n",
       "b    Belgium\n",
       "c     Canada\n",
       "d    Denmark\n",
       "e    England\n",
       "e    Estonia\n",
       "dtype: object"
      ]
     },
     "execution_count": 84,
     "metadata": {},
     "output_type": "execute_result"
    }
   ],
   "source": [
    "s = pd.Series(values, index)\n",
    "s"
   ]
  },
  {
   "cell_type": "markdown",
   "id": "c8d8cec1",
   "metadata": {},
   "source": [
    "### operator []"
   ]
  },
  {
   "cell_type": "code",
   "execution_count": 87,
   "id": "62cc067c",
   "metadata": {},
   "outputs": [
    {
     "data": {
      "text/plain": [
       "'Belgium'"
      ]
     },
     "execution_count": 87,
     "metadata": {},
     "output_type": "execute_result"
    }
   ],
   "source": [
    "#pobieranie obiektu przez wskazanie jego pozycji\n",
    "s[1] #tu powinien być błąd XD"
   ]
  },
  {
   "cell_type": "code",
   "execution_count": 88,
   "id": "01fa54a6",
   "metadata": {},
   "outputs": [
    {
     "data": {
      "text/plain": [
       "'Belgium'"
      ]
     },
     "execution_count": 88,
     "metadata": {},
     "output_type": "execute_result"
    }
   ],
   "source": [
    "s['b']"
   ]
  },
  {
   "cell_type": "code",
   "execution_count": 90,
   "id": "736d2404",
   "metadata": {},
   "outputs": [
    {
     "data": {
      "text/plain": [
       "e    England\n",
       "e    Estonia\n",
       "dtype: object"
      ]
     },
     "execution_count": 90,
     "metadata": {},
     "output_type": "execute_result"
    }
   ],
   "source": [
    "s['e']#podana jest seria danych pasujących do indeksu e"
   ]
  },
  {
   "cell_type": "code",
   "execution_count": 93,
   "id": "c4e944c3",
   "metadata": {},
   "outputs": [],
   "source": [
    "#s['f'] #error bo nei ma takiego indeksu"
   ]
  },
  {
   "cell_type": "markdown",
   "id": "9fbdb968",
   "metadata": {},
   "source": [
    "### method get()"
   ]
  },
  {
   "cell_type": "code",
   "execution_count": 95,
   "id": "0409135c",
   "metadata": {},
   "outputs": [
    {
     "data": {
      "text/plain": [
       "'Belgium'"
      ]
     },
     "execution_count": 95,
     "metadata": {},
     "output_type": "execute_result"
    }
   ],
   "source": [
    "#pobieranie wartości przez pozycje\n",
    "s.get(1)#argh powinien być błąd!!!"
   ]
  },
  {
   "cell_type": "code",
   "execution_count": 96,
   "id": "f0e978f7",
   "metadata": {},
   "outputs": [
    {
     "data": {
      "text/plain": [
       "'Belgium'"
      ]
     },
     "execution_count": 96,
     "metadata": {},
     "output_type": "execute_result"
    }
   ],
   "source": [
    "#pobieranie po istniejacym indexie\n",
    "s.get('b')"
   ]
  },
  {
   "cell_type": "code",
   "execution_count": 97,
   "id": "61e37ddc",
   "metadata": {},
   "outputs": [
    {
     "data": {
      "text/plain": [
       "e    England\n",
       "e    Estonia\n",
       "dtype: object"
      ]
     },
     "execution_count": 97,
     "metadata": {},
     "output_type": "execute_result"
    }
   ],
   "source": [
    "#nieunikalny index\n",
    "s.get('e')"
   ]
  },
  {
   "cell_type": "code",
   "execution_count": 99,
   "id": "4427b166",
   "metadata": {},
   "outputs": [],
   "source": [
    "#element nieistniejący\n",
    "s.get('f')#nie ma błędu, co może wprowadzać w błąd !!!"
   ]
  },
  {
   "cell_type": "markdown",
   "id": "6d33e004",
   "metadata": {},
   "source": [
    "### at []"
   ]
  },
  {
   "cell_type": "code",
   "execution_count": 103,
   "id": "70ee9f17",
   "metadata": {},
   "outputs": [],
   "source": [
    "#pobranie przez wskazanie pozycji\n",
    "#s.at[1]#no w końcu error!"
   ]
  },
  {
   "cell_type": "code",
   "execution_count": 104,
   "id": "fa195b2d",
   "metadata": {},
   "outputs": [
    {
     "data": {
      "text/plain": [
       "'Belgium'"
      ]
     },
     "execution_count": 104,
     "metadata": {},
     "output_type": "execute_result"
    }
   ],
   "source": [
    "#wartośćistniejącego indexu\n",
    "s.at['b']"
   ]
  },
  {
   "cell_type": "code",
   "execution_count": 109,
   "id": "8c8a544e",
   "metadata": {},
   "outputs": [
    {
     "data": {
      "text/plain": [
       "e    England\n",
       "e    Estonia\n",
       "dtype: object"
      ]
     },
     "execution_count": 109,
     "metadata": {},
     "output_type": "execute_result"
    }
   ],
   "source": [
    "s.at['e']#dostajemy listę a nie serię"
   ]
  },
  {
   "cell_type": "code",
   "execution_count": 110,
   "id": "f7482c4a",
   "metadata": {},
   "outputs": [],
   "source": [
    "#s.at['f']#wyrzuca błąd!"
   ]
  },
  {
   "cell_type": "markdown",
   "id": "5bff174f",
   "metadata": {},
   "source": [
    "### iat[]\n",
    "Wyszukuje po pozycji a nie po wartości indeksu"
   ]
  },
  {
   "cell_type": "code",
   "execution_count": 113,
   "id": "45e7d3f6",
   "metadata": {},
   "outputs": [
    {
     "data": {
      "text/plain": [
       "'Belgium'"
      ]
     },
     "execution_count": 113,
     "metadata": {},
     "output_type": "execute_result"
    }
   ],
   "source": [
    "s.iat[1]"
   ]
  },
  {
   "cell_type": "code",
   "execution_count": 115,
   "id": "fbbef3db",
   "metadata": {},
   "outputs": [],
   "source": [
    "#s.iat['b'] wyświetla błąd"
   ]
  },
  {
   "cell_type": "code",
   "execution_count": 117,
   "id": "18be8c13",
   "metadata": {},
   "outputs": [],
   "source": [
    "#s.iat[[0, 1]] # wyświetla siębłąd, metoda da nie pracuje z wieloma wartościami"
   ]
  },
  {
   "cell_type": "code",
   "execution_count": 119,
   "id": "0b12c641",
   "metadata": {},
   "outputs": [],
   "source": [
    "#s.iat[99] w przypadku nieistniejacego indeksu zwraca błąd"
   ]
  },
  {
   "cell_type": "markdown",
   "id": "bb0ccde3",
   "metadata": {},
   "source": [
    "### loc[]\n",
    "Zwraca po indeksie"
   ]
  },
  {
   "cell_type": "code",
   "execution_count": 126,
   "id": "f6efa099",
   "metadata": {},
   "outputs": [],
   "source": [
    "#s.loc[1] #error"
   ]
  },
  {
   "cell_type": "code",
   "execution_count": 127,
   "id": "8f6517b5",
   "metadata": {},
   "outputs": [
    {
     "data": {
      "text/plain": [
       "'Belgium'"
      ]
     },
     "execution_count": 127,
     "metadata": {},
     "output_type": "execute_result"
    }
   ],
   "source": [
    "s.loc['b']"
   ]
  },
  {
   "cell_type": "code",
   "execution_count": 129,
   "id": "655ce480",
   "metadata": {},
   "outputs": [
    {
     "data": {
      "text/plain": [
       "e    England\n",
       "e    Estonia\n",
       "dtype: object"
      ]
     },
     "execution_count": 129,
     "metadata": {},
     "output_type": "execute_result"
    }
   ],
   "source": [
    "s.loc['e']#odp to seria danych"
   ]
  },
  {
   "cell_type": "code",
   "execution_count": 131,
   "id": "19cf0f71",
   "metadata": {},
   "outputs": [],
   "source": [
    "#s.loc['f'] error"
   ]
  },
  {
   "cell_type": "markdown",
   "id": "7f8c3c2b",
   "metadata": {},
   "source": [
    "### iloc[]\n",
    "Metoda pracująca na pozycji w indeksie"
   ]
  },
  {
   "cell_type": "code",
   "execution_count": 132,
   "id": "eb0bf087",
   "metadata": {},
   "outputs": [
    {
     "data": {
      "text/plain": [
       "'Belgium'"
      ]
     },
     "execution_count": 132,
     "metadata": {},
     "output_type": "execute_result"
    }
   ],
   "source": [
    "s.iloc[1]"
   ]
  },
  {
   "cell_type": "code",
   "execution_count": 134,
   "id": "ce870260",
   "metadata": {},
   "outputs": [],
   "source": [
    "#s.iloc['b'] odwołanie po wartości indeksu kończy się błędem"
   ]
  },
  {
   "cell_type": "code",
   "execution_count": 140,
   "id": "0a1e39d4",
   "metadata": {},
   "outputs": [
    {
     "data": {
      "text/plain": [
       "a    Austria\n",
       "b    Belgium\n",
       "dtype: object"
      ]
     },
     "execution_count": 140,
     "metadata": {},
     "output_type": "execute_result"
    }
   ],
   "source": [
    "s.iloc[[0, 1]] #wow, zwraca serie"
   ]
  },
  {
   "cell_type": "code",
   "execution_count": 142,
   "id": "6cf7d8cf",
   "metadata": {},
   "outputs": [],
   "source": [
    "#s.iloc[6] error bo nieistniejaca pozycja"
   ]
  },
  {
   "cell_type": "markdown",
   "id": "31fbb338",
   "metadata": {},
   "source": [
    "Funkcja ix[] jest inteligenta, zakazana, działa za dobrze, nie należy z niej korzystać"
   ]
  },
  {
   "cell_type": "markdown",
   "id": "5c79c413",
   "metadata": {},
   "source": [
    "## Reindex i intersection"
   ]
  },
  {
   "cell_type": "code",
   "execution_count": 144,
   "id": "405c530e",
   "metadata": {},
   "outputs": [
    {
     "data": {
      "text/plain": [
       "a     Austria\n",
       "b     Belgium\n",
       "c      Canada\n",
       "d     Denmark\n",
       "e1    England\n",
       "e2    Estonia\n",
       "dtype: object"
      ]
     },
     "execution_count": 144,
     "metadata": {},
     "output_type": "execute_result"
    }
   ],
   "source": [
    "index = ['a', 'b', 'c', 'd', 'e1', 'e2']\n",
    "values = ['Austria', 'Belgium', 'Canada', 'Denmark', 'England', 'Estonia']\n",
    "s = pd.Series(values, index)\n",
    "s"
   ]
  },
  {
   "cell_type": "code",
   "execution_count": 145,
   "id": "dab9e1ad",
   "metadata": {},
   "outputs": [],
   "source": [
    "searchList = ['a', 'b']"
   ]
  },
  {
   "cell_type": "code",
   "execution_count": 146,
   "id": "844ee1e3",
   "metadata": {},
   "outputs": [
    {
     "data": {
      "text/plain": [
       "a    Austria\n",
       "b    Belgium\n",
       "dtype: object"
      ]
     },
     "execution_count": 146,
     "metadata": {},
     "output_type": "execute_result"
    }
   ],
   "source": [
    "s.loc[searchList]"
   ]
  },
  {
   "cell_type": "code",
   "execution_count": 147,
   "id": "dbed6882",
   "metadata": {},
   "outputs": [],
   "source": [
    "searchListNotFound = ['a', 'b', 'f']"
   ]
  },
  {
   "cell_type": "code",
   "execution_count": 150,
   "id": "0ad2ee25",
   "metadata": {},
   "outputs": [],
   "source": [
    "#s.loc[searchListNotFound] error, bo nie ma f"
   ]
  },
  {
   "cell_type": "code",
   "execution_count": 153,
   "id": "6fedac57",
   "metadata": {},
   "outputs": [
    {
     "data": {
      "text/plain": [
       "a    Austria\n",
       "b    Belgium\n",
       "f        NaN\n",
       "dtype: object"
      ]
     },
     "execution_count": 153,
     "metadata": {},
     "output_type": "execute_result"
    }
   ],
   "source": [
    "s.reindex(searchListNotFound)#reindex ma zwrócić nową serię, a ta seria zostanie zbudowana w pewien specyficzny sposób\n",
    "#będą brane pod uwagę wszystkie elementy znajdujące się na liście która została została przekazana jako argument do \n",
    "#polecenia reindex, mozliwosci sa tylko 2:albo ta wartosc znajduje sie juz w serii jako index albo nie (zostanie dodany\n",
    "# do zwracanej serii, dodany zostanie index a do niego przypisana zostanie wartość NaN)"
   ]
  },
  {
   "cell_type": "code",
   "execution_count": 157,
   "id": "3c6c74e0",
   "metadata": {},
   "outputs": [
    {
     "data": {
      "text/plain": [
       "Index(['a', 'b', 'c', 'd', 'e1', 'e2'], dtype='object')"
      ]
     },
     "execution_count": 157,
     "metadata": {},
     "output_type": "execute_result"
    }
   ],
   "source": [
    "s.index"
   ]
  },
  {
   "cell_type": "markdown",
   "id": "a80b79f2",
   "metadata": {},
   "source": [
    "Wiadomo że indeks z serii jest pewną listą, z kolei każda lista ma metodę intersection. MEtoda ta ma za zadanie zwrócić listę elementów, która występuje i w jednej i drugiej liście. ( w oryginalnej liście i tej przekazanej jako argument"
   ]
  },
  {
   "cell_type": "code",
   "execution_count": 155,
   "id": "7a625c17",
   "metadata": {},
   "outputs": [
    {
     "data": {
      "text/plain": [
       "Index(['a', 'b'], dtype='object')"
      ]
     },
     "execution_count": 155,
     "metadata": {},
     "output_type": "execute_result"
    }
   ],
   "source": [
    "s.index.intersection(searchListNotFound)#info o części wspólnej"
   ]
  },
  {
   "cell_type": "code",
   "execution_count": 158,
   "id": "0b44405b",
   "metadata": {},
   "outputs": [
    {
     "data": {
      "text/plain": [
       "a    Austria\n",
       "b    Belgium\n",
       "dtype: object"
      ]
     },
     "execution_count": 158,
     "metadata": {},
     "output_type": "execute_result"
    }
   ],
   "source": [
    "s.loc[s.index.intersection(searchListNotFound)]#nie ma f bo nei występowało na obu listach"
   ]
  },
  {
   "cell_type": "markdown",
   "id": "af5d9bf2",
   "metadata": {},
   "source": [
    "Przedstawione tutaj metody mają pewną wadę. Mianowicie wymagają aby lista wejściowa nie posiadała duplikatów."
   ]
  },
  {
   "cell_type": "code",
   "execution_count": 159,
   "id": "47dc79b3",
   "metadata": {},
   "outputs": [
    {
     "data": {
      "text/plain": [
       "a    Austria\n",
       "b    Belgium\n",
       "c     Canada\n",
       "d    Denmark\n",
       "e    England\n",
       "e    Estonia\n",
       "dtype: object"
      ]
     },
     "execution_count": 159,
     "metadata": {},
     "output_type": "execute_result"
    }
   ],
   "source": [
    "#prowokacja błędu\n",
    "index = ['a', 'b', 'c', 'd', 'e', 'e']\n",
    "values = ['Austria', 'Belgium', 'Canada', 'Denmark', 'England', 'Estonia']\n",
    "s = pd.Series(values, index)\n",
    "s"
   ]
  },
  {
   "cell_type": "code",
   "execution_count": 162,
   "id": "ce3873b1",
   "metadata": {},
   "outputs": [],
   "source": [
    "#s.reindex(searchListNotFound) error - nieunikalne wartośći!"
   ]
  },
  {
   "cell_type": "code",
   "execution_count": 168,
   "id": "b83d1e0f",
   "metadata": {},
   "outputs": [
    {
     "data": {
      "text/plain": [
       "a    Austria\n",
       "b    Belgium\n",
       "e    England\n",
       "e    Estonia\n",
       "dtype: object"
      ]
     },
     "execution_count": 168,
     "metadata": {},
     "output_type": "execute_result"
    }
   ],
   "source": [
    "s.loc[s.index.intersection(searchListNotFound)]#wynik wygląda poprawnie, ale jest mały haczyk"
   ]
  },
  {
   "cell_type": "code",
   "execution_count": 171,
   "id": "e5d53d56",
   "metadata": {},
   "outputs": [
    {
     "data": {
      "text/plain": [
       "['a', 'b', 'f', 'e', 'e', 'e', 'e']"
      ]
     },
     "execution_count": 171,
     "metadata": {},
     "output_type": "execute_result"
    }
   ],
   "source": [
    "searchListNotFound += 'e'\n",
    "searchListNotFound"
   ]
  },
  {
   "cell_type": "code",
   "execution_count": 172,
   "id": "1a3d7b6c",
   "metadata": {},
   "outputs": [
    {
     "data": {
      "text/plain": [
       "a    Austria\n",
       "b    Belgium\n",
       "e    England\n",
       "e    Estonia\n",
       "dtype: object"
      ]
     },
     "execution_count": 172,
     "metadata": {},
     "output_type": "execute_result"
    }
   ],
   "source": [
    "s.loc[s.index.intersection(searchListNotFound)]"
   ]
  },
  {
   "cell_type": "markdown",
   "id": "01cbb1d1",
   "metadata": {},
   "source": [
    "## Określanie indeksu podczas importu"
   ]
  },
  {
   "cell_type": "code",
   "execution_count": 173,
   "id": "525ed7a0",
   "metadata": {},
   "outputs": [
    {
     "data": {
      "text/html": [
       "<div>\n",
       "<style scoped>\n",
       "    .dataframe tbody tr th:only-of-type {\n",
       "        vertical-align: middle;\n",
       "    }\n",
       "\n",
       "    .dataframe tbody tr th {\n",
       "        vertical-align: top;\n",
       "    }\n",
       "\n",
       "    .dataframe thead th {\n",
       "        text-align: right;\n",
       "    }\n",
       "</style>\n",
       "<table border=\"1\" class=\"dataframe\">\n",
       "  <thead>\n",
       "    <tr style=\"text-align: right;\">\n",
       "      <th></th>\n",
       "      <th>#</th>\n",
       "      <th>Name</th>\n",
       "      <th>Type 1</th>\n",
       "      <th>Type 2</th>\n",
       "      <th>Total</th>\n",
       "      <th>HP</th>\n",
       "      <th>Attack</th>\n",
       "      <th>Defense</th>\n",
       "      <th>Sp. Atk</th>\n",
       "      <th>Sp. Def</th>\n",
       "      <th>Speed</th>\n",
       "      <th>Generation</th>\n",
       "      <th>Legendary</th>\n",
       "    </tr>\n",
       "  </thead>\n",
       "  <tbody>\n",
       "    <tr>\n",
       "      <th>0</th>\n",
       "      <td>1</td>\n",
       "      <td>Bulbasaur</td>\n",
       "      <td>Grass</td>\n",
       "      <td>Poison</td>\n",
       "      <td>318</td>\n",
       "      <td>45</td>\n",
       "      <td>49</td>\n",
       "      <td>49</td>\n",
       "      <td>65</td>\n",
       "      <td>65</td>\n",
       "      <td>45</td>\n",
       "      <td>1</td>\n",
       "      <td>False</td>\n",
       "    </tr>\n",
       "    <tr>\n",
       "      <th>1</th>\n",
       "      <td>2</td>\n",
       "      <td>Ivysaur</td>\n",
       "      <td>Grass</td>\n",
       "      <td>Poison</td>\n",
       "      <td>405</td>\n",
       "      <td>60</td>\n",
       "      <td>62</td>\n",
       "      <td>63</td>\n",
       "      <td>80</td>\n",
       "      <td>80</td>\n",
       "      <td>60</td>\n",
       "      <td>1</td>\n",
       "      <td>False</td>\n",
       "    </tr>\n",
       "    <tr>\n",
       "      <th>2</th>\n",
       "      <td>3</td>\n",
       "      <td>Venusaur</td>\n",
       "      <td>Grass</td>\n",
       "      <td>Poison</td>\n",
       "      <td>525</td>\n",
       "      <td>80</td>\n",
       "      <td>82</td>\n",
       "      <td>83</td>\n",
       "      <td>100</td>\n",
       "      <td>100</td>\n",
       "      <td>80</td>\n",
       "      <td>1</td>\n",
       "      <td>False</td>\n",
       "    </tr>\n",
       "    <tr>\n",
       "      <th>3</th>\n",
       "      <td>3</td>\n",
       "      <td>VenusaurMega Venusaur</td>\n",
       "      <td>Grass</td>\n",
       "      <td>Poison</td>\n",
       "      <td>625</td>\n",
       "      <td>80</td>\n",
       "      <td>100</td>\n",
       "      <td>123</td>\n",
       "      <td>122</td>\n",
       "      <td>120</td>\n",
       "      <td>80</td>\n",
       "      <td>1</td>\n",
       "      <td>False</td>\n",
       "    </tr>\n",
       "    <tr>\n",
       "      <th>4</th>\n",
       "      <td>4</td>\n",
       "      <td>Charmander</td>\n",
       "      <td>Fire</td>\n",
       "      <td>NaN</td>\n",
       "      <td>309</td>\n",
       "      <td>39</td>\n",
       "      <td>52</td>\n",
       "      <td>43</td>\n",
       "      <td>60</td>\n",
       "      <td>50</td>\n",
       "      <td>65</td>\n",
       "      <td>1</td>\n",
       "      <td>False</td>\n",
       "    </tr>\n",
       "    <tr>\n",
       "      <th>...</th>\n",
       "      <td>...</td>\n",
       "      <td>...</td>\n",
       "      <td>...</td>\n",
       "      <td>...</td>\n",
       "      <td>...</td>\n",
       "      <td>...</td>\n",
       "      <td>...</td>\n",
       "      <td>...</td>\n",
       "      <td>...</td>\n",
       "      <td>...</td>\n",
       "      <td>...</td>\n",
       "      <td>...</td>\n",
       "      <td>...</td>\n",
       "    </tr>\n",
       "    <tr>\n",
       "      <th>795</th>\n",
       "      <td>719</td>\n",
       "      <td>Diancie</td>\n",
       "      <td>Rock</td>\n",
       "      <td>Fairy</td>\n",
       "      <td>600</td>\n",
       "      <td>50</td>\n",
       "      <td>100</td>\n",
       "      <td>150</td>\n",
       "      <td>100</td>\n",
       "      <td>150</td>\n",
       "      <td>50</td>\n",
       "      <td>6</td>\n",
       "      <td>True</td>\n",
       "    </tr>\n",
       "    <tr>\n",
       "      <th>796</th>\n",
       "      <td>719</td>\n",
       "      <td>DiancieMega Diancie</td>\n",
       "      <td>Rock</td>\n",
       "      <td>Fairy</td>\n",
       "      <td>700</td>\n",
       "      <td>50</td>\n",
       "      <td>160</td>\n",
       "      <td>110</td>\n",
       "      <td>160</td>\n",
       "      <td>110</td>\n",
       "      <td>110</td>\n",
       "      <td>6</td>\n",
       "      <td>True</td>\n",
       "    </tr>\n",
       "    <tr>\n",
       "      <th>797</th>\n",
       "      <td>720</td>\n",
       "      <td>HoopaHoopa Confined</td>\n",
       "      <td>Psychic</td>\n",
       "      <td>Ghost</td>\n",
       "      <td>600</td>\n",
       "      <td>80</td>\n",
       "      <td>110</td>\n",
       "      <td>60</td>\n",
       "      <td>150</td>\n",
       "      <td>130</td>\n",
       "      <td>70</td>\n",
       "      <td>6</td>\n",
       "      <td>True</td>\n",
       "    </tr>\n",
       "    <tr>\n",
       "      <th>798</th>\n",
       "      <td>720</td>\n",
       "      <td>HoopaHoopa Unbound</td>\n",
       "      <td>Psychic</td>\n",
       "      <td>Dark</td>\n",
       "      <td>680</td>\n",
       "      <td>80</td>\n",
       "      <td>160</td>\n",
       "      <td>60</td>\n",
       "      <td>170</td>\n",
       "      <td>130</td>\n",
       "      <td>80</td>\n",
       "      <td>6</td>\n",
       "      <td>True</td>\n",
       "    </tr>\n",
       "    <tr>\n",
       "      <th>799</th>\n",
       "      <td>721</td>\n",
       "      <td>Volcanion</td>\n",
       "      <td>Fire</td>\n",
       "      <td>Water</td>\n",
       "      <td>600</td>\n",
       "      <td>80</td>\n",
       "      <td>110</td>\n",
       "      <td>120</td>\n",
       "      <td>130</td>\n",
       "      <td>90</td>\n",
       "      <td>70</td>\n",
       "      <td>6</td>\n",
       "      <td>True</td>\n",
       "    </tr>\n",
       "  </tbody>\n",
       "</table>\n",
       "<p>800 rows × 13 columns</p>\n",
       "</div>"
      ],
      "text/plain": [
       "       #                   Name   Type 1  Type 2  Total  HP  Attack  Defense  \\\n",
       "0      1              Bulbasaur    Grass  Poison    318  45      49       49   \n",
       "1      2                Ivysaur    Grass  Poison    405  60      62       63   \n",
       "2      3               Venusaur    Grass  Poison    525  80      82       83   \n",
       "3      3  VenusaurMega Venusaur    Grass  Poison    625  80     100      123   \n",
       "4      4             Charmander     Fire     NaN    309  39      52       43   \n",
       "..   ...                    ...      ...     ...    ...  ..     ...      ...   \n",
       "795  719                Diancie     Rock   Fairy    600  50     100      150   \n",
       "796  719    DiancieMega Diancie     Rock   Fairy    700  50     160      110   \n",
       "797  720    HoopaHoopa Confined  Psychic   Ghost    600  80     110       60   \n",
       "798  720     HoopaHoopa Unbound  Psychic    Dark    680  80     160       60   \n",
       "799  721              Volcanion     Fire   Water    600  80     110      120   \n",
       "\n",
       "     Sp. Atk  Sp. Def  Speed  Generation  Legendary  \n",
       "0         65       65     45           1      False  \n",
       "1         80       80     60           1      False  \n",
       "2        100      100     80           1      False  \n",
       "3        122      120     80           1      False  \n",
       "4         60       50     65           1      False  \n",
       "..       ...      ...    ...         ...        ...  \n",
       "795      100      150     50           6       True  \n",
       "796      160      110    110           6       True  \n",
       "797      150      130     70           6       True  \n",
       "798      170      130     80           6       True  \n",
       "799      130       90     70           6       True  \n",
       "\n",
       "[800 rows x 13 columns]"
      ]
     },
     "execution_count": 173,
     "metadata": {},
     "output_type": "execute_result"
    }
   ],
   "source": [
    "pd.read_csv('C:/Users/juleq/OneDrive/Desktop/pandas_kurs/course-files/pokemon.csv')"
   ]
  },
  {
   "cell_type": "code",
   "execution_count": 174,
   "id": "ffebee33",
   "metadata": {},
   "outputs": [
    {
     "name": "stderr",
     "output_type": "stream",
     "text": [
      "C:\\Users\\juleq\\AppData\\Local\\Temp/ipykernel_13072/1072449191.py:1: FutureWarning: The squeeze argument has been deprecated and will be removed in a future version. Append .squeeze(\"columns\") to the call to squeeze.\n",
      "\n",
      "\n",
      "  pd.read_csv('C:/Users/juleq/OneDrive/Desktop/pandas_kurs/course-files/pokemon.csv', usecols=['Attack'], squeeze = True)\n"
     ]
    },
    {
     "data": {
      "text/plain": [
       "0       49\n",
       "1       62\n",
       "2       82\n",
       "3      100\n",
       "4       52\n",
       "      ... \n",
       "795    100\n",
       "796    160\n",
       "797    110\n",
       "798    160\n",
       "799    110\n",
       "Name: Attack, Length: 800, dtype: int64"
      ]
     },
     "execution_count": 174,
     "metadata": {},
     "output_type": "execute_result"
    }
   ],
   "source": [
    "pd.read_csv('C:/Users/juleq/OneDrive/Desktop/pandas_kurs/course-files/pokemon.csv', usecols=['Attack'], squeeze = True)"
   ]
  },
  {
   "cell_type": "code",
   "execution_count": 180,
   "id": "c15b2efa",
   "metadata": {},
   "outputs": [
    {
     "name": "stderr",
     "output_type": "stream",
     "text": [
      "C:\\Users\\juleq\\AppData\\Local\\Temp/ipykernel_13072/986167887.py:1: FutureWarning: The squeeze argument has been deprecated and will be removed in a future version. Append .squeeze(\"columns\") to the call to squeeze.\n",
      "\n",
      "\n",
      "  ser1 = pd.read_csv('C:/Users/juleq/OneDrive/Desktop/pandas_kurs/course-files/pokemon.csv', usecols=['Attack', '#'],\n"
     ]
    },
    {
     "data": {
      "text/plain": [
       "#\n",
       "1       49\n",
       "2       62\n",
       "3       82\n",
       "3      100\n",
       "4       52\n",
       "      ... \n",
       "719    100\n",
       "719    160\n",
       "720    110\n",
       "720    160\n",
       "721    110\n",
       "Name: Attack, Length: 800, dtype: int64"
      ]
     },
     "execution_count": 180,
     "metadata": {},
     "output_type": "execute_result"
    }
   ],
   "source": [
    "ser1 = pd.read_csv('C:/Users/juleq/OneDrive/Desktop/pandas_kurs/course-files/pokemon.csv', usecols=['Attack', '#'],\n",
    "                    squeeze = True, index_col = '#')\n",
    "ser1"
   ]
  },
  {
   "cell_type": "code",
   "execution_count": 181,
   "id": "5e89fb88",
   "metadata": {},
   "outputs": [
    {
     "data": {
      "text/plain": [
       "#\n",
       "1      49\n",
       "11     20\n",
       "111    85\n",
       "Name: Attack, dtype: int64"
      ]
     },
     "execution_count": 181,
     "metadata": {},
     "output_type": "execute_result"
    }
   ],
   "source": [
    "ser1[[1, 11, 111]]"
   ]
  },
  {
   "cell_type": "code",
   "execution_count": 194,
   "id": "5646a644",
   "metadata": {},
   "outputs": [
    {
     "name": "stderr",
     "output_type": "stream",
     "text": [
      "C:\\Users\\juleq\\AppData\\Local\\Temp/ipykernel_13072/2949020510.py:1: FutureWarning: The squeeze argument has been deprecated and will be removed in a future version. Append .squeeze(\"columns\") to the call to squeeze.\n",
      "\n",
      "\n",
      "  ser2 = pd.read_csv('C:/Users/juleq/OneDrive/Desktop/pandas_kurs/course-files/pokemon.csv', usecols=['Name', 'Attack'],\n"
     ]
    },
    {
     "data": {
      "text/plain": [
       "Name\n",
       "Bulbasaur                 49\n",
       "Ivysaur                   62\n",
       "Venusaur                  82\n",
       "VenusaurMega Venusaur    100\n",
       "Charmander                52\n",
       "                        ... \n",
       "Diancie                  100\n",
       "DiancieMega Diancie      160\n",
       "HoopaHoopa Confined      110\n",
       "HoopaHoopa Unbound       160\n",
       "Volcanion                110\n",
       "Name: Attack, Length: 800, dtype: int64"
      ]
     },
     "execution_count": 194,
     "metadata": {},
     "output_type": "execute_result"
    }
   ],
   "source": [
    "ser2 = pd.read_csv('C:/Users/juleq/OneDrive/Desktop/pandas_kurs/course-files/pokemon.csv', usecols=['Name', 'Attack'], \n",
    "            squeeze = True, index_col = 'Name')\n",
    "ser2"
   ]
  },
  {
   "cell_type": "code",
   "execution_count": 195,
   "id": "37afcaf3",
   "metadata": {},
   "outputs": [
    {
     "data": {
      "text/plain": [
       "52"
      ]
     },
     "execution_count": 195,
     "metadata": {},
     "output_type": "execute_result"
    }
   ],
   "source": [
    "ser2['Charmander']"
   ]
  },
  {
   "cell_type": "code",
   "execution_count": 196,
   "id": "c67797a5",
   "metadata": {},
   "outputs": [
    {
     "data": {
      "text/plain": [
       "Name\n",
       "Ivysaur                   62\n",
       "Venusaur                  82\n",
       "VenusaurMega Venusaur    100\n",
       "Charmander                52\n",
       "Name: Attack, dtype: int64"
      ]
     },
     "execution_count": 196,
     "metadata": {},
     "output_type": "execute_result"
    }
   ],
   "source": [
    "ser2['Ivysaur':'Charmander']"
   ]
  },
  {
   "cell_type": "code",
   "execution_count": 197,
   "id": "fd825033",
   "metadata": {},
   "outputs": [
    {
     "data": {
      "text/plain": [
       "Name\n",
       "Ivysaur       62\n",
       "Venusaur      82\n",
       "Charmander    52\n",
       "Name: Attack, dtype: int64"
      ]
     },
     "execution_count": 197,
     "metadata": {},
     "output_type": "execute_result"
    }
   ],
   "source": [
    "ser2[['Ivysaur','Venusaur','Charmander']]"
   ]
  },
  {
   "cell_type": "code",
   "execution_count": 198,
   "id": "8dfe270e",
   "metadata": {},
   "outputs": [
    {
     "data": {
      "text/plain": [
       "82"
      ]
     },
     "execution_count": 198,
     "metadata": {},
     "output_type": "execute_result"
    }
   ],
   "source": [
    "ser2[2]"
   ]
  },
  {
   "cell_type": "code",
   "execution_count": 200,
   "id": "0e5a7acc",
   "metadata": {},
   "outputs": [],
   "source": [
    "#ser2.loc[2] errrror"
   ]
  },
  {
   "cell_type": "code",
   "execution_count": 202,
   "id": "e34ff056",
   "metadata": {},
   "outputs": [
    {
     "data": {
      "text/plain": [
       "82"
      ]
     },
     "execution_count": 202,
     "metadata": {},
     "output_type": "execute_result"
    }
   ],
   "source": [
    "ser2.iloc[2]"
   ]
  }
 ],
 "metadata": {
  "kernelspec": {
   "display_name": "Python 3 (ipykernel)",
   "language": "python",
   "name": "python3"
  },
  "language_info": {
   "codemirror_mode": {
    "name": "ipython",
    "version": 3
   },
   "file_extension": ".py",
   "mimetype": "text/x-python",
   "name": "python",
   "nbconvert_exporter": "python",
   "pygments_lexer": "ipython3",
   "version": "3.8.12"
  }
 },
 "nbformat": 4,
 "nbformat_minor": 5
}
